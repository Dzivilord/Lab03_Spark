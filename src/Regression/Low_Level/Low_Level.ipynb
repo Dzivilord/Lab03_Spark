{
  "cells": [
    {
      "cell_type": "markdown",
      "id": "6e4181f2",
      "metadata": {
        "id": "6e4181f2"
      },
      "source": [
        "# Low-level"
      ]
    },
    {
      "cell_type": "markdown",
      "id": "db0ee958",
      "metadata": {
        "id": "db0ee958"
      },
      "source": [
        "---"
      ]
    },
    {
      "cell_type": "markdown",
      "id": "7efc5449",
      "metadata": {
        "id": "7efc5449"
      },
      "source": [
        "## Kiểm tra môi trường"
      ]
    },
    {
      "cell_type": "code",
      "execution_count": 1,
      "id": "c8f9a01d",
      "metadata": {
        "colab": {
          "base_uri": "https://localhost:8080/",
          "height": 36
        },
        "id": "c8f9a01d",
        "outputId": "1e55419b-c745-45c9-9d8b-30556ec87698"
      },
      "outputs": [
        {
          "data": {
            "application/vnd.google.colaboratory.intrinsic+json": {
              "type": "string"
            },
            "text/plain": [
              "'/usr/bin/python3'"
            ]
          },
          "execution_count": 1,
          "metadata": {},
          "output_type": "execute_result"
        }
      ],
      "source": [
        "import sys\n",
        "import os\n",
        "sys.executable"
      ]
    },
    {
      "cell_type": "markdown",
      "id": "1fda739e",
      "metadata": {
        "id": "1fda739e"
      },
      "source": [
        "## Import các thư viện cần thiết"
      ]
    },
    {
      "cell_type": "code",
      "execution_count": 19,
      "id": "e7d4c9b1",
      "metadata": {
        "id": "e7d4c9b1"
      },
      "outputs": [],
      "source": [
        "from pyspark.sql import SparkSession\n",
        "from pyspark.sql import functions as F, Row\n",
        "from pyspark.mllib.tree import DecisionTree\n",
        "from pyspark.mllib.evaluation import RegressionMetrics\n",
        "from pyspark.mllib.regression import LabeledPoint\n",
        "from pyspark.mllib.linalg import Vectors\n",
        "import pandas as pd\n",
        "import time\n",
        "from math import sqrt\n"
      ]
    },
    {
      "cell_type": "markdown",
      "id": "9a3cf5e2",
      "metadata": {
        "id": "9a3cf5e2"
      },
      "source": [
        "## Spark initialization"
      ]
    },
    {
      "cell_type": "code",
      "execution_count": 3,
      "id": "36586713",
      "metadata": {
        "id": "36586713"
      },
      "outputs": [],
      "source": [
        "spark = SparkSession.builder \\\n",
        "    .appName(\"DecisionTreeRegressor\") \\\n",
        "        .getOrCreate()\n",
        "sc = spark.sparkContext"
      ]
    },
    {
      "cell_type": "markdown",
      "id": "c7710bc4",
      "metadata": {
        "id": "c7710bc4"
      },
      "source": [
        "## Load the dataset"
      ]
    },
    {
      "cell_type": "code",
      "execution_count": null,
      "id": "9e484f13",
      "metadata": {
        "colab": {
          "base_uri": "https://localhost:8080/"
        },
        "id": "9e484f13",
        "outputId": "8f57a82c-ca89-402e-aec2-3065dc1e7f3b"
      },
      "outputs": [
        {
          "name": "stdout",
          "output_type": "stream",
          "text": [
            "/content\n"
          ]
        }
      ],
      "source": [
        "import os\n",
        "print(os.getcwd())\n",
        "base_path = \"/home/tienanh/22120017/Lab03_Spark/dataset/nyc-taxi-trip-duration\""
      ]
    },
    {
      "cell_type": "code",
      "execution_count": 6,
      "id": "7e377631",
      "metadata": {
        "id": "7e377631"
      },
      "outputs": [],
      "source": [
        "sample_data = sc.textFile(os.path.join(base_path, \"sample_submission/sample_submission.csv\"))\n",
        "train_data = sc.textFile(os.path.join(base_path, \"train/train.csv\"))\n",
        "test_data = sc.textFile(os.path.join(base_path, \"test/test.csv\"))"
      ]
    },
    {
      "cell_type": "markdown",
      "id": "c8a3f2c3",
      "metadata": {
        "id": "c8a3f2c3"
      },
      "source": [
        "## Parse the dataset"
      ]
    },
    {
      "cell_type": "code",
      "execution_count": 7,
      "id": "42d19980",
      "metadata": {
        "id": "42d19980"
      },
      "outputs": [],
      "source": [
        "sample_data_header = sample_data.first()\n",
        "train_data_header = train_data.first()\n",
        "test_data_header = test_data.first()\n",
        "\n",
        "sample_data = sample_data.filter(lambda line: line != sample_data_header)\n",
        "train_data = train_data.filter(lambda line: line != train_data_header)\n",
        "test_data = test_data.filter(lambda line: line != test_data_header)"
      ]
    },
    {
      "cell_type": "code",
      "execution_count": 8,
      "id": "hLM9AHC6RiPj",
      "metadata": {
        "colab": {
          "base_uri": "https://localhost:8080/"
        },
        "id": "hLM9AHC6RiPj",
        "outputId": "aa3546f5-2e75-42dd-a03e-cf978164f90f"
      },
      "outputs": [
        {
          "data": {
            "text/plain": [
              "['id2875421,2,2016-03-14 17:24:55,2016-03-14 17:32:30,1,-73.982154846191406,40.767936706542969,-73.964630126953125,40.765602111816406,N,455',\n",
              " 'id2377394,1,2016-06-12 00:43:35,2016-06-12 00:54:38,1,-73.980415344238281,40.738563537597656,-73.999481201171875,40.731151580810547,N,663',\n",
              " 'id3858529,2,2016-01-19 11:35:24,2016-01-19 12:10:48,1,-73.979026794433594,40.763938903808594,-74.005332946777344,40.710086822509766,N,2124',\n",
              " 'id3504673,2,2016-04-06 19:32:31,2016-04-06 19:39:40,1,-74.010040283203125,40.719970703125,-74.01226806640625,40.706718444824219,N,429',\n",
              " 'id2181028,2,2016-03-26 13:30:55,2016-03-26 13:38:10,1,-73.973052978515625,40.793209075927734,-73.972923278808594,40.782520294189453,N,435']"
            ]
          },
          "execution_count": 8,
          "metadata": {},
          "output_type": "execute_result"
        }
      ],
      "source": [
        "train_data.take(5)"
      ]
    },
    {
      "cell_type": "code",
      "execution_count": 9,
      "id": "5f94bf97",
      "metadata": {
        "id": "5f94bf97"
      },
      "outputs": [],
      "source": [
        "# Tiền xử lý: Chuyển mỗi dòng thành list các float\n",
        "train_data_parsed = train_data.map(lambda line: line.split(\",\")).map(lambda parts: [\n",
        "    float(parts[5]), float(parts[6]),  # pickup_longitude, pickup_latitude\n",
        "    float(parts[7]), float(parts[8]),  # dropoff_longitude, dropoff_latitude\n",
        "    float(parts[4]),                   # passenger_count\n",
        "    float(parts[10])                   # trip_duration\n",
        "])"
      ]
    },
    {
      "cell_type": "markdown",
      "id": "2e021614",
      "metadata": {
        "id": "2e021614"
      },
      "source": [
        "## Pre-process the data"
      ]
    },
    {
      "cell_type": "markdown",
      "id": "b40f330b",
      "metadata": {
        "id": "b40f330b"
      },
      "source": [
        "Chia tập dữ liệu thành 2 phần 80/20:\n",
        "- `train`: Tập dữ liệu dùng để huấn luyện mô hình.\n",
        "- `validation`: Tập dữ liệu dùng để đánh giá mô hình đã được traning trước đó."
      ]
    },
    {
      "cell_type": "code",
      "execution_count": 10,
      "id": "32b1503e",
      "metadata": {
        "id": "32b1503e"
      },
      "outputs": [],
      "source": [
        "train, validation = train_data_parsed.randomSplit([0.8, 0.2], seed=42)"
      ]
    },
    {
      "cell_type": "markdown",
      "id": "3a22422b",
      "metadata": {
        "id": "3a22422b"
      },
      "source": [
        "## Train the model"
      ]
    },
    {
      "cell_type": "markdown",
      "id": "14dcb815",
      "metadata": {
        "id": "14dcb815"
      },
      "source": [
        "### Split data\n",
        "Chia dữ liệu thành 2 nhánh (trái, phải) dựa trên `feature_index` và `threshold`\n",
        "- Nhánh trái chứa các điểm có giá trị ≤ threshold\n",
        "- Nhánh phải chứa các điểm có giá trị > threshold  "
      ]
    },
    {
      "cell_type": "code",
      "execution_count": 11,
      "id": "5c9c657b",
      "metadata": {
        "id": "5c9c657b"
      },
      "outputs": [],
      "source": [
        "def split_data(data, feature_index, threshold):\n",
        "    left = data.filter(lambda x: x[feature_index] <= threshold)\n",
        "    right = data.filter(lambda x: x[feature_index] > threshold)\n",
        "    return left, right"
      ]
    },
    {
      "cell_type": "markdown",
      "id": "2e76891e",
      "metadata": {
        "id": "2e76891e"
      },
      "source": [
        "### Calculate mse\n",
        "- Mean Squared Error (MSE) của tập dữ liệu đầu vào và giá trị trung bình y. MSE được dùng để đo độ phân tán so với trung bình."
      ]
    },
    {
      "cell_type": "code",
      "execution_count": 12,
      "id": "ac522b09",
      "metadata": {
        "id": "ac522b09"
      },
      "outputs": [],
      "source": [
        "def calculate_mse(data):\n",
        "    y_i = data.map(lambda x: x[-1])\n",
        "    y_i_mean = y_i.mean()\n",
        "    mse = y_i.map(lambda x: (x - y_i_mean) ** 2).mean()\n",
        "    return mse, y_i_mean"
      ]
    },
    {
      "cell_type": "markdown",
      "id": "ebce0f34",
      "metadata": {
        "id": "ebce0f34"
      },
      "source": [
        "### Find best split\n",
        "- Tìm ra `feature` và ngưỡng `threshold` tốt nhất để chia dữ liệu, sao cho MSE của hai tập con (sau khi chia) là nhỏ nhất."
      ]
    },
    {
      "cell_type": "code",
      "execution_count": 13,
      "id": "5e49d5c7",
      "metadata": {
        "id": "5e49d5c7"
      },
      "outputs": [],
      "source": [
        "\n",
        "def find_best_split(data, num_features, sample_thresholds=20):\n",
        "    best_feature, best_threshold, best_mse = None, None, float(\"inf\")\n",
        "    data_count = data.count()\n",
        "\n",
        "    for feature_idx in range(num_features):\n",
        "        # Lấy mẫu threshold đại diện\n",
        "        feature_values = data.map(lambda x: x[feature_idx]).distinct().takeSample(False, sample_thresholds)\n",
        "        for threshold in feature_values:\n",
        "            left, right = split_data(data, feature_idx, threshold)\n",
        "            left_count = left.count()\n",
        "            right_count = right.count()\n",
        "\n",
        "            # Bỏ qua nếu chia không hợp lý\n",
        "            if left_count == 0 or right_count == 0:\n",
        "                continue\n",
        "\n",
        "            left_mse, _ = calculate_mse(left)\n",
        "            right_mse, _ = calculate_mse(right)\n",
        "            mse = (left_mse * left_count + right_mse * right_count) / data_count\n",
        "\n",
        "            if mse < best_mse:\n",
        "                best_feature, best_threshold, best_mse = feature_idx, threshold, mse\n",
        "    return best_feature, best_threshold"
      ]
    },
    {
      "cell_type": "markdown",
      "id": "f31b9b74",
      "metadata": {
        "id": "f31b9b74"
      },
      "source": [
        "### Build tree\n",
        "Xây dựng cây theo phương pháp đệ quy:\n",
        "- Nếu đã đạt đến độ sâu tối đa hoặc dữ liệu quá ít -> trả về giá trị trung bình hàm lá (dự đoán)\n",
        "- Ngược lại:\n",
        "    - Tìm cách chia tối ưu (find_best_split)\n",
        "    - Đệ quy xây nhánh trái và phải"
      ]
    },
    {
      "cell_type": "code",
      "execution_count": 14,
      "id": "TgjQuloURc30",
      "metadata": {
        "id": "TgjQuloURc30"
      },
      "outputs": [],
      "source": [
        "\n",
        "def build_tree(data, depth, max_depth):\n",
        "    if depth == max_depth or data.count() <= 5:\n",
        "        _, y_i_mean = calculate_mse(data)\n",
        "        return y_i_mean\n",
        "\n",
        "    best_feature, best_threshold = find_best_split(data, len(data.first()) - 1)\n",
        "\n",
        "    if best_feature is None:\n",
        "        _, y_i_mean = calculate_mse(data)\n",
        "        return y_i_mean\n",
        "\n",
        "    left, right = split_data(data, best_feature, best_threshold)\n",
        "    left.cache()\n",
        "    right.cache()\n",
        "\n",
        "    return {\n",
        "        \"feature\": best_feature,\n",
        "        \"threshold\": best_threshold,\n",
        "        \"left\": build_tree(left, depth + 1, max_depth),\n",
        "        \"right\": build_tree(right, depth + 1, max_depth)\n",
        "    }"
      ]
    },
    {
      "cell_type": "code",
      "execution_count": 15,
      "id": "aNkzqI3d4ENC",
      "metadata": {
        "colab": {
          "base_uri": "https://localhost:8080/"
        },
        "id": "aNkzqI3d4ENC",
        "outputId": "db552c89-d9d5-40e0-f48c-9a9366758867"
      },
      "outputs": [
        {
          "name": "stdout",
          "output_type": "stream",
          "text": [
            "Training time: 10661.048269748688 seconds\n"
          ]
        }
      ],
      "source": [
        "# Training\n",
        "start_time = time.time()\n",
        "tree = build_tree(train, 0, 3)\n",
        "end_time = time.time()\n",
        "print(f\"Training time: {end_time - start_time} seconds\")"
      ]
    },
    {
      "cell_type": "markdown",
      "id": "6a3a6330",
      "metadata": {
        "id": "6a3a6330"
      },
      "source": [
        "### Predict\n",
        "Kiểm tra nếu tree là một dictionary -> đây là nút không phải lá.\n",
        "\n",
        "So sánh row[feature] với threshold:\n",
        "- Nếu nhỏ hơn hoặc bằng -> duyệt tiếp xuống nhánh trái (left)\n",
        "- Ngược lại -> duyệt xuống nhánh phải (right)\n",
        "- Nếu không phải dict (tức là giá trị thực tại lá) -> trả về giá trị đó (là dự đoán)."
      ]
    },
    {
      "cell_type": "code",
      "execution_count": 16,
      "id": "80ddafad",
      "metadata": {
        "id": "80ddafad"
      },
      "outputs": [],
      "source": [
        "def predict(tree, row):\n",
        "    if isinstance(tree, dict):\n",
        "        if row[tree[\"feature\"]] <= tree[\"threshold\"]:\n",
        "            return predict(tree[\"left\"], row)\n",
        "        else:\n",
        "            return predict(tree[\"right\"], row)\n",
        "    else:\n",
        "        return tree"
      ]
    },
    {
      "cell_type": "markdown",
      "id": "1998ba4a",
      "metadata": {
        "id": "1998ba4a"
      },
      "source": [
        "##  Evaluate the model\n"
      ]
    },
    {
      "cell_type": "code",
      "execution_count": 17,
      "id": "74425493",
      "metadata": {
        "colab": {
          "base_uri": "https://localhost:8080/"
        },
        "id": "74425493",
        "outputId": "18f364af-c62c-47f9-869b-710bff941ee9"
      },
      "outputs": [
        {
          "name": "stdout",
          "output_type": "stream",
          "text": [
            "Features: [-73.98104858398438, 40.74433898925781, -73.9729995727539, 40.78998947143555, 1.0], Actual: 1225.0, Predicted: 824.643509031342\n",
            "Features: [-73.99153137207031, 40.74943923950195, -73.95654296875, 40.7706298828125, 4.0], Actual: 1128.0, Predicted: 824.643509031342\n",
            "Features: [-73.95551300048828, 40.768592834472656, -73.94876098632812, 40.77154541015625, 1.0], Actual: 211.0, Predicted: 824.643509031342\n",
            "Features: [-73.98388671875, 40.738197326660156, -73.99120330810547, 40.72787094116211, 1.0], Actual: 251.0, Predicted: 824.643509031342\n",
            "Features: [-73.97953796386719, 40.753360748291016, -73.96399688720703, 40.763458251953125, 1.0], Actual: 652.0, Predicted: 824.643509031342\n"
          ]
        }
      ],
      "source": [
        "# Evaluate on validation dataset\n",
        "sample_test = validation.take(5)\n",
        "for row in sample_test:\n",
        "    print(f\"Features: {row[:-1]}, Actual: {row[-1]}, Predicted: {predict(tree, row)}\")"
      ]
    },
    {
      "cell_type": "code",
      "execution_count": 20,
      "id": "6fadedf4",
      "metadata": {
        "colab": {
          "base_uri": "https://localhost:8080/"
        },
        "id": "6fadedf4",
        "outputId": "63378701-55e8-4562-8f68-aac5c4a9f31b"
      },
      "outputs": [
        {
          "name": "stdout",
          "output_type": "stream",
          "text": [
            "Mean Squared Error (MSE): 9891066.18029336\n",
            "Root Mean Squared Error (RMSE): 3145.006546939666\n",
            "R^2 Score: 0.01781753491506699\n"
          ]
        }
      ],
      "source": [
        "predictions = validation.map(lambda row: (row[-1], predict(tree, row)))\n",
        "mse = predictions.map(lambda x: (x[0] - x[1]) ** 2).mean()\n",
        "\n",
        "rmse = sqrt(mse)\n",
        "\n",
        "# Tính toán R² Score\n",
        "mean_y_true = validation.map(lambda row: row[-1]).mean()\n",
        "ss_total = validation.map(lambda row: (row[-1] - mean_y_true) ** 2).sum()\n",
        "ss_residual = predictions.map(lambda x: (x[0] - x[1]) ** 2).sum()\n",
        "r2 = 1 - (ss_residual / ss_total)\n",
        "\n",
        "# In kết quả\n",
        "print(f\"Mean Squared Error (MSE): {mse}\")\n",
        "print(f\"Root Mean Squared Error (RMSE): {rmse}\")\n",
        "print(f\"R^2 Score: {r2}\")"
      ]
    },
    {
      "cell_type": "markdown",
      "id": "1b6e2774",
      "metadata": {
        "id": "1b6e2774"
      },
      "source": [
        "## Make prediction in test dataset"
      ]
    },
    {
      "cell_type": "code",
      "execution_count": 21,
      "id": "cm0uHGE9oYaV",
      "metadata": {
        "id": "cm0uHGE9oYaV"
      },
      "outputs": [],
      "source": [
        "test_data_parsed = test_data.map(lambda row: row.split(\",\")).map(\n",
        "    lambda parts: (\n",
        "        parts[0],  # unique trip ID\n",
        "        [\n",
        "            float(parts[4]), float(parts[5]),  # pickup_longitude, pickup_latitude\n",
        "            float(parts[6]), float(parts[7]),  # dropoff_longitude, dropoff_latitude\n",
        "            float(parts[3])  # passenger_count\n",
        "        ]\n",
        "    )\n",
        ")"
      ]
    },
    {
      "cell_type": "code",
      "execution_count": 22,
      "id": "GxE6XQwvc8nM",
      "metadata": {
        "id": "GxE6XQwvc8nM"
      },
      "outputs": [],
      "source": [
        "test_predictions_rdd = test_data_parsed.map(lambda row: (row[0], predict(tree, row[1])))\n",
        "test_predictions_df = test_predictions_rdd.toDF([\"id\", \"trip_duration\"])"
      ]
    },
    {
      "cell_type": "code",
      "execution_count": null,
      "id": "JN6i-nhr0nH1",
      "metadata": {
        "id": "JN6i-nhr0nH1"
      },
      "outputs": [],
      "source": [
        "base_path_result = \"/home/tienanh/22120017/Lab03_Spark/src/Regression/Structured_API\""
      ]
    },
    {
      "cell_type": "code",
      "execution_count": 24,
      "id": "6ganBUbzcUcw",
      "metadata": {
        "colab": {
          "base_uri": "https://localhost:8080/"
        },
        "id": "6ganBUbzcUcw",
        "outputId": "a335432b-92f8-4247-ec69-4e9ffead1d77"
      },
      "outputs": [
        {
          "name": "stdout",
          "output_type": "stream",
          "text": [
            "+---------+-----------------+\n",
            "|id       |trip_duration    |\n",
            "+---------+-----------------+\n",
            "|id3004672|824.643509031342 |\n",
            "|id3505355|1429.281770993709|\n",
            "|id1217141|824.643509031342 |\n",
            "|id2150126|824.643509031342 |\n",
            "|id1598245|824.643509031342 |\n",
            "+---------+-----------------+\n",
            "only showing top 5 rows\n",
            "\n"
          ]
        }
      ],
      "source": [
        "test_predictions_df.show(5, truncate=False)\n",
        "test_predictions_df.coalesce(1).write.mode(\"overwrite\").parquet(os.path.join(base_path_result, \"result\"))"
      ]
    }
  ],
  "metadata": {
    "colab": {
      "provenance": []
    },
    "kernelspec": {
      "display_name": "Python 3",
      "language": "python",
      "name": "python3"
    },
    "language_info": {
      "codemirror_mode": {
        "name": "ipython",
        "version": 3
      },
      "file_extension": ".py",
      "mimetype": "text/x-python",
      "name": "python",
      "nbconvert_exporter": "python",
      "pygments_lexer": "ipython3",
      "version": "3.10.12"
    }
  },
  "nbformat": 4,
  "nbformat_minor": 5
}
