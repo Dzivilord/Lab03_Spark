{
 "cells": [
  {
   "cell_type": "markdown",
   "id": "6e4181f2",
   "metadata": {},
   "source": [
    "# MLlib RDD-Based"
   ]
  },
  {
   "cell_type": "markdown",
   "id": "db0ee958",
   "metadata": {},
   "source": [
    "---"
   ]
  },
  {
   "cell_type": "markdown",
   "id": "7efc5449",
   "metadata": {},
   "source": [
    "## Kiểm tra môi trường"
   ]
  },
  {
   "cell_type": "code",
   "execution_count": 1,
   "id": "c8f9a01d",
   "metadata": {},
   "outputs": [
    {
     "data": {
      "text/plain": [
       "'/usr/bin/python3'"
      ]
     },
     "execution_count": 1,
     "metadata": {},
     "output_type": "execute_result"
    }
   ],
   "source": [
    "import sys\n",
    "sys.executable"
   ]
  },
  {
   "cell_type": "markdown",
   "id": "1fda739e",
   "metadata": {},
   "source": [
    "## Import các thư viện cần thiết"
   ]
  },
  {
   "cell_type": "code",
   "execution_count": 2,
   "id": "e7d4c9b1",
   "metadata": {},
   "outputs": [],
   "source": [
    "from pyspark.sql import SparkSession\n",
    "from pyspark.sql import functions as F, Row\n",
    "from pyspark.mllib.tree import DecisionTree\n",
    "from pyspark.mllib.evaluation import RegressionMetrics\n",
    "from pyspark.mllib.regression import LabeledPoint\n",
    "from pyspark.mllib.linalg import Vectors\n",
    "import pandas as pd"
   ]
  },
  {
   "cell_type": "markdown",
   "id": "9a3cf5e2",
   "metadata": {},
   "source": [
    "## Spark initialization"
   ]
  },
  {
   "cell_type": "code",
   "execution_count": 3,
   "id": "36586713",
   "metadata": {},
   "outputs": [
    {
     "name": "stderr",
     "output_type": "stream",
     "text": [
      "your 131072x1 screen size is bogus. expect trouble\n",
      "25/05/02 09:22:18 WARN Utils: Your hostname, LAPTOP-I95CP2I9 resolves to a loopback address: 127.0.1.1; using 10.255.255.254 instead (on interface lo)\n",
      "25/05/02 09:22:18 WARN Utils: Set SPARK_LOCAL_IP if you need to bind to another address\n",
      "Setting default log level to \"WARN\".\n",
      "To adjust logging level use sc.setLogLevel(newLevel). For SparkR, use setLogLevel(newLevel).\n",
      "25/05/02 09:22:19 WARN NativeCodeLoader: Unable to load native-hadoop library for your platform... using builtin-java classes where applicable\n"
     ]
    }
   ],
   "source": [
    "spark = SparkSession.builder \\\n",
    "    .appName(\"DecisionTreeRegressor\") \\\n",
    "        .getOrCreate()\n",
    "sc = spark.sparkContext"
   ]
  },
  {
   "cell_type": "markdown",
   "id": "c7710bc4",
   "metadata": {},
   "source": [
    "## Load the dataset"
   ]
  },
  {
   "cell_type": "markdown",
   "id": "2896a84b",
   "metadata": {},
   "source": [
    "- Dữ liệu từ các tệp sample_submission.csv, train.csv, test.csv được đọc bằng textFile, tạo ra các RDD, mỗi dòng là một chuỗi văn bản (string).\n",
    "- Dữ liệu được lọc để loại bỏ dòng header khỏi mỗi RDD (tránh ảnh hưởng đến quá trình xử lý dữ liệu sau này)."
   ]
  },
  {
   "cell_type": "code",
   "execution_count": 212,
   "id": "9e484f13",
   "metadata": {},
   "outputs": [
    {
     "name": "stdout",
     "output_type": "stream",
     "text": [
      "/home/tienanh/22120017/Lab03_Spark/src/Regression/MLlib_RDD_Based\n"
     ]
    }
   ],
   "source": [
    "import os\n",
    "print(os.getcwd())\n",
    "base_path = \"/home/tienanh/22120017/Lab03_Spark/dataset/nyc-taxi-trip-duration\""
   ]
  },
  {
   "cell_type": "code",
   "execution_count": 213,
   "id": "7e377631",
   "metadata": {},
   "outputs": [],
   "source": [
    "sample_data = sc.textFile(os.path.join(base_path, \"sample_submission/sample_submission.csv\"))\n",
    "train_data = sc.textFile(os.path.join(base_path, \"train/train.csv\"))\n",
    "test_data = sc.textFile(os.path.join(base_path, \"test/test.csv\"))"
   ]
  },
  {
   "cell_type": "code",
   "execution_count": 214,
   "id": "76c7bf26",
   "metadata": {},
   "outputs": [],
   "source": [
    "sample_data_header = sample_data.first()\n",
    "train_data_header = train_data.first()\n",
    "test_data_header = test_data.first()\n",
    "\n",
    "sample_data = sample_data.filter(lambda line: line != sample_data_header)\n",
    "train_data = train_data.filter(lambda line: line != train_data_header)\n",
    "test_data = test_data.filter(lambda line: line != test_data_header)"
   ]
  },
  {
   "cell_type": "code",
   "execution_count": 215,
   "id": "bee50978",
   "metadata": {},
   "outputs": [
    {
     "name": "stdout",
     "output_type": "stream",
     "text": [
      "id3004672,959\n",
      "id3505355,959\n",
      "id1217141,959\n",
      "id2150126,959\n",
      "id1598245,959\n"
     ]
    }
   ],
   "source": [
    "# Show the first 5 rows \n",
    "for line in sample_data.take(5):\n",
    "    print(line)"
   ]
  },
  {
   "cell_type": "code",
   "execution_count": 216,
   "id": "4180a848",
   "metadata": {},
   "outputs": [
    {
     "name": "stdout",
     "output_type": "stream",
     "text": [
      "id2875421,2,2016-03-14 17:24:55,2016-03-14 17:32:30,1,-73.982154846191406,40.767936706542969,-73.964630126953125,40.765602111816406,N,455\n",
      "id2377394,1,2016-06-12 00:43:35,2016-06-12 00:54:38,1,-73.980415344238281,40.738563537597656,-73.999481201171875,40.731151580810547,N,663\n",
      "id3858529,2,2016-01-19 11:35:24,2016-01-19 12:10:48,1,-73.979026794433594,40.763938903808594,-74.005332946777344,40.710086822509766,N,2124\n",
      "id3504673,2,2016-04-06 19:32:31,2016-04-06 19:39:40,1,-74.010040283203125,40.719970703125,-74.01226806640625,40.706718444824219,N,429\n",
      "id2181028,2,2016-03-26 13:30:55,2016-03-26 13:38:10,1,-73.973052978515625,40.793209075927734,-73.972923278808594,40.782520294189453,N,435\n"
     ]
    }
   ],
   "source": [
    "\n",
    "for line in train_data.take(5):\n",
    "    print(line)"
   ]
  },
  {
   "cell_type": "code",
   "execution_count": 217,
   "id": "e26869fd",
   "metadata": {},
   "outputs": [
    {
     "name": "stdout",
     "output_type": "stream",
     "text": [
      "id3004672,1,2016-06-30 23:59:58,1,-73.988128662109375,40.732028961181641,-73.99017333984375,40.756679534912109,N\n",
      "id3505355,1,2016-06-30 23:59:53,1,-73.964202880859375,40.67999267578125,-73.959808349609375,40.655403137207031,N\n",
      "id1217141,1,2016-06-30 23:59:47,1,-73.9974365234375,40.737583160400391,-73.986160278320312,40.729522705078125,N\n",
      "id2150126,2,2016-06-30 23:59:41,1,-73.956069946289063,40.771900177001953,-73.986427307128906,40.73046875,N\n",
      "id1598245,1,2016-06-30 23:59:33,1,-73.97021484375,40.761474609375,-73.961509704589844,40.755889892578125,N\n"
     ]
    }
   ],
   "source": [
    "\n",
    "for line in test_data.take(5):\n",
    "    print(line)"
   ]
  },
  {
   "cell_type": "markdown",
   "id": "ccdb43e3",
   "metadata": {},
   "source": [
    "## Parsing the data "
   ]
  },
  {
   "cell_type": "markdown",
   "id": "1da1e52d",
   "metadata": {},
   "source": [
    "- Chọn ra các cột dạng numeric là những đặc trưng cần thiết để phục vụ huấn luyện mô hình từ tập dữ liệu `train.csv`. Sau đó ép kiểu `float` \n",
    "- `train_data_parsed` thu được là một RDD của danh sách số thực, mỗi phần tử đại diện cho một chuyến đi với 5 đặc trưng + 1 nhãn."
   ]
  },
  {
   "cell_type": "code",
   "execution_count": null,
   "id": "5f94bf97",
   "metadata": {},
   "outputs": [],
   "source": [
    "\n",
    "train_data_parsed = train_data.map(lambda line: line.split(\",\")).map(lambda parts: [\n",
    "    float(parts[5]), float(parts[6]), #pickup_longitude, pickup_latitude\n",
    "    float(parts[7]), float(parts[8]), #dropoff_longitude, dropoff_latitude\n",
    "    float(parts[4]), #passenger_count\n",
    "    float(parts[10]) #trip_duration\n",
    "])"
   ]
  },
  {
   "cell_type": "code",
   "execution_count": 219,
   "id": "24471356",
   "metadata": {},
   "outputs": [
    {
     "name": "stdout",
     "output_type": "stream",
     "text": [
      "[-73.9821548461914, 40.76793670654297, -73.96463012695312, 40.765602111816406, 1.0, 455.0]\n",
      "[-73.98041534423828, 40.738563537597656, -73.99948120117188, 40.73115158081055, 1.0, 663.0]\n",
      "[-73.9790267944336, 40.763938903808594, -74.00533294677734, 40.710086822509766, 1.0, 2124.0]\n",
      "[-74.01004028320312, 40.719970703125, -74.01226806640625, 40.70671844482422, 1.0, 429.0]\n",
      "[-73.97305297851562, 40.793209075927734, -73.9729232788086, 40.78252029418945, 1.0, 435.0]\n"
     ]
    }
   ],
   "source": [
    "for line in train_data_parsed.take(5):\n",
    "    print(line)"
   ]
  },
  {
   "cell_type": "markdown",
   "id": "b68ff830",
   "metadata": {},
   "source": [
    "## Pre-process the data"
   ]
  },
  {
   "cell_type": "markdown",
   "id": "fd55e60c",
   "metadata": {},
   "source": [
    "-  Chia dữ liệu thành tập huấn luyện và kiểm tra:\n",
    "   - Dữ liệu được chia thành hai phần: (training set) và (validation set).\n",
    "   - Việc chia này đảm bảo rằng mô hình không \"học thuộc\" (overfitting) dữ liệu huấn luyện và có thể tổng quát tốt trên dữ liệu chưa thấy.\n",
    "- Chuyển đổi thành `LabeledPoint`: đóng gói đặc trưng và nhãn thành cấu trúc `LabeledPoint` để phù hợp với các mô hình học máy trong Spark."
   ]
  },
  {
   "cell_type": "code",
   "execution_count": null,
   "id": "95314508",
   "metadata": {},
   "outputs": [],
   "source": [
    "train, validation = train_data_parsed.randomSplit([0.8, 0.2], seed=42)\n",
    "rdd_train = train.map(lambda cols:\n",
    "        LabeledPoint(cols[-1], Vectors.dense(cols[:-1]))\n",
    "    )\n",
    "rdd_test = validation.map(lambda cols:\n",
    "        LabeledPoint(cols[-1], Vectors.dense(cols[:-1]))\n",
    "    )"
   ]
  },
  {
   "cell_type": "markdown",
   "id": "61aab40c",
   "metadata": {},
   "source": [
    "## Training"
   ]
  },
  {
   "cell_type": "markdown",
   "id": "34757c09",
   "metadata": {},
   "source": [
    "- Huấn luyện mô hình: Mô hình Decision Tree Regressor huấn luyện dự đoán các giá trị liên tục `trip_duration`\n",
    "- Khởi tạo mô hình:\n",
    "  - impurity='variance': Sử dụng độ lệch phương sai để phân chia các nhánh trong cây quyết định.\n",
    "  - maxDepth=5: Giới hạn độ sâu của cây quyết định, giúp tránh việc mô hình quá phức tạp (overfitting).\n",
    "  - maxBins=32: Giới hạn số lượng phân vùng có thể chia cho mỗi đặc trưng."
   ]
  },
  {
   "cell_type": "code",
   "execution_count": 221,
   "id": "6fadedf4",
   "metadata": {},
   "outputs": [
    {
     "name": "stderr",
     "output_type": "stream",
     "text": [
      "                                                                                \r"
     ]
    }
   ],
   "source": [
    "model_rdd_train = DecisionTree.trainRegressor(rdd_train, categoricalFeaturesInfo={},\n",
    "                                              impurity='variance', maxDepth=5, maxBins=32)"
   ]
  },
  {
   "cell_type": "markdown",
   "id": "1e539619",
   "metadata": {},
   "source": [
    "### Evaluate the obtained model:"
   ]
  },
  {
   "cell_type": "code",
   "execution_count": 222,
   "id": "621981d7",
   "metadata": {},
   "outputs": [],
   "source": [
    "predictions = model_rdd_train.predict(rdd_test.map(lambda p: p.features))\n",
    "labels_and_predictions = rdd_test.map(lambda p: p.label).zip(predictions)"
   ]
  },
  {
   "cell_type": "code",
   "execution_count": 223,
   "id": "15d823ae",
   "metadata": {},
   "outputs": [
    {
     "name": "stderr",
     "output_type": "stream",
     "text": [
      "                                                                                \r"
     ]
    },
    {
     "data": {
      "text/plain": [
       "[(1225.0, 777.5983592670409),\n",
       " (1128.0, 777.5983592670409),\n",
       " (211.0, 777.5983592670409),\n",
       " (251.0, 777.5983592670409),\n",
       " (652.0, 777.5983592670409)]"
      ]
     },
     "execution_count": 223,
     "metadata": {},
     "output_type": "execute_result"
    }
   ],
   "source": [
    "labels_and_predictions.take(5)"
   ]
  },
  {
   "cell_type": "code",
   "execution_count": 224,
   "id": "a94e2cf4",
   "metadata": {},
   "outputs": [
    {
     "name": "stderr",
     "output_type": "stream",
     "text": [
      "[Stage 203:============================>                            (3 + 3) / 6]\r"
     ]
    },
    {
     "name": "stdout",
     "output_type": "stream",
     "text": [
      "Mean Squared Error = 10388783.835836709\n"
     ]
    },
    {
     "name": "stderr",
     "output_type": "stream",
     "text": [
      "                                                                                \r"
     ]
    }
   ],
   "source": [
    "mse = labels_and_predictions.map(lambda pl: (pl[0] - pl[1])**2).mean() \n",
    "print(\"Mean Squared Error =\", mse) "
   ]
  },
  {
   "cell_type": "markdown",
   "id": "acc758ee",
   "metadata": {},
   "source": [
    "**Nhận xét**\n",
    "- MSE đo lường trung bình bình phương khoảng cách giữa giá trị dự đoán và thực tế. Ở đây, giá trị này hơn 10 triệu là khá lớn.\n",
    "- Đơn vị của `trip_duration` là giây nên sai số bình phương trung bình khoảng: $$\\sqrt{10388783.84} \\approx 3223  second \\approx 53.7  minute$$\n",
    "- Điều này có nghĩa là mỗi lần dự đoán trung bình có thể lệch tới gần 54 phút so với thực tế.\n",
    "- Cải thiện mô hình: \n",
    "  - Thêm đặc trưng mới như thời gian trong ngày, ngày trong tuần.v.v.\n",
    "  - Tăng độ sâu của cây (maxDepth) để mô hình học kỹ hơn.\n",
    "  - Chuẩn hóa dữ liệu nếu có outliner.\n",
    "  - Thử mô hình khác như Random Forest hoặc Gradient Boosted Trees."
   ]
  },
  {
   "cell_type": "markdown",
   "id": "1b6e2774",
   "metadata": {},
   "source": [
    "### Make prediction in test dataset"
   ]
  },
  {
   "cell_type": "code",
   "execution_count": null,
   "id": "b94d5f27",
   "metadata": {},
   "outputs": [],
   "source": [
    "test_data_parsed = test_data.map(lambda row: row.split(\",\")).map(\n",
    "    lambda parts: (\n",
    "        parts[0],  # unique trip ID\n",
    "        [\n",
    "            float(parts[4]), float(parts[5]),  # pickup_longitude, pickup_latitude\n",
    "            float(parts[6]), float(parts[7]),  # dropoff_longitude, dropoff_latitude\n",
    "            float(parts[3])  # passenger_count\n",
    "        ]\n",
    "    )\n",
    ")"
   ]
  },
  {
   "cell_type": "code",
   "execution_count": null,
   "id": "8d8bf175",
   "metadata": {},
   "outputs": [],
   "source": [
    "test_data_local = test_data_parsed.collect()\n",
    "predictions_local = [(row[0], model_rdd_train.predict(row[1])) for row in test_data_local]"
   ]
  },
  {
   "cell_type": "code",
   "execution_count": null,
   "id": "29f30b6c",
   "metadata": {},
   "outputs": [],
   "source": [
    "base_path_result = \"/home/tienanh/22120017/Lab03_Spark/src/Regression/MLlib_RDD_Based\""
   ]
  },
  {
   "cell_type": "code",
   "execution_count": null,
   "id": "131c3733",
   "metadata": {},
   "outputs": [],
   "source": [
    "predictions_rdd = sc.parallelize(predictions_local)\n",
    "predictions_df = predictions_rdd.map(lambda x: Row(id=x[0], trip_duration=x[1])).toDF()\n",
    "predictions_df.coalesce(1).write.parquet(\n",
    "    path=os.path.join(base_path, \"result\"),\n",
    "    mode=\"overwrite\"\n",
    ")"
   ]
  }
 ],
 "metadata": {
  "kernelspec": {
   "display_name": "Python 3",
   "language": "python",
   "name": "python3"
  },
  "language_info": {
   "codemirror_mode": {
    "name": "ipython",
    "version": 3
   },
   "file_extension": ".py",
   "mimetype": "text/x-python",
   "name": "python",
   "nbconvert_exporter": "python",
   "pygments_lexer": "ipython3",
   "version": "3.10.12"
  }
 },
 "nbformat": 4,
 "nbformat_minor": 5
}
