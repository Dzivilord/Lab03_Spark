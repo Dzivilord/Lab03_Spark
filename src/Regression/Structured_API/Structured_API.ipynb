{
 "cells": [
  {
   "cell_type": "markdown",
   "metadata": {},
   "source": [
    "# Bài làm chi tiết"
   ]
  },
  {
   "cell_type": "markdown",
   "metadata": {},
   "source": [
    "## 1. Chuẩn bị"
   ]
  },
  {
   "cell_type": "markdown",
   "metadata": {},
   "source": [
    "- Thiết lập biến môi trường cho Spark"
   ]
  },
  {
   "cell_type": "code",
   "execution_count": 4,
   "metadata": {},
   "outputs": [],
   "source": [
    "import findspark\n",
    "findspark.init(\"/home/cuong/Downloads/spark-3.5.5-bin-hadoop3\")"
   ]
  },
  {
   "cell_type": "markdown",
   "metadata": {},
   "source": [
    "- Import các thư viện cần thiết"
   ]
  },
  {
   "cell_type": "code",
   "execution_count": 5,
   "metadata": {},
   "outputs": [],
   "source": [
    "from pyspark.ml.feature import VectorAssembler, MinMaxScaler\n",
    "from pyspark.ml.regression import DecisionTreeRegressor\n",
    "from pyspark.sql import SparkSession\n",
    "from pyspark.ml.evaluation import RegressionEvaluator\n",
    "from pyspark.sql.functions import col, sum, when\n",
    "from pyspark.sql.functions import round\n"
   ]
  },
  {
   "cell_type": "markdown",
   "metadata": {},
   "source": [
    "- Khởi tạo park session"
   ]
  },
  {
   "cell_type": "code",
   "execution_count": 6,
   "metadata": {},
   "outputs": [],
   "source": [
    "spark = SparkSession.builder \\\n",
    "    .appName(\"NYC Taxi Duration Prediction\") \\\n",
    "    .getOrCreate()"
   ]
  },
  {
   "cell_type": "markdown",
   "metadata": {},
   "source": [
    "## 2. Đọc dữ liệu training và tiền xử lý"
   ]
  },
  {
   "cell_type": "markdown",
   "metadata": {},
   "source": [
    "- Đọc dữ liệu training từ file"
   ]
  },
  {
   "cell_type": "code",
   "execution_count": 7,
   "metadata": {},
   "outputs": [
    {
     "name": "stderr",
     "output_type": "stream",
     "text": [
      "                                                                                \r"
     ]
    }
   ],
   "source": [
    "df = spark.read.csv(\"file:///home/cuong/Downloads/Big_Data/nyc-taxi-trip-duration/train.csv\", header = True, inferSchema = True)"
   ]
  },
  {
   "cell_type": "markdown",
   "metadata": {},
   "source": [
    "- In Schema của dữ liệu"
   ]
  },
  {
   "cell_type": "code",
   "execution_count": 8,
   "metadata": {},
   "outputs": [
    {
     "name": "stdout",
     "output_type": "stream",
     "text": [
      "root\n",
      " |-- id: string (nullable = true)\n",
      " |-- vendor_id: integer (nullable = true)\n",
      " |-- pickup_datetime: timestamp (nullable = true)\n",
      " |-- dropoff_datetime: timestamp (nullable = true)\n",
      " |-- passenger_count: integer (nullable = true)\n",
      " |-- pickup_longitude: double (nullable = true)\n",
      " |-- pickup_latitude: double (nullable = true)\n",
      " |-- dropoff_longitude: double (nullable = true)\n",
      " |-- dropoff_latitude: double (nullable = true)\n",
      " |-- store_and_fwd_flag: string (nullable = true)\n",
      " |-- trip_duration: integer (nullable = true)\n",
      "\n"
     ]
    }
   ],
   "source": [
    "df.printSchema()"
   ]
  },
  {
   "cell_type": "code",
   "execution_count": 24,
   "metadata": {},
   "outputs": [
    {
     "name": "stderr",
     "output_type": "stream",
     "text": [
      "                                                                                \r"
     ]
    },
    {
     "data": {
      "text/plain": [
       "1458644"
      ]
     },
     "execution_count": 24,
     "metadata": {},
     "output_type": "execute_result"
    }
   ],
   "source": [
    "df.count()"
   ]
  },
  {
   "cell_type": "markdown",
   "metadata": {},
   "source": [
    "### Nhận xét: Dữ liệu có 11 features và 1458644 samples"
   ]
  },
  {
   "cell_type": "markdown",
   "metadata": {},
   "source": [
    "- Xem một số mẫu dữ liệu "
   ]
  },
  {
   "cell_type": "code",
   "execution_count": 9,
   "metadata": {},
   "outputs": [
    {
     "name": "stdout",
     "output_type": "stream",
     "text": [
      "+---------+---------+-------------------+-------------------+---------------+------------------+------------------+------------------+------------------+------------------+-------------+\n",
      "|       id|vendor_id|    pickup_datetime|   dropoff_datetime|passenger_count|  pickup_longitude|   pickup_latitude| dropoff_longitude|  dropoff_latitude|store_and_fwd_flag|trip_duration|\n",
      "+---------+---------+-------------------+-------------------+---------------+------------------+------------------+------------------+------------------+------------------+-------------+\n",
      "|id2875421|        2|2016-03-14 17:24:55|2016-03-14 17:32:30|              1| -73.9821548461914| 40.76793670654297|-73.96463012695312|40.765602111816406|                 N|          455|\n",
      "|id2377394|        1|2016-06-12 00:43:35|2016-06-12 00:54:38|              1|-73.98041534423828|40.738563537597656|-73.99948120117188| 40.73115158081055|                 N|          663|\n",
      "|id3858529|        2|2016-01-19 11:35:24|2016-01-19 12:10:48|              1| -73.9790267944336|40.763938903808594|-74.00533294677734|40.710086822509766|                 N|         2124|\n",
      "|id3504673|        2|2016-04-06 19:32:31|2016-04-06 19:39:40|              1|-74.01004028320312|   40.719970703125|-74.01226806640625| 40.70671844482422|                 N|          429|\n",
      "|id2181028|        2|2016-03-26 13:30:55|2016-03-26 13:38:10|              1|-73.97305297851562|40.793209075927734| -73.9729232788086| 40.78252029418945|                 N|          435|\n",
      "+---------+---------+-------------------+-------------------+---------------+------------------+------------------+------------------+------------------+------------------+-------------+\n",
      "only showing top 5 rows\n",
      "\n"
     ]
    }
   ],
   "source": [
    "df.show(5)"
   ]
  },
  {
   "cell_type": "markdown",
   "metadata": {},
   "source": [
    "- Kiểm tra giá trị null của dữ liệu"
   ]
  },
  {
   "cell_type": "code",
   "execution_count": 10,
   "metadata": {},
   "outputs": [
    {
     "name": "stderr",
     "output_type": "stream",
     "text": [
      "[Stage 3:===================================================>       (7 + 1) / 8]\r"
     ]
    },
    {
     "name": "stdout",
     "output_type": "stream",
     "text": [
      "+---+---------+---------------+----------------+---------------+----------------+---------------+-----------------+----------------+------------------+-------------+\n",
      "| id|vendor_id|pickup_datetime|dropoff_datetime|passenger_count|pickup_longitude|pickup_latitude|dropoff_longitude|dropoff_latitude|store_and_fwd_flag|trip_duration|\n",
      "+---+---------+---------------+----------------+---------------+----------------+---------------+-----------------+----------------+------------------+-------------+\n",
      "|  0|        0|              0|               0|              0|               0|              0|                0|               0|                 0|            0|\n",
      "+---+---------+---------------+----------------+---------------+----------------+---------------+-----------------+----------------+------------------+-------------+\n",
      "\n"
     ]
    },
    {
     "name": "stderr",
     "output_type": "stream",
     "text": [
      "                                                                                \r"
     ]
    }
   ],
   "source": [
    "null_counts = df.select([sum(when(col(c).isNull(), 1).otherwise(0)).alias(c) for c in df.columns])\n",
    "null_counts.show()"
   ]
  },
  {
   "cell_type": "markdown",
   "metadata": {},
   "source": [
    "### Nhận xét: Không có bất kỳ giá trị null nào trong tập dữ liệu"
   ]
  },
  {
   "cell_type": "markdown",
   "metadata": {},
   "source": [
    "- Xóa những dòng duplicate"
   ]
  },
  {
   "cell_type": "code",
   "execution_count": 25,
   "metadata": {},
   "outputs": [
    {
     "name": "stderr",
     "output_type": "stream",
     "text": [
      "                                                                                \r"
     ]
    },
    {
     "data": {
      "text/plain": [
       "1458644"
      ]
     },
     "execution_count": 25,
     "metadata": {},
     "output_type": "execute_result"
    }
   ],
   "source": [
    "df = df.dropDuplicates()\n",
    "df.count()"
   ]
  },
  {
   "cell_type": "markdown",
   "metadata": {},
   "source": [
    "### Nhận xét: Số lượng samples vẫn không đổi => tập dữ liệu không có duplicate"
   ]
  },
  {
   "cell_type": "markdown",
   "metadata": {},
   "source": [
    "- Tạo assembler để làm đầu vào training cho mô hình "
   ]
  },
  {
   "cell_type": "code",
   "execution_count": null,
   "metadata": {},
   "outputs": [
    {
     "name": "stdout",
     "output_type": "stream",
     "text": [
      "+--------------------+-------------+\n",
      "|            features|trip_duration|\n",
      "+--------------------+-------------+\n",
      "|[-73.982154846191...|          455|\n",
      "|[-73.980415344238...|          663|\n",
      "|[-73.979026794433...|         2124|\n",
      "|[-74.010040283203...|          429|\n",
      "|[-73.973052978515...|          435|\n",
      "|[-73.982856750488...|          443|\n",
      "|[-73.969017028808...|          341|\n",
      "|[-73.969276428222...|         1551|\n",
      "|[-73.999481201171...|          255|\n",
      "|[-73.981048583984...|         1225|\n",
      "|[-73.982650756835...|         1274|\n",
      "|[-73.991531372070...|         1128|\n",
      "|[-73.962982177734...|         1114|\n",
      "|[-73.956306457519...|          260|\n",
      "|[-73.992195129394...|         1414|\n",
      "|[-73.955513000488...|          211|\n",
      "|[-73.991165161132...|         2316|\n",
      "|[-73.994255065917...|          731|\n",
      "|[-74.003982543945...|         1317|\n",
      "|[-73.98388671875,...|          251|\n",
      "+--------------------+-------------+\n",
      "only showing top 20 rows\n",
      "\n"
     ]
    }
   ],
   "source": [
    "num_cols = ['pickup_longitude', 'pickup_latitude','dropoff_longitude', 'dropoff_latitude']\n",
    "assembler = VectorAssembler(inputCols= num_cols, outputCol = \"features\")\n",
    "assembled_df = assembler.transform(df).select(\"features\", 'trip_duration')\n",
    "# Việc scaler không cần thiết trong trường hợp này\n",
    "# scaler = MinMaxScaler(inputCol= 'features', outputCol = 'scaled_features')\n",
    "# scaler_model = scaler.fit(assembled_df)\n",
    "# scaler_df = scaler_model.transform(assembled_df)\n",
    "# scaler_df.sample(withReplacement=False, fraction=0.01).show()\n",
    "assembled_df.show()\n"
   ]
  },
  {
   "cell_type": "markdown",
   "metadata": {},
   "source": [
    "## 3. Huấn luyện và đánh giá mô hình"
   ]
  },
  {
   "cell_type": "markdown",
   "metadata": {},
   "source": [
    "- Chia tập dữ liệu thành 2 phần training và validation tỷ lệ 80-20"
   ]
  },
  {
   "cell_type": "code",
   "execution_count": 13,
   "metadata": {},
   "outputs": [],
   "source": [
    "# training, validation = scaler_df.randomSplit([0.8, 0.2], seed = 42)\n",
    "training, validation = assembled_df.randomSplit([0.8, 0.2], seed = 42)\n"
   ]
  },
  {
   "cell_type": "markdown",
   "metadata": {},
   "source": [
    "- Khởi tạo và training cho mô hình"
   ]
  },
  {
   "cell_type": "code",
   "execution_count": 14,
   "metadata": {},
   "outputs": [
    {
     "name": "stderr",
     "output_type": "stream",
     "text": [
      "                                                                                \r"
     ]
    }
   ],
   "source": [
    "lr =  DecisionTreeRegressor(featuresCol = \"features\", labelCol = \"trip_duration\")\n",
    "model = lr.fit(training)"
   ]
  },
  {
   "cell_type": "markdown",
   "metadata": {},
   "source": [
    "- Xem xét mô hình một cách trực quan"
   ]
  },
  {
   "cell_type": "code",
   "execution_count": 15,
   "metadata": {},
   "outputs": [
    {
     "name": "stdout",
     "output_type": "stream",
     "text": [
      "DecisionTreeRegressionModel: uid=DecisionTreeRegressor_12b6580f3c89, depth=5, numNodes=63, numFeatures=4\n",
      "  If (feature 0 <= -73.91783905029297)\n",
      "   If (feature 2 <= -73.9245376586914)\n",
      "    If (feature 3 <= 40.70591354370117)\n",
      "     If (feature 1 <= 40.73052978515625)\n",
      "      If (feature 1 <= 40.71339416503906)\n",
      "       Predict: 798.3456686291\n",
      "      Else (feature 1 > 40.71339416503906)\n",
      "       Predict: 1203.2577360277864\n",
      "     Else (feature 1 > 40.73052978515625)\n",
      "      If (feature 3 <= 40.68511962890625)\n",
      "       Predict: 2068.2443454420836\n",
      "      Else (feature 3 > 40.68511962890625)\n",
      "       Predict: 1584.9986710963456\n",
      "    Else (feature 3 > 40.70591354370117)\n",
      "     If (feature 1 <= 40.71339416503906)\n",
      "      If (feature 3 <= 40.738441467285156)\n",
      "       Predict: 811.6071083755733\n",
      "      Else (feature 3 > 40.738441467285156)\n",
      "       Predict: 1498.089804858622\n",
      "     Else (feature 1 > 40.71339416503906)\n",
      "      If (feature 3 <= 40.723758697509766)\n",
      "       Predict: 1020.4631605031506\n",
      "      Else (feature 3 > 40.723758697509766)\n",
      "       Predict: 784.0699948290734\n",
      "   Else (feature 2 > -73.9245376586914)\n",
      "    If (feature 3 <= 40.68511962890625)\n",
      "     If (feature 1 <= 40.69063758850098)\n",
      "      If (feature 2 <= -73.86791610717773)\n",
      "       Predict: 1358.2530612244898\n",
      "      Else (feature 2 > -73.86791610717773)\n",
      "       Predict: 2341.809523809524\n",
      "     Else (feature 1 > 40.69063758850098)\n",
      "      If (feature 0 <= -73.96297073364258)\n",
      "       Predict: 3042.1834798704303\n",
      "      Else (feature 0 > -73.96297073364258)\n",
      "       Predict: 2460.3608087091757\n",
      "    Else (feature 3 > 40.68511962890625)\n",
      "     If (feature 0 <= -73.95369338989258)\n",
      "      If (feature 2 <= -73.86791610717773)\n",
      "       Predict: 1714.8705337450374\n",
      "      Else (feature 2 > -73.86791610717773)\n",
      "       Predict: 2067.796541847884\n",
      "     Else (feature 0 > -73.95369338989258)\n",
      "      If (feature 2 <= -73.86791610717773)\n",
      "       Predict: 918.0699315654406\n",
      "      Else (feature 2 > -73.86791610717773)\n",
      "       Predict: 1733.611496531219\n",
      "  Else (feature 0 > -73.91783905029297)\n",
      "   If (feature 2 <= -73.95603942871094)\n",
      "    If (feature 1 <= 40.69063758850098)\n",
      "     If (feature 3 <= 40.74990653991699)\n",
      "      If (feature 2 <= -73.98279190063477)\n",
      "       Predict: 3065.4934829833455\n",
      "      Else (feature 2 > -73.98279190063477)\n",
      "       Predict: 2542.3902706656913\n",
      "     Else (feature 3 > 40.74990653991699)\n",
      "      If (feature 3 <= 40.75149726867676)\n",
      "       Predict: 9893.37972166998\n",
      "      Else (feature 3 > 40.75149726867676)\n",
      "       Predict: 3541.574714245888\n",
      "    Else (feature 1 > 40.69063758850098)\n",
      "     If (feature 2 <= -73.97896957397461)\n",
      "      If (feature 3 <= 40.755767822265625)\n",
      "       Predict: 2216.4053192658534\n",
      "      Else (feature 3 > 40.755767822265625)\n",
      "       Predict: 2535.1310711909514\n",
      "     Else (feature 2 > -73.97896957397461)\n",
      "      If (feature 2 <= -73.9589958190918)\n",
      "       Predict: 1944.4559460147696\n",
      "      Else (feature 2 > -73.9589958190918)\n",
      "       Predict: 1465.4280487804879\n",
      "   Else (feature 2 > -73.95603942871094)\n",
      "    If (feature 2 <= -73.9245376586914)\n",
      "     If (feature 1 <= 40.71339416503906)\n",
      "      If (feature 3 <= 40.74348449707031)\n",
      "       Predict: 2165.6846295162277\n",
      "      Else (feature 3 > 40.74348449707031)\n",
      "       Predict: 2653.4870786516854\n",
      "     Else (feature 1 > 40.71339416503906)\n",
      "      If (feature 3 <= 40.68511962890625)\n",
      "       Predict: 2322.419689119171\n",
      "      Else (feature 3 > 40.68511962890625)\n",
      "       Predict: 1341.2569142857142\n",
      "    Else (feature 2 > -73.9245376586914)\n",
      "     If (feature 1 <= 40.69063758850098)\n",
      "      If (feature 3 <= 40.68511962890625)\n",
      "       Predict: 858.0984332425068\n",
      "      Else (feature 3 > 40.68511962890625)\n",
      "       Predict: 1854.7840590781768\n",
      "     Else (feature 1 > 40.69063758850098)\n",
      "      If (feature 3 <= 40.68511962890625)\n",
      "       Predict: 2019.570802919708\n",
      "      Else (feature 3 > 40.68511962890625)\n",
      "       Predict: 870.2647626399074\n",
      "\n"
     ]
    }
   ],
   "source": [
    "print(model.toDebugString)"
   ]
  },
  {
   "cell_type": "markdown",
   "metadata": {},
   "source": [
    "- Kiểm tra mô hình bằng dữ liệu validation"
   ]
  },
  {
   "cell_type": "code",
   "execution_count": 16,
   "metadata": {},
   "outputs": [
    {
     "name": "stderr",
     "output_type": "stream",
     "text": [
      "[Stage 22:>                                                         (0 + 1) / 1]\r"
     ]
    },
    {
     "name": "stdout",
     "output_type": "stream",
     "text": [
      "+--------------------+-------------+------------------+\n",
      "|            features|trip_duration|        prediction|\n",
      "+--------------------+-------------+------------------+\n",
      "|[-74.455558776855...|           50| 784.0699948290734|\n",
      "|[-74.347068786621...|           22| 811.6071083755733|\n",
      "|[-74.289016723632...|           81|    798.3456686291|\n",
      "|[-74.208259582519...|           40| 784.0699948290734|\n",
      "|[-74.181678771972...|            2|    798.3456686291|\n",
      "|[-74.177650451660...|         4470|3042.1834798704303|\n",
      "|[-74.172668457031...|           87| 811.6071083755733|\n",
      "|[-74.126724243164...|         3190| 784.0699948290734|\n",
      "|[-74.100105285644...|         1836|1584.9986710963456|\n",
      "|[-74.093963623046...|         1002|    798.3456686291|\n",
      "|[-74.090621948242...|         1049|    798.3456686291|\n",
      "|[-74.088912963867...|           83| 784.0699948290734|\n",
      "|[-74.079620361328...|          912|    798.3456686291|\n",
      "|[-74.073432922363...|          160|    798.3456686291|\n",
      "|[-74.047920227050...|            9| 784.0699948290734|\n",
      "|[-74.040306091308...|           44|1020.4631605031506|\n",
      "|[-74.032371520996...|           56| 784.0699948290734|\n",
      "|[-74.018005371093...|         1070| 1498.089804858622|\n",
      "|[-74.017829895019...|          989| 1498.089804858622|\n",
      "|[-74.017768859863...|         2964|3042.1834798704303|\n",
      "+--------------------+-------------+------------------+\n",
      "only showing top 20 rows\n",
      "\n"
     ]
    },
    {
     "name": "stderr",
     "output_type": "stream",
     "text": [
      "                                                                                \r"
     ]
    }
   ],
   "source": [
    "predictions_val = model.transform(validation)\n",
    "predictions_val.show()"
   ]
  },
  {
   "cell_type": "markdown",
   "metadata": {},
   "source": [
    "- Đánh giá mô hình bằng các độ đo"
   ]
  },
  {
   "cell_type": "code",
   "execution_count": 17,
   "metadata": {},
   "outputs": [
    {
     "name": "stderr",
     "output_type": "stream",
     "text": [
      "[Stage 25:==================================================>       (7 + 1) / 8]\r"
     ]
    },
    {
     "name": "stdout",
     "output_type": "stream",
     "text": [
      "[VALIDATION] RMSE: 3258.98, R²: 0.02\n"
     ]
    },
    {
     "name": "stderr",
     "output_type": "stream",
     "text": [
      "                                                                                \r"
     ]
    }
   ],
   "source": [
    "evaluator = RegressionEvaluator(labelCol = 'trip_duration', predictionCol = 'prediction')\n",
    "rmse_val = evaluator.setMetricName('rmse').evaluate(predictions_val)\n",
    "r2_val = evaluator.setMetricName('r2').evaluate(predictions_val)\n",
    "print(f\"[VALIDATION] RMSE: {rmse_val:.2f}, R²: {r2_val:.2f}\")"
   ]
  },
  {
   "cell_type": "markdown",
   "metadata": {},
   "source": [
    "## 4. Đưa ra dự đoán cho tập test và xuất kết quả ra file"
   ]
  },
  {
   "cell_type": "markdown",
   "metadata": {},
   "source": [
    "- Load dữ liệu từ file test để làm input"
   ]
  },
  {
   "cell_type": "code",
   "execution_count": 18,
   "metadata": {},
   "outputs": [
    {
     "name": "stderr",
     "output_type": "stream",
     "text": [
      "                                                                                \r"
     ]
    },
    {
     "name": "stdout",
     "output_type": "stream",
     "text": [
      "+---------+---------+-------------------+---------------+------------------+------------------+------------------+------------------+------------------+\n",
      "|       id|vendor_id|    pickup_datetime|passenger_count|  pickup_longitude|   pickup_latitude| dropoff_longitude|  dropoff_latitude|store_and_fwd_flag|\n",
      "+---------+---------+-------------------+---------------+------------------+------------------+------------------+------------------+------------------+\n",
      "|id3004672|        1|2016-06-30 23:59:58|              1|-73.98812866210938| 40.73202896118164|-73.99017333984375| 40.75667953491211|                 N|\n",
      "|id3505355|        1|2016-06-30 23:59:53|              1|-73.96420288085938| 40.67999267578125|-73.95980834960938| 40.65540313720703|                 N|\n",
      "|id1217141|        1|2016-06-30 23:59:47|              1| -73.9974365234375| 40.73758316040039|-73.98616027832031|40.729522705078125|                 N|\n",
      "|id2150126|        2|2016-06-30 23:59:41|              1|-73.95606994628906| 40.77190017700195| -73.9864273071289|       40.73046875|                 N|\n",
      "|id1598245|        1|2016-06-30 23:59:33|              1|   -73.97021484375|   40.761474609375|-73.96150970458984|40.755889892578125|                 N|\n",
      "|id0668992|        1|2016-06-30 23:59:30|              1|-73.99130249023438| 40.74979782104492|-73.98051452636719| 40.78654861450195|                 N|\n",
      "|id1765014|        1|2016-06-30 23:59:15|              1|-73.97830963134766| 40.74155044555664|-73.95207214355469|40.717002868652344|                 N|\n",
      "|id0898117|        1|2016-06-30 23:59:09|              2|-74.01271057128906|  40.7015266418457|-73.98648071289062| 40.71950912475586|                 N|\n",
      "|id3905224|        2|2016-06-30 23:58:55|              2| -73.9923324584961| 40.73051071166992|-73.87561798095703|40.875213623046875|                 N|\n",
      "|id1543102|        2|2016-06-30 23:58:46|              1|-73.99317932128906| 40.74876022338867|-73.97930908203125| 40.76131057739258|                 N|\n",
      "|id3024712|        1|2016-06-30 23:58:32|              4| -73.9685287475586| 40.67843246459961|-73.96659088134766|40.635711669921875|                 N|\n",
      "|id3665810|        2|2016-06-30 23:58:05|              1|-73.98277282714844| 40.75690841674805|-73.97469329833984| 40.75333023071289|                 N|\n",
      "|id1836461|        1|2016-06-30 23:58:01|              1|-73.92110443115234| 40.76729202270508|-73.93685913085938|40.774044036865234|                 N|\n",
      "|id3457080|        2|2016-06-30 23:57:57|              1|-73.98680114746094| 40.73491668701172|-73.97589874267578|40.756893157958984|                 N|\n",
      "|id3376065|        1|2016-06-30 23:57:25|              1|-73.99634552001953| 40.74816131591797| -73.9508285522461|  40.7828254699707|                 N|\n",
      "|id3008739|        1|2016-06-30 23:57:22|              1|-73.96802520751953| 40.76228332519531| -73.9347915649414| 40.79743576049805|                 N|\n",
      "|id0902216|        2|2016-06-30 23:56:44|              1| -74.0077133178711| 40.74068069458008|-73.96881103515625| 40.75386047363281|                 N|\n",
      "|id3564824|        2|2016-06-30 23:55:36|              5|-73.98429870605469| 40.72498321533203|-73.98181915283203|40.740596771240234|                 N|\n",
      "|id0820280|        2|2016-06-30 23:55:28|              1|-73.95259857177734|  40.7683219909668|-73.94855499267578| 40.77372360229492|                 N|\n",
      "|id0775088|        2|2016-06-30 23:55:20|              1|-73.96669006347656|40.794090270996094| -73.9207763671875| 40.83005905151367|                 N|\n",
      "+---------+---------+-------------------+---------------+------------------+------------------+------------------+------------------+------------------+\n",
      "only showing top 20 rows\n",
      "\n"
     ]
    }
   ],
   "source": [
    "df_test = spark.read.csv(\"file:///home/cuong/Downloads/Big_Data/nyc-taxi-trip-duration/test.csv\", header = True, inferSchema = True)\n",
    "df_test.show()"
   ]
  },
  {
   "cell_type": "markdown",
   "metadata": {},
   "source": [
    "- Gom dữ liệu thành assembler để phù hợp với mô hình"
   ]
  },
  {
   "cell_type": "code",
   "execution_count": 19,
   "metadata": {},
   "outputs": [
    {
     "name": "stdout",
     "output_type": "stream",
     "text": [
      "+---------+--------------------+\n",
      "|       id|            features|\n",
      "+---------+--------------------+\n",
      "|id3004672|[-73.988128662109...|\n",
      "|id3505355|[-73.964202880859...|\n",
      "|id1217141|[-73.997436523437...|\n",
      "|id2150126|[-73.956069946289...|\n",
      "|id1598245|[-73.97021484375,...|\n",
      "|id0668992|[-73.991302490234...|\n",
      "|id1765014|[-73.978309631347...|\n",
      "|id0898117|[-74.012710571289...|\n",
      "|id3905224|[-73.992332458496...|\n",
      "|id1543102|[-73.993179321289...|\n",
      "|id3024712|[-73.968528747558...|\n",
      "|id3665810|[-73.982772827148...|\n",
      "|id1836461|[-73.921104431152...|\n",
      "|id3457080|[-73.986801147460...|\n",
      "|id3376065|[-73.996345520019...|\n",
      "|id3008739|[-73.968025207519...|\n",
      "|id0902216|[-74.007713317871...|\n",
      "|id3564824|[-73.984298706054...|\n",
      "|id0820280|[-73.952598571777...|\n",
      "|id0775088|[-73.966690063476...|\n",
      "+---------+--------------------+\n",
      "only showing top 20 rows\n",
      "\n"
     ]
    }
   ],
   "source": [
    "num_cols = ['pickup_longitude', 'pickup_latitude', 'dropoff_longitude','dropoff_latitude']\n",
    "assembler = VectorAssembler(inputCols= num_cols, outputCol= 'features')\n",
    "assembled_df = assembler.transform(df_test).select('id', 'features')\n",
    "assembled_df.show()\n"
   ]
  },
  {
   "cell_type": "markdown",
   "metadata": {},
   "source": [
    "- Dự đoán kết quả"
   ]
  },
  {
   "cell_type": "code",
   "execution_count": 20,
   "metadata": {},
   "outputs": [
    {
     "name": "stdout",
     "output_type": "stream",
     "text": [
      "+---------+--------------------+------------------+\n",
      "|       id|            features|        prediction|\n",
      "+---------+--------------------+------------------+\n",
      "|id3004672|[-73.988128662109...| 784.0699948290734|\n",
      "|id3505355|[-73.964202880859...|    798.3456686291|\n",
      "|id1217141|[-73.997436523437...| 784.0699948290734|\n",
      "|id2150126|[-73.956069946289...| 784.0699948290734|\n",
      "|id1598245|[-73.97021484375,...| 784.0699948290734|\n",
      "|id0668992|[-73.991302490234...| 784.0699948290734|\n",
      "|id1765014|[-73.978309631347...|1020.4631605031506|\n",
      "|id0898117|[-74.012710571289...| 811.6071083755733|\n",
      "|id3905224|[-73.992332458496...|1714.8705337450374|\n",
      "|id1543102|[-73.993179321289...| 784.0699948290734|\n",
      "|id3024712|[-73.968528747558...|    798.3456686291|\n",
      "|id3665810|[-73.982772827148...| 784.0699948290734|\n",
      "|id1836461|[-73.921104431152...| 784.0699948290734|\n",
      "|id3457080|[-73.986801147460...| 784.0699948290734|\n",
      "|id3376065|[-73.996345520019...| 784.0699948290734|\n",
      "|id3008739|[-73.968025207519...| 784.0699948290734|\n",
      "|id0902216|[-74.007713317871...| 784.0699948290734|\n",
      "|id3564824|[-73.984298706054...| 784.0699948290734|\n",
      "|id0820280|[-73.952598571777...| 784.0699948290734|\n",
      "|id0775088|[-73.966690063476...|1714.8705337450374|\n",
      "+---------+--------------------+------------------+\n",
      "only showing top 20 rows\n",
      "\n"
     ]
    }
   ],
   "source": [
    "prediction_res = model.transform(assembled_df)\n",
    "prediction_res.show()"
   ]
  },
  {
   "cell_type": "markdown",
   "metadata": {},
   "source": [
    "- Chuẩn hóa theo yêu cầu"
   ]
  },
  {
   "cell_type": "code",
   "execution_count": 21,
   "metadata": {},
   "outputs": [
    {
     "name": "stdout",
     "output_type": "stream",
     "text": [
      "+---------+-------------+\n",
      "|       id|trip_duration|\n",
      "+---------+-------------+\n",
      "|id3004672|          784|\n",
      "|id3505355|          798|\n",
      "|id1217141|          784|\n",
      "|id2150126|          784|\n",
      "|id1598245|          784|\n",
      "|id0668992|          784|\n",
      "|id1765014|         1020|\n",
      "|id0898117|          811|\n",
      "|id3905224|         1714|\n",
      "|id1543102|          784|\n",
      "|id3024712|          798|\n",
      "|id3665810|          784|\n",
      "|id1836461|          784|\n",
      "|id3457080|          784|\n",
      "|id3376065|          784|\n",
      "|id3008739|          784|\n",
      "|id0902216|          784|\n",
      "|id3564824|          784|\n",
      "|id0820280|          784|\n",
      "|id0775088|         1714|\n",
      "+---------+-------------+\n",
      "only showing top 20 rows\n",
      "\n"
     ]
    }
   ],
   "source": [
    "prediction_res = prediction_res.withColumn('trip_duration', col('prediction').cast('int')).select('id', 'trip_duration')\n",
    "prediction_res.show()"
   ]
  },
  {
   "cell_type": "markdown",
   "metadata": {},
   "source": [
    "- Lưu kết quả vào file"
   ]
  },
  {
   "cell_type": "code",
   "execution_count": 22,
   "metadata": {},
   "outputs": [
    {
     "name": "stderr",
     "output_type": "stream",
     "text": [
      "                                                                                \r"
     ]
    }
   ],
   "source": [
    "prediction_res.coalesce(1) \\\n",
    "    .write.mode(\"overwrite\") \\\n",
    "    .option(\"header\", True) \\\n",
    "    .csv(\"file:///home/cuong/res\")\n"
   ]
  }
 ],
 "metadata": {
  "kernelspec": {
   "display_name": "myenv",
   "language": "python",
   "name": "python3"
  },
  "language_info": {
   "codemirror_mode": {
    "name": "ipython",
    "version": 3
   },
   "file_extension": ".py",
   "mimetype": "text/x-python",
   "name": "python",
   "nbconvert_exporter": "python",
   "pygments_lexer": "ipython3",
   "version": "3.13.2"
  }
 },
 "nbformat": 4,
 "nbformat_minor": 2
}
