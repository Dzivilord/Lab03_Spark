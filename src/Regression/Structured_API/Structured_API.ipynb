{
 "cells": [
  {
   "cell_type": "markdown",
   "metadata": {},
   "source": [
    "## Mô tả bài làm \n",
    "- Sử dụng Spark’s Structured API (spark.ml) để xây dụng 1 Decision Tree Regressor\n",
    "- Dùng dữ liệu New York City Taxi Trip Duration - train để traing cho mô hình và dùng dữ liệu file test để đưa ra dự đoán "
   ]
  },
  {
   "cell_type": "markdown",
   "metadata": {},
   "source": [
    "# Bài làm chi tiết"
   ]
  },
  {
   "cell_type": "markdown",
   "metadata": {},
   "source": [
    "## 1. Chuẩn bị"
   ]
  },
  {
   "cell_type": "markdown",
   "metadata": {},
   "source": [
    "- Thiết lập biến môi trường cho Spark"
   ]
  },
  {
   "cell_type": "code",
   "execution_count": 1,
   "metadata": {},
   "outputs": [],
   "source": [
    "import findspark\n",
    "findspark.init(\"/home/cuong/Downloads/spark-3.5.5-bin-hadoop3\")"
   ]
  },
  {
   "cell_type": "markdown",
   "metadata": {},
   "source": [
    "- Import các thư viện cần thiết"
   ]
  },
  {
   "cell_type": "code",
   "execution_count": 2,
   "metadata": {},
   "outputs": [],
   "source": [
    "from pyspark.ml.feature import VectorAssembler, MinMaxScaler\n",
    "from pyspark.ml.regression import DecisionTreeRegressor\n",
    "from pyspark.sql import SparkSession\n",
    "from pyspark.ml.evaluation import RegressionEvaluator\n",
    "from pyspark.sql.functions import col, sum, when\n",
    "from pyspark.sql.functions import round\n"
   ]
  },
  {
   "cell_type": "markdown",
   "metadata": {},
   "source": [
    "- Khởi tạo park session"
   ]
  },
  {
   "cell_type": "code",
   "execution_count": 3,
   "metadata": {},
   "outputs": [
    {
     "name": "stderr",
     "output_type": "stream",
     "text": [
      "25/05/09 07:40:25 WARN Utils: Your hostname, cuong-Vostro-3405 resolves to a loopback address: 127.0.1.1; using 10.0.146.23 instead (on interface wlp3s0)\n",
      "25/05/09 07:40:25 WARN Utils: Set SPARK_LOCAL_IP if you need to bind to another address\n",
      "Setting default log level to \"WARN\".\n",
      "To adjust logging level use sc.setLogLevel(newLevel). For SparkR, use setLogLevel(newLevel).\n",
      "25/05/09 07:40:26 WARN NativeCodeLoader: Unable to load native-hadoop library for your platform... using builtin-java classes where applicable\n"
     ]
    }
   ],
   "source": [
    "spark = SparkSession.builder \\\n",
    "    .appName(\"NYC Taxi Duration Prediction\") \\\n",
    "    .getOrCreate()"
   ]
  },
  {
   "cell_type": "markdown",
   "metadata": {},
   "source": [
    "## 2. Đọc dữ liệu training và tiền xử lý"
   ]
  },
  {
   "cell_type": "markdown",
   "metadata": {},
   "source": [
    "- Đọc dữ liệu training từ file"
   ]
  },
  {
   "cell_type": "code",
   "execution_count": 4,
   "metadata": {},
   "outputs": [
    {
     "name": "stderr",
     "output_type": "stream",
     "text": [
      "                                                                                \r"
     ]
    }
   ],
   "source": [
    "df = spark.read.csv(\"file:///home/cuong/Downloads/Big_Data/nyc-taxi-trip-duration/train.csv\", header = True, inferSchema = True)"
   ]
  },
  {
   "cell_type": "markdown",
   "metadata": {},
   "source": [
    "- In Schema của dữ liệu"
   ]
  },
  {
   "cell_type": "code",
   "execution_count": 5,
   "metadata": {},
   "outputs": [
    {
     "name": "stdout",
     "output_type": "stream",
     "text": [
      "root\n",
      " |-- id: string (nullable = true)\n",
      " |-- vendor_id: integer (nullable = true)\n",
      " |-- pickup_datetime: timestamp (nullable = true)\n",
      " |-- dropoff_datetime: timestamp (nullable = true)\n",
      " |-- passenger_count: integer (nullable = true)\n",
      " |-- pickup_longitude: double (nullable = true)\n",
      " |-- pickup_latitude: double (nullable = true)\n",
      " |-- dropoff_longitude: double (nullable = true)\n",
      " |-- dropoff_latitude: double (nullable = true)\n",
      " |-- store_and_fwd_flag: string (nullable = true)\n",
      " |-- trip_duration: integer (nullable = true)\n",
      "\n"
     ]
    }
   ],
   "source": [
    "df.printSchema()"
   ]
  },
  {
   "cell_type": "code",
   "execution_count": 6,
   "metadata": {},
   "outputs": [
    {
     "data": {
      "text/plain": [
       "1458644"
      ]
     },
     "execution_count": 6,
     "metadata": {},
     "output_type": "execute_result"
    }
   ],
   "source": [
    "df.count()"
   ]
  },
  {
   "cell_type": "markdown",
   "metadata": {},
   "source": [
    "### Nhận xét: Dữ liệu có 11 features và 1458644 samples"
   ]
  },
  {
   "cell_type": "markdown",
   "metadata": {},
   "source": [
    "- Xem một số mẫu dữ liệu "
   ]
  },
  {
   "cell_type": "code",
   "execution_count": 7,
   "metadata": {},
   "outputs": [
    {
     "name": "stdout",
     "output_type": "stream",
     "text": [
      "+---------+---------+-------------------+-------------------+---------------+------------------+------------------+------------------+------------------+------------------+-------------+\n",
      "|       id|vendor_id|    pickup_datetime|   dropoff_datetime|passenger_count|  pickup_longitude|   pickup_latitude| dropoff_longitude|  dropoff_latitude|store_and_fwd_flag|trip_duration|\n",
      "+---------+---------+-------------------+-------------------+---------------+------------------+------------------+------------------+------------------+------------------+-------------+\n",
      "|id2875421|        2|2016-03-14 17:24:55|2016-03-14 17:32:30|              1| -73.9821548461914| 40.76793670654297|-73.96463012695312|40.765602111816406|                 N|          455|\n",
      "|id2377394|        1|2016-06-12 00:43:35|2016-06-12 00:54:38|              1|-73.98041534423828|40.738563537597656|-73.99948120117188| 40.73115158081055|                 N|          663|\n",
      "|id3858529|        2|2016-01-19 11:35:24|2016-01-19 12:10:48|              1| -73.9790267944336|40.763938903808594|-74.00533294677734|40.710086822509766|                 N|         2124|\n",
      "|id3504673|        2|2016-04-06 19:32:31|2016-04-06 19:39:40|              1|-74.01004028320312|   40.719970703125|-74.01226806640625| 40.70671844482422|                 N|          429|\n",
      "|id2181028|        2|2016-03-26 13:30:55|2016-03-26 13:38:10|              1|-73.97305297851562|40.793209075927734| -73.9729232788086| 40.78252029418945|                 N|          435|\n",
      "+---------+---------+-------------------+-------------------+---------------+------------------+------------------+------------------+------------------+------------------+-------------+\n",
      "only showing top 5 rows\n",
      "\n"
     ]
    }
   ],
   "source": [
    "df.show(5)"
   ]
  },
  {
   "cell_type": "markdown",
   "metadata": {},
   "source": [
    "- Kiểm tra giá trị null của dữ liệu"
   ]
  },
  {
   "cell_type": "code",
   "execution_count": 8,
   "metadata": {},
   "outputs": [
    {
     "name": "stderr",
     "output_type": "stream",
     "text": [
      "[Stage 6:=======>                                                   (1 + 7) / 8]\r"
     ]
    },
    {
     "name": "stdout",
     "output_type": "stream",
     "text": [
      "+---+---------+---------------+----------------+---------------+----------------+---------------+-----------------+----------------+------------------+-------------+\n",
      "| id|vendor_id|pickup_datetime|dropoff_datetime|passenger_count|pickup_longitude|pickup_latitude|dropoff_longitude|dropoff_latitude|store_and_fwd_flag|trip_duration|\n",
      "+---+---------+---------------+----------------+---------------+----------------+---------------+-----------------+----------------+------------------+-------------+\n",
      "|  0|        0|              0|               0|              0|               0|              0|                0|               0|                 0|            0|\n",
      "+---+---------+---------------+----------------+---------------+----------------+---------------+-----------------+----------------+------------------+-------------+\n",
      "\n"
     ]
    },
    {
     "name": "stderr",
     "output_type": "stream",
     "text": [
      "                                                                                \r"
     ]
    }
   ],
   "source": [
    "null_counts = df.select([sum(when(col(c).isNull(), 1).otherwise(0)).alias(c) for c in df.columns])\n",
    "null_counts.show()"
   ]
  },
  {
   "cell_type": "markdown",
   "metadata": {},
   "source": [
    "### Nhận xét: Không có bất kỳ giá trị null nào trong tập dữ liệu"
   ]
  },
  {
   "cell_type": "markdown",
   "metadata": {},
   "source": [
    "- Xóa những dòng duplicate"
   ]
  },
  {
   "cell_type": "code",
   "execution_count": 9,
   "metadata": {},
   "outputs": [
    {
     "name": "stderr",
     "output_type": "stream",
     "text": [
      "                                                                                \r"
     ]
    },
    {
     "data": {
      "text/plain": [
       "1458644"
      ]
     },
     "execution_count": 9,
     "metadata": {},
     "output_type": "execute_result"
    }
   ],
   "source": [
    "df = df.dropDuplicates()\n",
    "df.count()"
   ]
  },
  {
   "cell_type": "markdown",
   "metadata": {},
   "source": [
    "### Nhận xét: Số lượng samples vẫn không đổi => tập dữ liệu không có duplicate"
   ]
  },
  {
   "cell_type": "markdown",
   "metadata": {},
   "source": [
    "- Tạo assembler để làm đầu vào training cho mô hình "
   ]
  },
  {
   "cell_type": "code",
   "execution_count": 10,
   "metadata": {},
   "outputs": [
    {
     "name": "stderr",
     "output_type": "stream",
     "text": [
      "[Stage 15:===========================================>              (6 + 2) / 8]\r"
     ]
    },
    {
     "name": "stdout",
     "output_type": "stream",
     "text": [
      "+--------------------+-------------+\n",
      "|            features|trip_duration|\n",
      "+--------------------+-------------+\n",
      "|[-73.976951599121...|          721|\n",
      "|[-73.992500305175...|         1216|\n",
      "|[-73.952377319335...|          709|\n",
      "|[-73.996566772460...|          952|\n",
      "|[-73.956291198730...|          430|\n",
      "|[-73.987808227539...|          264|\n",
      "|[-74.007629394531...|         1267|\n",
      "|[-73.987991333007...|          610|\n",
      "|[-73.988655090332...|          586|\n",
      "|[-73.989646911621...|          250|\n",
      "|[-73.974662780761...|          978|\n",
      "|[-73.985511779785...|          867|\n",
      "|[-73.973884582519...|         1266|\n",
      "|[-73.870849609375...|         2129|\n",
      "|[-73.990516662597...|          425|\n",
      "|[-73.982238769531...|          983|\n",
      "|[-73.985633850097...|         1511|\n",
      "|[-73.986000061035...|         1358|\n",
      "|[-73.952537536621...|          462|\n",
      "|[-73.984542846679...|          816|\n",
      "+--------------------+-------------+\n",
      "only showing top 20 rows\n",
      "\n"
     ]
    },
    {
     "name": "stderr",
     "output_type": "stream",
     "text": [
      "                                                                                \r"
     ]
    }
   ],
   "source": [
    "num_cols = ['pickup_longitude', 'pickup_latitude','dropoff_longitude', 'dropoff_latitude']\n",
    "assembler = VectorAssembler(inputCols= num_cols, outputCol = \"features\")\n",
    "assembled_df = assembler.transform(df).select(\"features\", 'trip_duration')\n",
    "# Việc scaler không cần thiết trong trường hợp này\n",
    "# scaler = MinMaxScaler(inputCol= 'features', outputCol = 'scaled_features')\n",
    "# scaler_model = scaler.fit(assembled_df)\n",
    "# scaler_df = scaler_model.transform(assembled_df)\n",
    "# scaler_df.sample(withReplacement=False, fraction=0.01).show()\n",
    "assembled_df.show()\n"
   ]
  },
  {
   "cell_type": "markdown",
   "metadata": {},
   "source": [
    "## 3. Huấn luyện và đánh giá mô hình"
   ]
  },
  {
   "cell_type": "markdown",
   "metadata": {},
   "source": [
    "- Chia tập dữ liệu thành 2 phần training và validation tỷ lệ 80-20"
   ]
  },
  {
   "cell_type": "code",
   "execution_count": 11,
   "metadata": {},
   "outputs": [],
   "source": [
    "# training, validation = scaler_df.randomSplit([0.8, 0.2], seed = 42)\n",
    "training, validation = assembled_df.randomSplit([0.8, 0.2], seed = 42)\n"
   ]
  },
  {
   "cell_type": "markdown",
   "metadata": {},
   "source": [
    "- Khởi tạo và training cho mô hình"
   ]
  },
  {
   "cell_type": "code",
   "execution_count": 12,
   "metadata": {},
   "outputs": [
    {
     "name": "stderr",
     "output_type": "stream",
     "text": [
      "                                                                                \r"
     ]
    }
   ],
   "source": [
    "lr =  DecisionTreeRegressor(featuresCol = \"features\", labelCol = \"trip_duration\")\n",
    "model = lr.fit(training)"
   ]
  },
  {
   "cell_type": "markdown",
   "metadata": {},
   "source": [
    "- Xem xét mô hình một cách trực quan"
   ]
  },
  {
   "cell_type": "code",
   "execution_count": 13,
   "metadata": {},
   "outputs": [
    {
     "name": "stdout",
     "output_type": "stream",
     "text": [
      "DecisionTreeRegressionModel: uid=DecisionTreeRegressor_5afb21bf7e83, depth=5, numNodes=63, numFeatures=4\n",
      "  If (feature 0 <= -73.89735794067383)\n",
      "   If (feature 2 <= -73.91363525390625)\n",
      "    If (feature 3 <= 40.706289291381836)\n",
      "     If (feature 1 <= 40.723745346069336)\n",
      "      If (feature 1 <= 40.690229415893555)\n",
      "       Predict: 683.7794524761612\n",
      "      Else (feature 1 > 40.690229415893555)\n",
      "       Predict: 1025.244754798801\n",
      "     Else (feature 1 > 40.723745346069336)\n",
      "      If (feature 3 <= 40.68190383911133)\n",
      "       Predict: 2018.0896068590548\n",
      "      Else (feature 3 > 40.68190383911133)\n",
      "       Predict: 1542.3653846153845\n",
      "    Else (feature 3 > 40.706289291381836)\n",
      "     If (feature 1 <= 40.713626861572266)\n",
      "      If (feature 3 <= 40.741804122924805)\n",
      "       Predict: 841.3698450796421\n",
      "      Else (feature 3 > 40.741804122924805)\n",
      "       Predict: 1544.397875759905\n",
      "     Else (feature 1 > 40.713626861572266)\n",
      "      If (feature 3 <= 40.72457504272461)\n",
      "       Predict: 1009.9452764655298\n",
      "      Else (feature 3 > 40.72457504272461)\n",
      "       Predict: 789.6715425412981\n",
      "   Else (feature 2 > -73.91363525390625)\n",
      "    If (feature 2 <= -73.82495498657227)\n",
      "     If (feature 0 <= -73.95337677001953)\n",
      "      If (feature 0 <= -73.98285293579102)\n",
      "       Predict: 2090.4225844004654\n",
      "      Else (feature 0 > -73.98285293579102)\n",
      "       Predict: 1745.8853012048194\n",
      "     Else (feature 0 > -73.95337677001953)\n",
      "      If (feature 0 <= -73.94828033447266)\n",
      "       Predict: 1264.5949494949496\n",
      "      Else (feature 0 > -73.94828033447266)\n",
      "       Predict: 900.0906895626509\n",
      "    Else (feature 2 > -73.82495498657227)\n",
      "     If (feature 0 <= -73.9935188293457)\n",
      "      If (feature 3 <= 40.68190383911133)\n",
      "       Predict: 3482.0119832234873\n",
      "      Else (feature 3 > 40.68190383911133)\n",
      "       Predict: 2403.1181102362207\n",
      "     Else (feature 0 > -73.9935188293457)\n",
      "      If (feature 1 <= 40.75190544128418)\n",
      "       Predict: 2604.2773411918797\n",
      "      Else (feature 1 > 40.75190544128418)\n",
      "       Predict: 2977.8438848920864\n",
      "  Else (feature 0 > -73.89735794067383)\n",
      "   If (feature 2 <= -73.95516204833984)\n",
      "    If (feature 1 <= 40.690229415893555)\n",
      "     If (feature 2 <= -73.95772933959961)\n",
      "      If (feature 3 <= 40.74910545349121)\n",
      "       Predict: 2924.1777248212716\n",
      "      Else (feature 3 > 40.74910545349121)\n",
      "       Predict: 3652.4767126822344\n",
      "     Else (feature 2 > -73.95772933959961)\n",
      "      If (feature 3 <= 40.77148628234863)\n",
      "       Predict: 2539.1950113378684\n",
      "      Else (feature 3 > 40.77148628234863)\n",
      "       Predict: 14289.412790697674\n",
      "    Else (feature 1 > 40.690229415893555)\n",
      "     If (feature 2 <= -73.97971725463867)\n",
      "      If (feature 3 <= 40.75215530395508)\n",
      "       Predict: 2208.938208689005\n",
      "      Else (feature 3 > 40.75215530395508)\n",
      "       Predict: 2573.5083265637695\n",
      "     Else (feature 2 > -73.97971725463867)\n",
      "      If (feature 2 <= -73.96095657348633)\n",
      "       Predict: 1987.0470421446062\n",
      "      Else (feature 2 > -73.96095657348633)\n",
      "       Predict: 1558.473493100944\n",
      "   Else (feature 2 > -73.95516204833984)\n",
      "    If (feature 2 <= -73.91363525390625)\n",
      "     If (feature 1 <= 40.690229415893555)\n",
      "      If (feature 3 <= 40.74420356750488)\n",
      "       Predict: 2216.9187319884727\n",
      "      Else (feature 3 > 40.74420356750488)\n",
      "       Predict: 2524.09595959596\n",
      "     Else (feature 1 > 40.690229415893555)\n",
      "      If (feature 3 <= 40.706289291381836)\n",
      "       Predict: 2041.391952309985\n",
      "      Else (feature 3 > 40.706289291381836)\n",
      "       Predict: 1279.8192391567725\n",
      "    Else (feature 2 > -73.91363525390625)\n",
      "     If (feature 3 <= 40.77968788146973)\n",
      "      If (feature 1 <= 40.690229415893555)\n",
      "       Predict: 1249.6059201141227\n",
      "      Else (feature 1 > 40.690229415893555)\n",
      "       Predict: 995.8590658780339\n",
      "     Else (feature 3 > 40.77968788146973)\n",
      "      If (feature 1 <= 40.723745346069336)\n",
      "       Predict: 2561.7428115015973\n",
      "      Else (feature 1 > 40.723745346069336)\n",
      "       Predict: 1378.0496828752644\n",
      "\n"
     ]
    }
   ],
   "source": [
    "print(model.toDebugString)"
   ]
  },
  {
   "cell_type": "markdown",
   "metadata": {},
   "source": [
    "- Kiểm tra mô hình bằng dữ liệu validation"
   ]
  },
  {
   "cell_type": "code",
   "execution_count": 14,
   "metadata": {},
   "outputs": [
    {
     "name": "stderr",
     "output_type": "stream",
     "text": [
      "[Stage 43:>                                                         (0 + 1) / 1]\r"
     ]
    },
    {
     "name": "stdout",
     "output_type": "stream",
     "text": [
      "+--------------------+-------------+------------------+\n",
      "|            features|trip_duration|        prediction|\n",
      "+--------------------+-------------+------------------+\n",
      "|[-76.963241577148...|         1202| 683.7794524761612|\n",
      "|[-74.323921203613...|          251| 789.6715425412981|\n",
      "|[-74.231010437011...|         1880|2090.4225844004654|\n",
      "|[-74.194831848144...|          132| 789.6715425412981|\n",
      "|[-74.178779602050...|         2939| 1544.397875759905|\n",
      "|[-74.177375793457...|           15| 1025.244754798801|\n",
      "|[-74.17724609375,...|            3| 1025.244754798801|\n",
      "|[-74.140480041503...|         1158| 683.7794524761612|\n",
      "|[-74.089508056640...|          573| 683.7794524761612|\n",
      "|[-74.088569641113...|          737| 683.7794524761612|\n",
      "|[-74.088218688964...|          258| 683.7794524761612|\n",
      "|[-74.075500488281...|          401| 683.7794524761612|\n",
      "|[-74.072662353515...|           31| 683.7794524761612|\n",
      "|[-74.054946899414...|            8| 789.6715425412981|\n",
      "|[-74.042556762695...|           10|1009.9452764655298|\n",
      "|[-74.035385131835...|         1554| 841.3698450796421|\n",
      "|[-74.030113220214...|           10| 789.6715425412981|\n",
      "|[-74.017982482910...|         1763|2090.4225844004654|\n",
      "|[-74.017715454101...|         2359|2403.1181102362207|\n",
      "|[-74.017654418945...|          261| 841.3698450796421|\n",
      "+--------------------+-------------+------------------+\n",
      "only showing top 20 rows\n",
      "\n"
     ]
    },
    {
     "name": "stderr",
     "output_type": "stream",
     "text": [
      "                                                                                \r"
     ]
    }
   ],
   "source": [
    "predictions_val = model.transform(validation)\n",
    "predictions_val.show()"
   ]
  },
  {
   "cell_type": "markdown",
   "metadata": {},
   "source": [
    "- Đánh giá mô hình bằng các độ đo"
   ]
  },
  {
   "cell_type": "code",
   "execution_count": 15,
   "metadata": {},
   "outputs": [
    {
     "name": "stderr",
     "output_type": "stream",
     "text": [
      "[Stage 50:===================>                                      (3 + 6) / 9]\r"
     ]
    },
    {
     "name": "stdout",
     "output_type": "stream",
     "text": [
      "[VALIDATION] RMSE: 4913.78, R²: 0.01\n"
     ]
    },
    {
     "name": "stderr",
     "output_type": "stream",
     "text": [
      "                                                                                \r"
     ]
    }
   ],
   "source": [
    "evaluator = RegressionEvaluator(labelCol = 'trip_duration', predictionCol = 'prediction')\n",
    "rmse_val = evaluator.setMetricName('rmse').evaluate(predictions_val)\n",
    "r2_val = evaluator.setMetricName('r2').evaluate(predictions_val)\n",
    "print(f\"[VALIDATION] RMSE: {rmse_val:.2f}, R²: {r2_val:.2f}\")"
   ]
  },
  {
   "cell_type": "markdown",
   "metadata": {},
   "source": [
    "## 4. Đưa ra dự đoán cho tập test và xuất kết quả ra file"
   ]
  },
  {
   "cell_type": "markdown",
   "metadata": {},
   "source": [
    "- Load dữ liệu từ file test để làm input"
   ]
  },
  {
   "cell_type": "code",
   "execution_count": 16,
   "metadata": {},
   "outputs": [
    {
     "name": "stderr",
     "output_type": "stream",
     "text": [
      "[Stage 53:==============>                                           (2 + 6) / 8]\r"
     ]
    },
    {
     "name": "stdout",
     "output_type": "stream",
     "text": [
      "+---------+---------+-------------------+---------------+------------------+------------------+------------------+------------------+------------------+\n",
      "|       id|vendor_id|    pickup_datetime|passenger_count|  pickup_longitude|   pickup_latitude| dropoff_longitude|  dropoff_latitude|store_and_fwd_flag|\n",
      "+---------+---------+-------------------+---------------+------------------+------------------+------------------+------------------+------------------+\n",
      "|id3004672|        1|2016-06-30 23:59:58|              1|-73.98812866210938| 40.73202896118164|-73.99017333984375| 40.75667953491211|                 N|\n",
      "|id3505355|        1|2016-06-30 23:59:53|              1|-73.96420288085938| 40.67999267578125|-73.95980834960938| 40.65540313720703|                 N|\n",
      "|id1217141|        1|2016-06-30 23:59:47|              1| -73.9974365234375| 40.73758316040039|-73.98616027832031|40.729522705078125|                 N|\n",
      "|id2150126|        2|2016-06-30 23:59:41|              1|-73.95606994628906| 40.77190017700195| -73.9864273071289|       40.73046875|                 N|\n",
      "|id1598245|        1|2016-06-30 23:59:33|              1|   -73.97021484375|   40.761474609375|-73.96150970458984|40.755889892578125|                 N|\n",
      "|id0668992|        1|2016-06-30 23:59:30|              1|-73.99130249023438| 40.74979782104492|-73.98051452636719| 40.78654861450195|                 N|\n",
      "|id1765014|        1|2016-06-30 23:59:15|              1|-73.97830963134766| 40.74155044555664|-73.95207214355469|40.717002868652344|                 N|\n",
      "|id0898117|        1|2016-06-30 23:59:09|              2|-74.01271057128906|  40.7015266418457|-73.98648071289062| 40.71950912475586|                 N|\n",
      "|id3905224|        2|2016-06-30 23:58:55|              2| -73.9923324584961| 40.73051071166992|-73.87561798095703|40.875213623046875|                 N|\n",
      "|id1543102|        2|2016-06-30 23:58:46|              1|-73.99317932128906| 40.74876022338867|-73.97930908203125| 40.76131057739258|                 N|\n",
      "|id3024712|        1|2016-06-30 23:58:32|              4| -73.9685287475586| 40.67843246459961|-73.96659088134766|40.635711669921875|                 N|\n",
      "|id3665810|        2|2016-06-30 23:58:05|              1|-73.98277282714844| 40.75690841674805|-73.97469329833984| 40.75333023071289|                 N|\n",
      "|id1836461|        1|2016-06-30 23:58:01|              1|-73.92110443115234| 40.76729202270508|-73.93685913085938|40.774044036865234|                 N|\n",
      "|id3457080|        2|2016-06-30 23:57:57|              1|-73.98680114746094| 40.73491668701172|-73.97589874267578|40.756893157958984|                 N|\n",
      "|id3376065|        1|2016-06-30 23:57:25|              1|-73.99634552001953| 40.74816131591797| -73.9508285522461|  40.7828254699707|                 N|\n",
      "|id3008739|        1|2016-06-30 23:57:22|              1|-73.96802520751953| 40.76228332519531| -73.9347915649414| 40.79743576049805|                 N|\n",
      "|id0902216|        2|2016-06-30 23:56:44|              1| -74.0077133178711| 40.74068069458008|-73.96881103515625| 40.75386047363281|                 N|\n",
      "|id3564824|        2|2016-06-30 23:55:36|              5|-73.98429870605469| 40.72498321533203|-73.98181915283203|40.740596771240234|                 N|\n",
      "|id0820280|        2|2016-06-30 23:55:28|              1|-73.95259857177734|  40.7683219909668|-73.94855499267578| 40.77372360229492|                 N|\n",
      "|id0775088|        2|2016-06-30 23:55:20|              1|-73.96669006347656|40.794090270996094| -73.9207763671875| 40.83005905151367|                 N|\n",
      "+---------+---------+-------------------+---------------+------------------+------------------+------------------+------------------+------------------+\n",
      "only showing top 20 rows\n",
      "\n"
     ]
    },
    {
     "name": "stderr",
     "output_type": "stream",
     "text": [
      "                                                                                \r"
     ]
    }
   ],
   "source": [
    "df_test = spark.read.csv(\"file:///home/cuong/Downloads/Big_Data/nyc-taxi-trip-duration/test.csv\", header = True, inferSchema = True)\n",
    "df_test.show()"
   ]
  },
  {
   "cell_type": "markdown",
   "metadata": {},
   "source": [
    "- Gom dữ liệu thành assembler để phù hợp với mô hình"
   ]
  },
  {
   "cell_type": "code",
   "execution_count": 17,
   "metadata": {},
   "outputs": [
    {
     "name": "stdout",
     "output_type": "stream",
     "text": [
      "+---------+--------------------+\n",
      "|       id|            features|\n",
      "+---------+--------------------+\n",
      "|id3004672|[-73.988128662109...|\n",
      "|id3505355|[-73.964202880859...|\n",
      "|id1217141|[-73.997436523437...|\n",
      "|id2150126|[-73.956069946289...|\n",
      "|id1598245|[-73.97021484375,...|\n",
      "|id0668992|[-73.991302490234...|\n",
      "|id1765014|[-73.978309631347...|\n",
      "|id0898117|[-74.012710571289...|\n",
      "|id3905224|[-73.992332458496...|\n",
      "|id1543102|[-73.993179321289...|\n",
      "|id3024712|[-73.968528747558...|\n",
      "|id3665810|[-73.982772827148...|\n",
      "|id1836461|[-73.921104431152...|\n",
      "|id3457080|[-73.986801147460...|\n",
      "|id3376065|[-73.996345520019...|\n",
      "|id3008739|[-73.968025207519...|\n",
      "|id0902216|[-74.007713317871...|\n",
      "|id3564824|[-73.984298706054...|\n",
      "|id0820280|[-73.952598571777...|\n",
      "|id0775088|[-73.966690063476...|\n",
      "+---------+--------------------+\n",
      "only showing top 20 rows\n",
      "\n"
     ]
    }
   ],
   "source": [
    "num_cols = ['pickup_longitude', 'pickup_latitude', 'dropoff_longitude','dropoff_latitude']\n",
    "assembler = VectorAssembler(inputCols= num_cols, outputCol= 'features')\n",
    "assembled_df = assembler.transform(df_test).select('id', 'features')\n",
    "assembled_df.show()\n"
   ]
  },
  {
   "cell_type": "markdown",
   "metadata": {},
   "source": [
    "- Dự đoán kết quả"
   ]
  },
  {
   "cell_type": "code",
   "execution_count": 18,
   "metadata": {},
   "outputs": [
    {
     "name": "stdout",
     "output_type": "stream",
     "text": [
      "+---------+--------------------+------------------+\n",
      "|       id|            features|        prediction|\n",
      "+---------+--------------------+------------------+\n",
      "|id3004672|[-73.988128662109...| 789.6715425412981|\n",
      "|id3505355|[-73.964202880859...| 683.7794524761612|\n",
      "|id1217141|[-73.997436523437...| 789.6715425412981|\n",
      "|id2150126|[-73.956069946289...| 789.6715425412981|\n",
      "|id1598245|[-73.97021484375,...| 789.6715425412981|\n",
      "|id0668992|[-73.991302490234...| 789.6715425412981|\n",
      "|id1765014|[-73.978309631347...|1009.9452764655298|\n",
      "|id0898117|[-74.012710571289...| 841.3698450796421|\n",
      "|id3905224|[-73.992332458496...|2090.4225844004654|\n",
      "|id1543102|[-73.993179321289...| 789.6715425412981|\n",
      "|id3024712|[-73.968528747558...| 683.7794524761612|\n",
      "|id3665810|[-73.982772827148...| 789.6715425412981|\n",
      "|id1836461|[-73.921104431152...| 789.6715425412981|\n",
      "|id3457080|[-73.986801147460...| 789.6715425412981|\n",
      "|id3376065|[-73.996345520019...| 789.6715425412981|\n",
      "|id3008739|[-73.968025207519...| 789.6715425412981|\n",
      "|id0902216|[-74.007713317871...| 789.6715425412981|\n",
      "|id3564824|[-73.984298706054...| 789.6715425412981|\n",
      "|id0820280|[-73.952598571777...| 789.6715425412981|\n",
      "|id0775088|[-73.966690063476...| 789.6715425412981|\n",
      "+---------+--------------------+------------------+\n",
      "only showing top 20 rows\n",
      "\n"
     ]
    }
   ],
   "source": [
    "prediction_res = model.transform(assembled_df)\n",
    "prediction_res.show()"
   ]
  },
  {
   "cell_type": "markdown",
   "metadata": {},
   "source": [
    "- Chuẩn hóa theo yêu cầu"
   ]
  },
  {
   "cell_type": "code",
   "execution_count": 19,
   "metadata": {},
   "outputs": [
    {
     "name": "stdout",
     "output_type": "stream",
     "text": [
      "+---------+-------------+\n",
      "|       id|trip_duration|\n",
      "+---------+-------------+\n",
      "|id3004672|          789|\n",
      "|id3505355|          683|\n",
      "|id1217141|          789|\n",
      "|id2150126|          789|\n",
      "|id1598245|          789|\n",
      "|id0668992|          789|\n",
      "|id1765014|         1009|\n",
      "|id0898117|          841|\n",
      "|id3905224|         2090|\n",
      "|id1543102|          789|\n",
      "|id3024712|          683|\n",
      "|id3665810|          789|\n",
      "|id1836461|          789|\n",
      "|id3457080|          789|\n",
      "|id3376065|          789|\n",
      "|id3008739|          789|\n",
      "|id0902216|          789|\n",
      "|id3564824|          789|\n",
      "|id0820280|          789|\n",
      "|id0775088|          789|\n",
      "+---------+-------------+\n",
      "only showing top 20 rows\n",
      "\n"
     ]
    }
   ],
   "source": [
    "prediction_res = prediction_res.withColumn('trip_duration', col('prediction').cast('int')).select('id', 'trip_duration')\n",
    "prediction_res.show()"
   ]
  },
  {
   "cell_type": "markdown",
   "metadata": {},
   "source": [
    "- Lưu kết quả vào file"
   ]
  },
  {
   "cell_type": "code",
   "execution_count": 23,
   "metadata": {},
   "outputs": [
    {
     "name": "stderr",
     "output_type": "stream",
     "text": [
      "                                                                                \r"
     ]
    }
   ],
   "source": [
    "prediction_res.coalesce(1) \\\n",
    "    .write.mode(\"overwrite\") \\\n",
    "    .option(\"header\", True) \\\n",
    "    .parquet(\"file:///home/cuong/res\")\n"
   ]
  }
 ],
 "metadata": {
  "kernelspec": {
   "display_name": "myenv",
   "language": "python",
   "name": "python3"
  },
  "language_info": {
   "codemirror_mode": {
    "name": "ipython",
    "version": 3
   },
   "file_extension": ".py",
   "mimetype": "text/x-python",
   "name": "python",
   "nbconvert_exporter": "python",
   "pygments_lexer": "ipython3",
   "version": "3.13.2"
  }
 },
 "nbformat": 4,
 "nbformat_minor": 2
}
