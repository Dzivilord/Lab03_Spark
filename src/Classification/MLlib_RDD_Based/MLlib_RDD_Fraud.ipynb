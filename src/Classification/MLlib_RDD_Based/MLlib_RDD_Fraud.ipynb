{
 "cells": [
  {
   "cell_type": "markdown",
   "id": "9543451a",
   "metadata": {},
   "source": [
    "# MLlib_RDD_Based"
   ]
  },
  {
   "cell_type": "code",
   "execution_count": 1,
   "id": "a502dcd2",
   "metadata": {},
   "outputs": [],
   "source": [
    "import findspark\n",
    "findspark.init()"
   ]
  },
  {
   "cell_type": "markdown",
   "id": "06348954",
   "metadata": {},
   "source": [
    "## Thêm các thư viện cần thiết"
   ]
  },
  {
   "cell_type": "code",
   "execution_count": 2,
   "id": "29f7cc5c",
   "metadata": {},
   "outputs": [],
   "source": [
    "import pyspark\n",
    "from pyspark.sql import SparkSession\n",
    "from pyspark.mllib.classification import LabeledPoint, LogisticRegressionWithLBFGS\n",
    "from pyspark.mllib.linalg import Vectors\n",
    "import os\n",
    "import sys\n",
    "\n",
    "os.environ[\"PYSPARK_PYTHON\"] = sys.executable\n",
    "os.environ[\"PYSPARK_DRIVER_PYTHON\"] = sys.executable"
   ]
  },
  {
   "cell_type": "markdown",
   "id": "b1487e91",
   "metadata": {},
   "source": [
    "## Tạo session"
   ]
  },
  {
   "cell_type": "code",
   "execution_count": 3,
   "id": "8184e305",
   "metadata": {},
   "outputs": [],
   "source": [
    "spark=SparkSession.builder.master(\"local\")\\\n",
    "    .appName(\"mllib_rdd_based\")\\\n",
    "    .config(\"spark.some.config.option\", \"some-value\")\\\n",
    "    .getOrCreate()"
   ]
  },
  {
   "cell_type": "markdown",
   "id": "fce093fd",
   "metadata": {},
   "source": [
    "## Đọc dữ liệu"
   ]
  },
  {
   "cell_type": "code",
   "execution_count": 4,
   "id": "5837bc5b",
   "metadata": {},
   "outputs": [
    {
     "data": {
      "text/plain": [
       "284808"
      ]
     },
     "execution_count": 4,
     "metadata": {},
     "output_type": "execute_result"
    }
   ],
   "source": [
    "lines=spark.sparkContext.textFile(\"hdfs://localhost:9000/lab03/creditcard.csv\")\n",
    "lines.count()"
   ]
  },
  {
   "cell_type": "code",
   "execution_count": 5,
   "id": "670476a0",
   "metadata": {},
   "outputs": [],
   "source": [
    "header=lines.first()"
   ]
  },
  {
   "cell_type": "code",
   "execution_count": 6,
   "id": "9784742f",
   "metadata": {},
   "outputs": [],
   "source": [
    "raw_data=lines.filter(lambda line: line !=header)\n",
    "data=raw_data.map(lambda lines: lines.split(\",\"))\\\n",
    "            .map(lambda line: tuple([float(x) for x in line[0:-1]]+[float(line[-1].strip('\"'))]))"
   ]
  },
  {
   "cell_type": "code",
   "execution_count": 7,
   "id": "ffb81239",
   "metadata": {},
   "outputs": [
    {
     "name": "stdout",
     "output_type": "stream",
     "text": [
      "(0.0, -1.3598071336738, -0.0727811733098497, 2.53634673796914, 1.37815522427443, -0.338320769942518, 0.462387777762292, 0.239598554061257, 0.0986979012610507, 0.363786969611213, 0.0907941719789316, -0.551599533260813, -0.617800855762348, -0.991389847235408, -0.311169353699879, 1.46817697209427, -0.470400525259478, 0.207971241929242, 0.0257905801985591, 0.403992960255733, 0.251412098239705, -0.018306777944153, 0.277837575558899, -0.110473910188767, 0.0669280749146731, 0.128539358273528, -0.189114843888824, 0.133558376740387, -0.0210530534538215, 149.62, 0.0)\n",
      "(0.0, 1.19185711131486, 0.26615071205963, 0.16648011335321, 0.448154078460911, 0.0600176492822243, -0.0823608088155687, -0.0788029833323113, 0.0851016549148104, -0.255425128109186, -0.166974414004614, 1.61272666105479, 1.06523531137287, 0.48909501589608, -0.143772296441519, 0.635558093258208, 0.463917041022171, -0.114804663102346, -0.183361270123994, -0.145783041325259, -0.0690831352230203, -0.225775248033138, -0.638671952771851, 0.101288021253234, -0.339846475529127, 0.167170404418143, 0.125894532368176, -0.00898309914322813, 0.0147241691924927, 2.69, 0.0)\n",
      "(1.0, -1.35835406159823, -1.34016307473609, 1.77320934263119, 0.379779593034328, -0.503198133318193, 1.80049938079263, 0.791460956450422, 0.247675786588991, -1.51465432260583, 0.207642865216696, 0.624501459424895, 0.066083685268831, 0.717292731410831, -0.165945922763554, 2.34586494901581, -2.89008319444231, 1.10996937869599, -0.121359313195888, -2.26185709530414, 0.524979725224404, 0.247998153469754, 0.771679401917229, 0.909412262347719, -0.689280956490685, -0.327641833735251, -0.139096571514147, -0.0553527940384261, -0.0597518405929204, 378.66, 0.0)\n",
      "(1.0, -0.966271711572087, -0.185226008082898, 1.79299333957872, -0.863291275036453, -0.0103088796030823, 1.24720316752486, 0.23760893977178, 0.377435874652262, -1.38702406270197, -0.0549519224713749, -0.226487263835401, 0.178228225877303, 0.507756869957169, -0.28792374549456, -0.631418117709045, -1.0596472454325, -0.684092786345479, 1.96577500349538, -1.2326219700892, -0.208037781160366, -0.108300452035545, 0.00527359678253453, -0.190320518742841, -1.17557533186321, 0.647376034602038, -0.221928844458407, 0.0627228487293033, 0.0614576285006353, 123.5, 0.0)\n",
      "(2.0, -1.15823309349523, 0.877736754848451, 1.548717846511, 0.403033933955121, -0.407193377311653, 0.0959214624684256, 0.592940745385545, -0.270532677192282, 0.817739308235294, 0.753074431976354, -0.822842877946363, 0.53819555014995, 1.3458515932154, -1.11966983471731, 0.175121130008994, -0.451449182813529, -0.237033239362776, -0.0381947870352842, 0.803486924960175, 0.408542360392758, -0.00943069713232919, 0.79827849458971, -0.137458079619063, 0.141266983824769, -0.206009587619756, 0.502292224181569, 0.219422229513348, 0.215153147499206, 69.99, 0.0)\n"
     ]
    }
   ],
   "source": [
    "for row in data.take(5):\n",
    "    print(row)"
   ]
  },
  {
   "cell_type": "markdown",
   "id": "ef48e1f1",
   "metadata": {},
   "source": [
    "## Tiền xử lý dữ liệu"
   ]
  },
  {
   "cell_type": "markdown",
   "id": "344d2656",
   "metadata": {},
   "source": [
    "### Loại bỏ dữ liệu lặp"
   ]
  },
  {
   "cell_type": "code",
   "execution_count": 8,
   "id": "954c746c",
   "metadata": {},
   "outputs": [
    {
     "data": {
      "text/plain": [
       "284807"
      ]
     },
     "execution_count": 8,
     "metadata": {},
     "output_type": "execute_result"
    }
   ],
   "source": [
    "data.count()  "
   ]
  },
  {
   "cell_type": "code",
   "execution_count": 9,
   "id": "af9a4685",
   "metadata": {},
   "outputs": [
    {
     "data": {
      "text/plain": [
       "283726"
      ]
     },
     "execution_count": 9,
     "metadata": {},
     "output_type": "execute_result"
    }
   ],
   "source": [
    "data=data.distinct()\n",
    "data.count()"
   ]
  },
  {
   "cell_type": "markdown",
   "id": "67644b8f",
   "metadata": {},
   "source": [
    "### Loại bỏ dữ liệu thiếu"
   ]
  },
  {
   "cell_type": "code",
   "execution_count": 10,
   "id": "271fc7f9",
   "metadata": {},
   "outputs": [],
   "source": [
    "data = data.filter(lambda line: all(x is not None and x != '' for x in line))"
   ]
  },
  {
   "cell_type": "code",
   "execution_count": 11,
   "id": "66a7da4d",
   "metadata": {},
   "outputs": [
    {
     "data": {
      "text/plain": [
       "283726"
      ]
     },
     "execution_count": 11,
     "metadata": {},
     "output_type": "execute_result"
    }
   ],
   "source": [
    "data.count()"
   ]
  },
  {
   "cell_type": "markdown",
   "id": "6f81beed",
   "metadata": {},
   "source": [
    "## Chuẩn hóa dữ liệu Min-Max"
   ]
  },
  {
   "cell_type": "code",
   "execution_count": 22,
   "id": "7f36ee3e",
   "metadata": {},
   "outputs": [
    {
     "name": "stdout",
     "output_type": "stream",
     "text": [
      "(0.0, 0.978541954971695, 0.7700666508227654, 0.8402984903939014, 0.2717964907547009, 0.7661203363388934, 0.2621916978704357, 0.26487543874149616, 0.7862983529047245, 0.4539809683822362, 0.5052673462220311, 0.38118772246581145, 0.7443415693042709, 0.48619017593610825, 0.6412190072734594, 0.3838396643725496, 0.46410517798669204, 0.7277939830919614, 0.6406810941347436, 0.5519304220394026, 0.5795297525747019, 0.5578399149746115, 0.4802369598542956, 0.6669378230986288, 0.33643999609599445, 0.5872902523783181, 0.446012969158175, 0.4163451447884128, 0.31342266347556097, 0.00010470527605604418, 0.0)\n",
      "(5.787304967822585e-06, 0.9352170233299468, 0.7531176669488862, 0.8681408192619086, 0.26876550734448534, 0.7623287857209992, 0.28112212055047436, 0.27017718255653134, 0.788042262834494, 0.41060274137949276, 0.5130180380913919, 0.32242211351494776, 0.7066833600612961, 0.5038542274352835, 0.6404734520442342, 0.5116969543365681, 0.3574426288295902, 0.7633809907036572, 0.644945381986696, 0.3866831265201538, 0.5858550460090379, 0.5654773291142932, 0.5460298304053196, 0.6789391667806758, 0.28935386333974467, 0.5595151957493345, 0.4027271804474953, 0.4154892660220704, 0.3119113161516553, 0.014738921870402115, 0.0)\n",
      "(5.787304967822585e-06, 0.9418780172089026, 0.7653039594895851, 0.8684836477480651, 0.21366122165460716, 0.7656469003978437, 0.27555923742073796, 0.26680305504229257, 0.789434181116517, 0.41499937895009953, 0.507585049815728, 0.2718173824777015, 0.7109101085000273, 0.48763473006085745, 0.6363721290461002, 0.2891244124060262, 0.4156534072087239, 0.7112527599081695, 0.7884915207380864, 0.4670575919484235, 0.5780502308470583, 0.5597336550308539, 0.5102770105429978, 0.6626071841558184, 0.22382592386909095, 0.6142454033294951, 0.3891966874892003, 0.4176686729751576, 0.3143710291152579, 0.004807100963911322, 0.0)\n",
      "(1.157460993564517e-05, 0.9386168309047992, 0.7765197872285701, 0.8642507014068559, 0.26979635271182784, 0.762975086664976, 0.2639841616818171, 0.26896777555589724, 0.7824835132574709, 0.490949592310647, 0.524302813899289, 0.23635461472324998, 0.7244773434060552, 0.5525089481021132, 0.6084059029899085, 0.3494188105227709, 0.4349950742323001, 0.7242425122693436, 0.6506651607838598, 0.6260602920935069, 0.5846152773779434, 0.5613274744848151, 0.5472706776985539, 0.6633922370815128, 0.40126980955807323, 0.5663427199358343, 0.5074968103902842, 0.4205609860045009, 0.3174899839572811, 0.00272428337217938, 0.0)\n",
      "(1.157460993564517e-05, 0.951057144520383, 0.7773933049100515, 0.857187426639569, 0.24447172439094772, 0.7685503696493547, 0.26272087672843375, 0.2682565838511204, 0.7881778347516718, 0.44319018708866387, 0.5010377081471302, 0.36504485618049964, 0.7177571189222789, 0.4206122570535468, 0.6414422202047845, 0.375022735853622, 0.46212740051467616, 0.7294406388205362, 0.6580138055702963, 0.560722680333313, 0.5811700109123118, 0.5581223722291054, 0.48391517857964894, 0.6650415802168584, 0.33218459137191675, 0.5648392537255553, 0.4427493147717611, 0.42119633749593616, 0.3147692326044016, 0.00014285069261177775, 0.0)\n"
     ]
    }
   ],
   "source": [
    "features = data.map(lambda line: line[0:-1])\n",
    "\n",
    "min_features=features.reduce(lambda x, y: [min(x[i], y[i]) for i in range(len(x))])\n",
    "max_features=features.reduce(lambda x, y: [max(x[i], y[i]) for i in range(len(x))])\n",
    "\n",
    "normalized_data = data.map(lambda line: tuple([(line[i] - min_features[i]) / (max_features[i] - min_features[i]) for i in range(len(line)-1)]+[line[-1]]))\n",
    "\n",
    "for row in normalized_data.take(5):\n",
    "    print(row)"
   ]
  },
  {
   "cell_type": "markdown",
   "id": "fb258994",
   "metadata": {},
   "source": [
    "## Tách dữ liệu"
   ]
  },
  {
   "cell_type": "code",
   "execution_count": 13,
   "id": "213102a6",
   "metadata": {},
   "outputs": [],
   "source": [
    "train_0,val_0,test_0= normalized_data.filter(lambda x: x[-1] == 0.0).randomSplit([0.7,0.15,0.15], seed=42)\n",
    "train_1,val_1,test_1= normalized_data.filter(lambda x: x[-1] == 1.0).randomSplit([0.7,0.15,0.15], seed=42)\n",
    "train=train_0.union(train_1)\n",
    "val=val_0.union(val_1)\n",
    "test=test_0.union(test_1)"
   ]
  },
  {
   "cell_type": "markdown",
   "id": "b4cec397",
   "metadata": {},
   "source": [
    "## Chuyển thành RDD LabeledPoint"
   ]
  },
  {
   "cell_type": "code",
   "execution_count": 14,
   "id": "824b089f",
   "metadata": {},
   "outputs": [],
   "source": [
    "train_data=train.map(lambda line: LabeledPoint(line[-1], Vectors.dense(line[0:-1])))\n",
    "val_data=val.map(lambda line: LabeledPoint(line[-1], Vectors.dense(line[0:-1])))\n",
    "test_data=test.map(lambda line: LabeledPoint(line[-1], Vectors.dense(line[0:-1])))\n"
   ]
  },
  {
   "cell_type": "markdown",
   "id": "0ed3964d",
   "metadata": {},
   "source": [
    "## Huấn luyện mô hình"
   ]
  },
  {
   "cell_type": "markdown",
   "id": "3c623c97",
   "metadata": {},
   "source": [
    "- Sử dụng vòng lặp [20,50,100]\n",
    "- Sử dụng regParam [0, 0.01, 0.1]\n",
    "- Sử dụng thang đo recall trên label 1 để quyết định mô hình tốt nhất"
   ]
  },
  {
   "cell_type": "code",
   "execution_count": 15,
   "id": "56cebbc9",
   "metadata": {},
   "outputs": [],
   "source": [
    "iterations=[20,50,100]\n",
    "regParams=[0, 0.01, 0.1]\n",
    "\n",
    "best_recall=0.0\n",
    "best_model=None\n",
    "best_params=None\n",
    "best_metrics=None"
   ]
  },
  {
   "cell_type": "code",
   "execution_count": 16,
   "id": "fa9ab42c",
   "metadata": {},
   "outputs": [
    {
     "name": "stdout",
     "output_type": "stream",
     "text": [
      "Training with Iterations: 20, RegParams 0\n"
     ]
    },
    {
     "name": "stderr",
     "output_type": "stream",
     "text": [
      "C:\\Program Files\\Apache\\Spark\\python\\pyspark\\sql\\context.py:158: FutureWarning: Deprecated in 3.0.0. Use SparkSession.builder.getOrCreate() instead.\n",
      "  warnings.warn(\n"
     ]
    },
    {
     "name": "stdout",
     "output_type": "stream",
     "text": [
      "Iterations: 20, RegParams 0, Recall: 0.6567\n",
      "Training with Iterations: 20, RegParams 0.01\n",
      "Iterations: 20, RegParams 0.01, Recall: 0.4925\n",
      "Training with Iterations: 20, RegParams 0.1\n",
      "Iterations: 20, RegParams 0.1, Recall: 0.2836\n",
      "Training with Iterations: 50, RegParams 0\n",
      "Iterations: 50, RegParams 0, Recall: 0.6716\n",
      "Training with Iterations: 50, RegParams 0.01\n",
      "Iterations: 50, RegParams 0.01, Recall: 0.4925\n",
      "Training with Iterations: 50, RegParams 0.1\n",
      "Iterations: 50, RegParams 0.1, Recall: 0.2836\n",
      "Training with Iterations: 100, RegParams 0\n",
      "Iterations: 100, RegParams 0, Recall: 0.6716\n",
      "Training with Iterations: 100, RegParams 0.01\n",
      "Iterations: 100, RegParams 0.01, Recall: 0.4925\n",
      "Training with Iterations: 100, RegParams 0.1\n",
      "Iterations: 100, RegParams 0.1, Recall: 0.2836\n",
      "Best Recall: 0.6716 with Iterations: 50, RegParams 0\n"
     ]
    }
   ],
   "source": [
    "from pyspark.mllib.evaluation import MulticlassMetrics\n",
    "for i in iterations:\n",
    "    for j in regParams:\n",
    "        print(f\"Training with Iterations: {i}, RegParams {j}\")\n",
    "        model = LogisticRegressionWithLBFGS.train(train_data,iterations=i, regParam=j, intercept=True,numClasses=2)\n",
    "        \n",
    "        predictions = val_data.map(lambda p: (float(model.predict(p.features)),p.label))\n",
    "\n",
    "        metrics = MulticlassMetrics(predictions)\n",
    "\n",
    "        recall = metrics.recall(1.0)\n",
    "        \n",
    "        if recall > best_recall:\n",
    "            best_recall = recall\n",
    "            best_model = model\n",
    "            best_metrics = metrics\n",
    "            best_params = (i, j)\n",
    "        print(f\"Iterations: {i}, RegParams {j}, Recall: {recall:.4f}\")\n",
    "\n",
    "print(f\"Best Recall: {best_recall:.4f} with Iterations: {best_params[0]}, RegParams {best_params[1]}\")\n"
   ]
  },
  {
   "cell_type": "markdown",
   "id": "f02bb765",
   "metadata": {},
   "source": [
    "- Sau khi huấn luyện, mô hình tốt nhất có iteration = 50 và regParam = 0"
   ]
  },
  {
   "cell_type": "markdown",
   "id": "e89fed7a",
   "metadata": {},
   "source": [
    "## Đánh giá mô hình sau khi huấn luyện"
   ]
  },
  {
   "cell_type": "code",
   "execution_count": 17,
   "id": "37221c19",
   "metadata": {},
   "outputs": [
    {
     "name": "stdout",
     "output_type": "stream",
     "text": [
      "Test Accuracy: 0.9994\n",
      "Test Precision [0, 1]: [0.9994826207610178, 0.9375]\n",
      "Test Recall [0, 1]: [0.9999294167470532, 0.6716417910447762]\n",
      "Test F1 Score [0, 1]: [0.9997059688326964, 0.7826086956521741]\n"
     ]
    }
   ],
   "source": [
    "print(f\"Test Accuracy: {best_metrics.accuracy:.4f}\")\n",
    "print(\"Test Precision [0, 1]:\", [best_metrics.precision(0.0), best_metrics.precision(1.0)])\n",
    "print(\"Test Recall [0, 1]:\", [best_metrics.recall(0.0), best_metrics.recall(1.0)])\n",
    "print(\"Test F1 Score [0, 1]:\", [best_metrics.fMeasure(0.0), best_metrics.fMeasure(1.0)])"
   ]
  },
  {
   "cell_type": "markdown",
   "id": "cd952a85",
   "metadata": {},
   "source": [
    "#### Nhận xét"
   ]
  },
  {
   "cell_type": "markdown",
   "id": "9861ecc0",
   "metadata": {},
   "source": [
    "- Độ chính xác tổng thể (Accuracy): 0.9991 - cực kỳ cao.\n",
    "- Tuy nhiên, đi vào từng lớp:\n",
    "    - Đối với lớp 0:\n",
    "        - Đây là lớp chiếm đa số toàn bộ dữ liệu. \n",
    "        - Mô hình dự đoán rất tốt với precision, recall và F1 Score gần như tối đa. Kết quả gần như tuyệt đối.\n",
    "    - Đối với lớp 1:\n",
    "        - Lớp này chiếm phần nhỏ trong bộ dữ liệu (0.172%).\n",
    "        - Số liệu đánh giá của mô hình thấp hơn lần lượt là precision 0.9375, recall 0.6716 và F1 Score 0.7826. Đối với bài toán này, việc recall của lớp 1 thấp (chỉ 0.6716) là vấn đề nghiêm trọng, bỏ xót nhiều trường hợp gian lận."
   ]
  },
  {
   "cell_type": "markdown",
   "id": "90f8e733",
   "metadata": {},
   "source": [
    "## Thực hiện dự đoán"
   ]
  },
  {
   "cell_type": "code",
   "execution_count": 18,
   "id": "33c40a1a",
   "metadata": {},
   "outputs": [],
   "source": [
    "predictions= test_data.map(lambda p: (float(best_model.predict(p.features)),p.label))"
   ]
  },
  {
   "cell_type": "markdown",
   "id": "2c0f3c04",
   "metadata": {},
   "source": [
    "## Đánh giá mô hình sau khi dự đoán"
   ]
  },
  {
   "cell_type": "code",
   "execution_count": 19,
   "id": "4794a5da",
   "metadata": {},
   "outputs": [
    {
     "name": "stderr",
     "output_type": "stream",
     "text": [
      "C:\\Program Files\\Apache\\Spark\\python\\pyspark\\sql\\context.py:158: FutureWarning: Deprecated in 3.0.0. Use SparkSession.builder.getOrCreate() instead.\n",
      "  warnings.warn(\n"
     ]
    },
    {
     "name": "stdout",
     "output_type": "stream",
     "text": [
      "Test Accuracy: 0.9991\n",
      "Test Precision [0, 1]: [0.9993167789662158, 0.813953488372093]\n",
      "Test Recall [0, 1]: [0.9998114319387154, 0.546875]\n",
      "Test F1 Score [0, 1]: [0.9995640442553994, 0.6542056074766355]\n"
     ]
    }
   ],
   "source": [
    "\n",
    "metrics = MulticlassMetrics(predictions)\n",
    "\n",
    "accuracy = metrics.accuracy\n",
    "precision_1 = metrics.precision(1.0)\n",
    "recall_1 = metrics.recall(1.0)\n",
    "f1_score_1 = metrics.fMeasure(1.0)\n",
    "\n",
    "precision_0 = metrics.precision(0.0)\n",
    "recall_0 = metrics.recall(0.0)\n",
    "f1_score_0 = metrics.fMeasure(0.0)\n",
    "\n",
    "print(f\"Test Accuracy: {accuracy:.4f}\")\n",
    "print(\"Test Precision [0, 1]:\", [precision_0, precision_1])\n",
    "print(\"Test Recall [0, 1]:\", [recall_0, recall_1])\n",
    "print(\"Test F1 Score [0, 1]:\", [f1_score_0, f1_score_1])\n",
    "\n",
    "\n"
   ]
  },
  {
   "cell_type": "markdown",
   "id": "021f2d16",
   "metadata": {},
   "source": [
    "#### Nhận xét"
   ]
  },
  {
   "cell_type": "markdown",
   "id": "938b5af8",
   "metadata": {},
   "source": [
    "- Kết quả của test thấp hơn so với khi huấn luyện. Để cải thiện hiệu suất ta có thể thử các phương pháp như undersampling lớp 0 hoặc oversampling lớp 1."
   ]
  },
  {
   "cell_type": "markdown",
   "id": "12687d5d",
   "metadata": {},
   "source": [
    "## Lưu kết quả"
   ]
  },
  {
   "cell_type": "code",
   "execution_count": 20,
   "id": "f51a666e",
   "metadata": {},
   "outputs": [
    {
     "name": "stdout",
     "output_type": "stream",
     "text": [
      "Row(features=DenseVector([0.0001, 0.9252, 0.7668, 0.8304, 0.207, 0.7855, 0.2927, 0.265, 0.7946, 0.4645, 0.5206, 0.2805, 0.6961, 0.4517, 0.6472, 0.4253, 0.4678, 0.7028, 0.6563, 0.6015, 0.578, 0.5521, 0.4727, 0.6784, 0.5147, 0.5959, 0.4499, 0.4296, 0.3134, 0.0]), label=0.0, prediction=0.0)\n",
      "Row(features=DenseVector([0.0002, 0.9772, 0.769, 0.8464, 0.3107, 0.7644, 0.2632, 0.2652, 0.7866, 0.4634, 0.5097, 0.3653, 0.7527, 0.4288, 0.6553, 0.2757, 0.4307, 0.7337, 0.6154, 0.5512, 0.5782, 0.5609, 0.5145, 0.6647, 0.4135, 0.6119, 0.3696, 0.4172, 0.3133, 0.0003]), label=0.0, prediction=0.0)\n",
      "Row(features=DenseVector([0.0002, 0.9769, 0.766, 0.8616, 0.3183, 0.7587, 0.2638, 0.2609, 0.7885, 0.4971, 0.5056, 0.2551, 0.7031, 0.346, 0.644, 0.3741, 0.4427, 0.7372, 0.6209, 0.5058, 0.5773, 0.5609, 0.5144, 0.6668, 0.4309, 0.592, 0.3637, 0.418, 0.3138, 0.0001]), label=0.0, prediction=0.0)\n",
      "Row(features=DenseVector([0.0003, 0.9486, 0.7786, 0.8596, 0.276, 0.7696, 0.2604, 0.2718, 0.781, 0.4566, 0.5295, 0.3485, 0.7102, 0.4259, 0.6462, 0.3707, 0.4423, 0.7086, 0.6985, 0.6264, 0.584, 0.5615, 0.5362, 0.6625, 0.3824, 0.5678, 0.3643, 0.4178, 0.3096, 0.0004]), label=0.0, prediction=0.0)\n",
      "Row(features=DenseVector([0.0004, 0.9471, 0.7716, 0.8727, 0.239, 0.7667, 0.2595, 0.2711, 0.7835, 0.4636, 0.4926, 0.2736, 0.728, 0.4773, 0.6282, 0.2903, 0.4329, 0.7312, 0.5646, 0.501, 0.5809, 0.559, 0.4989, 0.6668, 0.439, 0.5581, 0.4377, 0.4148, 0.3112, 0.0021]), label=0.0, prediction=0.0)\n"
     ]
    }
   ],
   "source": [
    "result=test_data.map(lambda p: (p.features, p.label, float(best_model.predict(p.features)))).toDF([\"features\", \"label\", \"prediction\"])\n",
    "\n",
    "for row in result.take(5):\n",
    "    print(row)"
   ]
  },
  {
   "cell_type": "code",
   "execution_count": 21,
   "id": "65d4f0b6",
   "metadata": {},
   "outputs": [],
   "source": [
    "result.coalesce(1).write.mode(\"overwrite\").parquet(\"results\")"
   ]
  }
 ],
 "metadata": {
  "kernelspec": {
   "display_name": "min_ds-env2",
   "language": "python",
   "name": "python3"
  },
  "language_info": {
   "codemirror_mode": {
    "name": "ipython",
    "version": 3
   },
   "file_extension": ".py",
   "mimetype": "text/x-python",
   "name": "python",
   "nbconvert_exporter": "python",
   "pygments_lexer": "ipython3",
   "version": "3.10.15"
  }
 },
 "nbformat": 4,
 "nbformat_minor": 5
}
