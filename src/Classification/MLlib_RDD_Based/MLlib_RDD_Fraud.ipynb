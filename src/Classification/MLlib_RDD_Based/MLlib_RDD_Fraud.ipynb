{
 "cells": [
  {
   "cell_type": "markdown",
   "id": "9543451a",
   "metadata": {},
   "source": [
    "# MLlib_RDD_Based"
   ]
  },
  {
   "cell_type": "code",
   "execution_count": 1,
   "id": "a502dcd2",
   "metadata": {},
   "outputs": [],
   "source": [
    "import findspark\n",
    "findspark.init()"
   ]
  },
  {
   "cell_type": "markdown",
   "id": "06348954",
   "metadata": {},
   "source": [
    "## Thêm các thư viện cần thiết"
   ]
  },
  {
   "cell_type": "code",
   "execution_count": 2,
   "id": "29f7cc5c",
   "metadata": {},
   "outputs": [],
   "source": [
    "import pyspark\n",
    "from pyspark.sql import SparkSession\n",
    "from pyspark.mllib.classification import LabeledPoint, LogisticRegressionWithLBFGS\n",
    "from pyspark.mllib.linalg import Vectors\n",
    "import os\n",
    "import sys\n",
    "\n",
    "os.environ[\"PYSPARK_PYTHON\"] = sys.executable\n",
    "os.environ[\"PYSPARK_DRIVER_PYTHON\"] = sys.executable"
   ]
  },
  {
   "cell_type": "markdown",
   "id": "b1487e91",
   "metadata": {},
   "source": [
    "## Tạo session"
   ]
  },
  {
   "cell_type": "code",
   "execution_count": 3,
   "id": "8184e305",
   "metadata": {},
   "outputs": [],
   "source": [
    "spark=SparkSession.builder.master(\"local\")\\\n",
    "    .appName(\"mllib_rdd_based\")\\\n",
    "    .config(\"spark.some.config.option\", \"some-value\")\\\n",
    "    .getOrCreate()"
   ]
  },
  {
   "cell_type": "markdown",
   "id": "fce093fd",
   "metadata": {},
   "source": [
    "## Đọc dữ liệu"
   ]
  },
  {
   "cell_type": "code",
   "execution_count": 4,
   "id": "5837bc5b",
   "metadata": {},
   "outputs": [
    {
     "data": {
      "text/plain": [
       "284808"
      ]
     },
     "execution_count": 4,
     "metadata": {},
     "output_type": "execute_result"
    }
   ],
   "source": [
    "lines=spark.sparkContext.textFile(\"creditcard.csv\")\n",
    "lines.count()"
   ]
  },
  {
   "cell_type": "code",
   "execution_count": 5,
   "id": "670476a0",
   "metadata": {},
   "outputs": [],
   "source": [
    "header=lines.first()"
   ]
  },
  {
   "cell_type": "code",
   "execution_count": 6,
   "id": "9784742f",
   "metadata": {},
   "outputs": [],
   "source": [
    "raw_data=lines.filter(lambda line: line !=header)\n",
    "data=raw_data.map(lambda lines: lines.split(\",\"))\\\n",
    "            .map(lambda line: tuple([float(x) for x in line[0:-1]]+[float(line[-1].strip('\"'))]))"
   ]
  },
  {
   "cell_type": "code",
   "execution_count": 7,
   "id": "ffb81239",
   "metadata": {},
   "outputs": [
    {
     "name": "stdout",
     "output_type": "stream",
     "text": [
      "(0.0, -1.3598071336738, -0.0727811733098497, 2.53634673796914, 1.37815522427443, -0.338320769942518, 0.462387777762292, 0.239598554061257, 0.0986979012610507, 0.363786969611213, 0.0907941719789316, -0.551599533260813, -0.617800855762348, -0.991389847235408, -0.311169353699879, 1.46817697209427, -0.470400525259478, 0.207971241929242, 0.0257905801985591, 0.403992960255733, 0.251412098239705, -0.018306777944153, 0.277837575558899, -0.110473910188767, 0.0669280749146731, 0.128539358273528, -0.189114843888824, 0.133558376740387, -0.0210530534538215, 149.62, 0.0)\n",
      "(0.0, 1.19185711131486, 0.26615071205963, 0.16648011335321, 0.448154078460911, 0.0600176492822243, -0.0823608088155687, -0.0788029833323113, 0.0851016549148104, -0.255425128109186, -0.166974414004614, 1.61272666105479, 1.06523531137287, 0.48909501589608, -0.143772296441519, 0.635558093258208, 0.463917041022171, -0.114804663102346, -0.183361270123994, -0.145783041325259, -0.0690831352230203, -0.225775248033138, -0.638671952771851, 0.101288021253234, -0.339846475529127, 0.167170404418143, 0.125894532368176, -0.00898309914322813, 0.0147241691924927, 2.69, 0.0)\n",
      "(1.0, -1.35835406159823, -1.34016307473609, 1.77320934263119, 0.379779593034328, -0.503198133318193, 1.80049938079263, 0.791460956450422, 0.247675786588991, -1.51465432260583, 0.207642865216696, 0.624501459424895, 0.066083685268831, 0.717292731410831, -0.165945922763554, 2.34586494901581, -2.89008319444231, 1.10996937869599, -0.121359313195888, -2.26185709530414, 0.524979725224404, 0.247998153469754, 0.771679401917229, 0.909412262347719, -0.689280956490685, -0.327641833735251, -0.139096571514147, -0.0553527940384261, -0.0597518405929204, 378.66, 0.0)\n",
      "(1.0, -0.966271711572087, -0.185226008082898, 1.79299333957872, -0.863291275036453, -0.0103088796030823, 1.24720316752486, 0.23760893977178, 0.377435874652262, -1.38702406270197, -0.0549519224713749, -0.226487263835401, 0.178228225877303, 0.507756869957169, -0.28792374549456, -0.631418117709045, -1.0596472454325, -0.684092786345479, 1.96577500349538, -1.2326219700892, -0.208037781160366, -0.108300452035545, 0.00527359678253453, -0.190320518742841, -1.17557533186321, 0.647376034602038, -0.221928844458407, 0.0627228487293033, 0.0614576285006353, 123.5, 0.0)\n",
      "(2.0, -1.15823309349523, 0.877736754848451, 1.548717846511, 0.403033933955121, -0.407193377311653, 0.0959214624684256, 0.592940745385545, -0.270532677192282, 0.817739308235294, 0.753074431976354, -0.822842877946363, 0.53819555014995, 1.3458515932154, -1.11966983471731, 0.175121130008994, -0.451449182813529, -0.237033239362776, -0.0381947870352842, 0.803486924960175, 0.408542360392758, -0.00943069713232919, 0.79827849458971, -0.137458079619063, 0.141266983824769, -0.206009587619756, 0.502292224181569, 0.219422229513348, 0.215153147499206, 69.99, 0.0)\n"
     ]
    }
   ],
   "source": [
    "for row in data.take(5):\n",
    "    print(row)"
   ]
  },
  {
   "cell_type": "markdown",
   "id": "ef48e1f1",
   "metadata": {},
   "source": [
    "## Tiền xử lý dữ liệu"
   ]
  },
  {
   "cell_type": "markdown",
   "id": "344d2656",
   "metadata": {},
   "source": [
    "### Loại bỏ dữ liệu lặp"
   ]
  },
  {
   "cell_type": "code",
   "execution_count": 8,
   "id": "954c746c",
   "metadata": {},
   "outputs": [
    {
     "data": {
      "text/plain": [
       "284807"
      ]
     },
     "execution_count": 8,
     "metadata": {},
     "output_type": "execute_result"
    }
   ],
   "source": [
    "data.count()  "
   ]
  },
  {
   "cell_type": "code",
   "execution_count": 9,
   "id": "af9a4685",
   "metadata": {},
   "outputs": [
    {
     "data": {
      "text/plain": [
       "283726"
      ]
     },
     "execution_count": 9,
     "metadata": {},
     "output_type": "execute_result"
    }
   ],
   "source": [
    "data=data.distinct()\n",
    "data.count()"
   ]
  },
  {
   "cell_type": "markdown",
   "id": "67644b8f",
   "metadata": {},
   "source": [
    "### Loại bỏ dữ liệu thiếu"
   ]
  },
  {
   "cell_type": "code",
   "execution_count": 10,
   "id": "271fc7f9",
   "metadata": {},
   "outputs": [],
   "source": [
    "data = data.filter(lambda line: all(x is not None and x != '' for x in line))"
   ]
  },
  {
   "cell_type": "code",
   "execution_count": 11,
   "id": "66a7da4d",
   "metadata": {},
   "outputs": [
    {
     "data": {
      "text/plain": [
       "283726"
      ]
     },
     "execution_count": 11,
     "metadata": {},
     "output_type": "execute_result"
    }
   ],
   "source": [
    "data.count()"
   ]
  },
  {
   "cell_type": "markdown",
   "id": "6f81beed",
   "metadata": {},
   "source": [
    "## Chuẩn hóa dữ liệu Min-Max"
   ]
  },
  {
   "cell_type": "code",
   "execution_count": 12,
   "id": "7f36ee3e",
   "metadata": {},
   "outputs": [
    {
     "data": {
      "text/plain": [
       "283726"
      ]
     },
     "execution_count": 12,
     "metadata": {},
     "output_type": "execute_result"
    }
   ],
   "source": [
    "features = data.map(lambda line: line[0:-1])\n",
    "\n",
    "min_features=features.reduce(lambda x, y: [min(x[i], y[i]) for i in range(len(x))])\n",
    "max_features=features.reduce(lambda x, y: [max(x[i], y[i]) for i in range(len(x))])\n",
    "\n",
    "normalized_data = data.map(lambda line: tuple([(line[i] - min_features[i]) / (max_features[i] - min_features[i]) for i in range(len(line)-1)]+[line[-1]]))\n",
    "\n",
    "normalized_data.count()"
   ]
  },
  {
   "cell_type": "markdown",
   "id": "fb258994",
   "metadata": {},
   "source": [
    "## Tách dữ liệu"
   ]
  },
  {
   "cell_type": "code",
   "execution_count": 13,
   "id": "213102a6",
   "metadata": {},
   "outputs": [],
   "source": [
    "train_0,val_0,test_0= normalized_data.filter(lambda x: x[-1] == 0.0).randomSplit([0.7,0.15,0.15], seed=42)\n",
    "train_1,val_1,test_1= normalized_data.filter(lambda x: x[-1] == 1.0).randomSplit([0.7,0.15,0.15], seed=42)\n",
    "train=train_0.union(train_1)\n",
    "val=val_0.union(val_1)\n",
    "test=test_0.union(test_1)"
   ]
  },
  {
   "cell_type": "markdown",
   "id": "b4cec397",
   "metadata": {},
   "source": [
    "## Chuyển thành RDD LabeledPoint"
   ]
  },
  {
   "cell_type": "code",
   "execution_count": 14,
   "id": "824b089f",
   "metadata": {},
   "outputs": [],
   "source": [
    "train_data=train.map(lambda line: LabeledPoint(line[-1], Vectors.dense(line[0:-1])))\n",
    "val_data=val.map(lambda line: LabeledPoint(line[-1], Vectors.dense(line[0:-1])))\n",
    "test_data=test.map(lambda line: LabeledPoint(line[-1], Vectors.dense(line[0:-1])))\n"
   ]
  },
  {
   "cell_type": "markdown",
   "id": "0ed3964d",
   "metadata": {},
   "source": [
    "## Huấn luyện mô hình"
   ]
  },
  {
   "cell_type": "markdown",
   "id": "3c623c97",
   "metadata": {},
   "source": [
    "- Sử dụng vòng lặp [100, 200, 500]\n",
    "- Sử dụng regParam [0.01, 0.1, 0.5]\n",
    "- Sử dụng thang đo recall trên label 1 để quyết định mô hình tốt nhất"
   ]
  },
  {
   "cell_type": "code",
   "execution_count": 15,
   "id": "56cebbc9",
   "metadata": {},
   "outputs": [],
   "source": [
    "iterations=[20,50,100]\n",
    "regParams=[0, 0.01, 0.1]\n",
    "\n",
    "best_recall=0.0\n",
    "best_model=None\n",
    "best_params=None\n",
    "best_metrics=None"
   ]
  },
  {
   "cell_type": "code",
   "execution_count": 16,
   "id": "fa9ab42c",
   "metadata": {},
   "outputs": [
    {
     "name": "stdout",
     "output_type": "stream",
     "text": [
      "Training with Iterations: 20, RegParams 0\n"
     ]
    },
    {
     "name": "stderr",
     "output_type": "stream",
     "text": [
      "C:\\Program Files\\Apache\\Spark\\python\\pyspark\\sql\\context.py:158: FutureWarning: Deprecated in 3.0.0. Use SparkSession.builder.getOrCreate() instead.\n",
      "  warnings.warn(\n"
     ]
    },
    {
     "name": "stdout",
     "output_type": "stream",
     "text": [
      "Iterations: 20, RegParams 0, Recall: 0.6125\n",
      "Training with Iterations: 20, RegParams 0.01\n",
      "Iterations: 20, RegParams 0.01, Recall: 0.3750\n",
      "Training with Iterations: 20, RegParams 0.1\n",
      "Iterations: 20, RegParams 0.1, Recall: 0.2000\n",
      "Training with Iterations: 50, RegParams 0\n",
      "Iterations: 50, RegParams 0, Recall: 0.6250\n",
      "Training with Iterations: 50, RegParams 0.01\n",
      "Iterations: 50, RegParams 0.01, Recall: 0.3750\n",
      "Training with Iterations: 50, RegParams 0.1\n",
      "Iterations: 50, RegParams 0.1, Recall: 0.2000\n",
      "Training with Iterations: 100, RegParams 0\n",
      "Iterations: 100, RegParams 0, Recall: 0.6250\n",
      "Training with Iterations: 100, RegParams 0.01\n",
      "Iterations: 100, RegParams 0.01, Recall: 0.3750\n",
      "Training with Iterations: 100, RegParams 0.1\n",
      "Iterations: 100, RegParams 0.1, Recall: 0.2000\n",
      "Best Recall: 0.6250 with Iterations: 50, RegParams 0\n"
     ]
    }
   ],
   "source": [
    "from pyspark.mllib.evaluation import MulticlassMetrics\n",
    "for i in iterations:\n",
    "    for j in regParams:\n",
    "        print(f\"Training with Iterations: {i}, RegParams {j}\")\n",
    "        model = LogisticRegressionWithLBFGS.train(train_data,iterations=i, regParam=j, intercept=True,numClasses=2)\n",
    "        \n",
    "        predictions = val_data.map(lambda p: (float(model.predict(p.features)),p.label))\n",
    "\n",
    "        metrics = MulticlassMetrics(predictions)\n",
    "\n",
    "        recall = metrics.recall(1.0)\n",
    "        \n",
    "        if recall > best_recall:\n",
    "            best_recall = recall\n",
    "            best_model = model\n",
    "            best_metrics = metrics\n",
    "            best_params = (i, j)\n",
    "        print(f\"Iterations: {i}, RegParams {j}, Recall: {recall:.4f}\")\n",
    "\n",
    "print(f\"Best Recall: {best_recall:.4f} with Iterations: {best_params[0]}, RegParams {best_params[1]}\")\n"
   ]
  },
  {
   "cell_type": "markdown",
   "id": "f02bb765",
   "metadata": {},
   "source": [
    "- Sau khi huấn luyện, mô hình tốt nhất có iteration = 50 và regParam = 0"
   ]
  },
  {
   "cell_type": "markdown",
   "id": "e89fed7a",
   "metadata": {},
   "source": [
    "## Đánh giá mô hình sau khi huấn luyện"
   ]
  },
  {
   "cell_type": "code",
   "execution_count": 17,
   "id": "37221c19",
   "metadata": {},
   "outputs": [
    {
     "name": "stdout",
     "output_type": "stream",
     "text": [
      "Test Accuracy: 0.9991\n",
      "Test Precision [0, 1]: [0.9992982127818846, 0.8620689655172413]\n",
      "Test Recall [0, 1]: [0.9998127603800965, 0.625]\n",
      "Test F1 Score [0, 1]: [0.9995554203617474, 0.7246376811594203]\n"
     ]
    }
   ],
   "source": [
    "print(f\"Test Accuracy: {best_metrics.accuracy:.4f}\")\n",
    "print(\"Test Precision [0, 1]:\", [best_metrics.precision(0.0), best_metrics.precision(1.0)])\n",
    "print(\"Test Recall [0, 1]:\", [best_metrics.recall(0.0), best_metrics.recall(1.0)])\n",
    "print(\"Test F1 Score [0, 1]:\", [best_metrics.fMeasure(0.0), best_metrics.fMeasure(1.0)])"
   ]
  },
  {
   "cell_type": "markdown",
   "id": "cd952a85",
   "metadata": {},
   "source": [
    "#### Nhận xét"
   ]
  },
  {
   "cell_type": "markdown",
   "id": "9861ecc0",
   "metadata": {},
   "source": [
    "- Độ chính xác tổng thể (Accuracy): 0.9991 - cực kỳ cao.\n",
    "- Tuy nhiên, đi vào từng lớp:\n",
    "    - Đối với lớp 0:\n",
    "        - Đây là lớp chiếm đa số toàn bộ dữ liệu. \n",
    "        - Mô hình dự đoán rất tốt với precision, recall và F1 Score gần như tối đa. Kết quả gần như tuyệt đối.\n",
    "    - Đối với lớp 1:\n",
    "        - Lớp này chiếm phần nhỏ trong bộ dữ liệu (0.172%).\n",
    "        - Số liệu đánh giá của mô hình thấp hơn lần lượt là precision 0.862, recall 0.625 và F1 Score 0.725. Đối với bài toán này, việc recall của lớp 1 thấp (chỉ 0.625) là vấn đề nghiêm trọng, bỏ xót nhiều trường hợp gian lận.\n",
    "\n",
    "    \n"
   ]
  },
  {
   "cell_type": "markdown",
   "id": "90f8e733",
   "metadata": {},
   "source": [
    "## Thực hiện dự đoán"
   ]
  },
  {
   "cell_type": "code",
   "execution_count": 18,
   "id": "33c40a1a",
   "metadata": {},
   "outputs": [],
   "source": [
    "predictions= test_data.map(lambda p: (float(best_model.predict(p.features)),p.label))"
   ]
  },
  {
   "cell_type": "markdown",
   "id": "2c0f3c04",
   "metadata": {},
   "source": [
    "## Đánh giá mô hình sau khi dự đoán"
   ]
  },
  {
   "cell_type": "code",
   "execution_count": 19,
   "id": "4794a5da",
   "metadata": {},
   "outputs": [
    {
     "name": "stdout",
     "output_type": "stream",
     "text": [
      "Test Accuracy: 0.9994\n",
      "Test Precision [0, 1]: [0.9995257291913683, 0.8636363636363636]\n",
      "Test Recall [0, 1]: [0.9998576715058355, 0.6551724137931034]\n",
      "Test F1 Score [0, 1]: [0.9996916727936817, 0.7450980392156864]\n"
     ]
    }
   ],
   "source": [
    "\n",
    "metrics = MulticlassMetrics(predictions)\n",
    "\n",
    "accuracy = metrics.accuracy\n",
    "precision_1 = metrics.precision(1.0)\n",
    "recall_1 = metrics.recall(1.0)\n",
    "f1_score_1 = metrics.fMeasure(1.0)\n",
    "\n",
    "precision_0 = metrics.precision(0.0)\n",
    "recall_0 = metrics.recall(0.0)\n",
    "f1_score_0 = metrics.fMeasure(0.0)\n",
    "\n",
    "print(f\"Test Accuracy: {accuracy:.4f}\")\n",
    "print(\"Test Precision [0, 1]:\", [precision_0, precision_1])\n",
    "print(\"Test Recall [0, 1]:\", [recall_0, recall_1])\n",
    "print(\"Test F1 Score [0, 1]:\", [f1_score_0, f1_score_1])\n",
    "\n",
    "\n"
   ]
  },
  {
   "cell_type": "markdown",
   "id": "021f2d16",
   "metadata": {},
   "source": [
    "#### Nhận xét"
   ]
  },
  {
   "cell_type": "markdown",
   "id": "938b5af8",
   "metadata": {},
   "source": [
    "- Tuy kết quả recall của lớp 1 có sự cải thiện song đây vẫn là một kết quả không tốt. Để cải thiện việc này, chúng ta cần oversampling lớp 1 hoặc undersampling lớp 0."
   ]
  },
  {
   "cell_type": "markdown",
   "id": "12687d5d",
   "metadata": {},
   "source": [
    "## Lưu kết quả"
   ]
  },
  {
   "cell_type": "code",
   "execution_count": 20,
   "id": "f51a666e",
   "metadata": {},
   "outputs": [
    {
     "name": "stdout",
     "output_type": "stream",
     "text": [
      "Row(features=DenseVector([0.0004, 0.974, 0.7635, 0.8613, 0.3362, 0.7586, 0.2661, 0.2625, 0.7881, 0.506, 0.4997, 0.2448, 0.7419, 0.3978, 0.6247, 0.209, 0.4086, 0.7598, 0.5516, 0.5599, 0.5789, 0.5559, 0.4785, 0.6669, 0.4625, 0.596, 0.336, 0.418, 0.314, 0.0027]), label=0.0, prediction=0.0)\n",
      "Row(features=DenseVector([0.0005, 0.9542, 0.7726, 0.8712, 0.2865, 0.7632, 0.2655, 0.2649, 0.7878, 0.47, 0.501, 0.2427, 0.7024, 0.4225, 0.6378, 0.3833, 0.4245, 0.7467, 0.6338, 0.6166, 0.5803, 0.565, 0.5522, 0.6636, 0.4013, 0.5434, 0.5195, 0.4201, 0.3165, 0.0001]), label=0.0, prediction=0.0)\n",
      "Row(features=DenseVector([0.0006, 0.9473, 0.7779, 0.8654, 0.2475, 0.7649, 0.2563, 0.2694, 0.7855, 0.4409, 0.5077, 0.3763, 0.7353, 0.4598, 0.655, 0.3453, 0.4595, 0.7139, 0.6563, 0.5814, 0.5813, 0.5591, 0.4904, 0.6663, 0.4524, 0.5645, 0.4304, 0.4191, 0.3152, 0.0006]), label=0.0, prediction=0.0)\n",
      "Row(features=DenseVector([0.0009, 0.9319, 0.7561, 0.8506, 0.3111, 0.7483, 0.2825, 0.2754, 0.7923, 0.4404, 0.4902, 0.3441, 0.7375, 0.5302, 0.6532, 0.4224, 0.4723, 0.7143, 0.7367, 0.5439, 0.5955, 0.5755, 0.5685, 0.6888, 0.3342, 0.5661, 0.3879, 0.4127, 0.3139, 0.0272]), label=0.0, prediction=0.0)\n",
      "Row(features=DenseVector([0.0011, 0.9596, 0.7781, 0.8519, 0.3055, 0.7664, 0.2677, 0.2633, 0.768, 0.4477, 0.51, 0.2596, 0.7244, 0.5213, 0.6568, 0.4557, 0.4389, 0.7316, 0.6253, 0.5823, 0.5775, 0.5855, 0.4852, 0.6628, 0.3253, 0.6214, 0.3973, 0.4214, 0.3178, 0.0008]), label=0.0, prediction=0.0)\n"
     ]
    }
   ],
   "source": [
    "result=test_data.map(lambda p: (p.features, p.label, float(best_model.predict(p.features)))).toDF([\"features\", \"label\", \"prediction\"])\n",
    "\n",
    "for row in result.take(5):\n",
    "    print(row)"
   ]
  },
  {
   "cell_type": "code",
   "execution_count": 21,
   "id": "65d4f0b6",
   "metadata": {},
   "outputs": [],
   "source": [
    "result.coalesce(1).write.mode(\"overwrite\").parquet(\"results\")"
   ]
  }
 ],
 "metadata": {
  "kernelspec": {
   "display_name": "min_ds-env2",
   "language": "python",
   "name": "python3"
  },
  "language_info": {
   "codemirror_mode": {
    "name": "ipython",
    "version": 3
   },
   "file_extension": ".py",
   "mimetype": "text/x-python",
   "name": "python",
   "nbconvert_exporter": "python",
   "pygments_lexer": "ipython3",
   "version": "3.10.15"
  }
 },
 "nbformat": 4,
 "nbformat_minor": 5
}
