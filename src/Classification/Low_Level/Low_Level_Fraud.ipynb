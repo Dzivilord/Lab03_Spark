{
 "cells": [
  {
   "cell_type": "markdown",
   "id": "dded2edd",
   "metadata": {},
   "source": [
    "# Low_Level"
   ]
  },
  {
   "cell_type": "code",
   "execution_count": 1,
   "id": "5ed2af99",
   "metadata": {},
   "outputs": [],
   "source": [
    "import findspark\n",
    "findspark.init()"
   ]
  },
  {
   "cell_type": "markdown",
   "id": "31b9dbb1",
   "metadata": {},
   "source": [
    "## Thêm các thư viện cần thiết"
   ]
  },
  {
   "cell_type": "code",
   "execution_count": 2,
   "id": "7bde70a3",
   "metadata": {},
   "outputs": [],
   "source": [
    "import pyspark\n",
    "from pyspark.sql import SparkSession\n",
    "\n",
    "import math\n",
    "import os\n",
    "import sys\n",
    "\n",
    "os.environ[\"PYSPARK_PYTHON\"] = sys.executable\n",
    "os.environ[\"PYSPARK_DRIVER_PYTHON\"] = sys.executable"
   ]
  },
  {
   "cell_type": "markdown",
   "id": "91bd44a0",
   "metadata": {},
   "source": [
    "## Tạo Session"
   ]
  },
  {
   "cell_type": "code",
   "execution_count": 3,
   "id": "9cf1d071",
   "metadata": {},
   "outputs": [],
   "source": [
    "spark=SparkSession.builder.master(\"local\")\\\n",
    "    .appName(\"low_level\")\\\n",
    "    .config(\"spark.some.config.option\", \"some-value\")\\\n",
    "    .getOrCreate()"
   ]
  },
  {
   "cell_type": "markdown",
   "id": "d0403300",
   "metadata": {},
   "source": [
    "## Đọc dữ liệu"
   ]
  },
  {
   "cell_type": "code",
   "execution_count": 4,
   "id": "5e30e043",
   "metadata": {},
   "outputs": [
    {
     "data": {
      "text/plain": [
       "284808"
      ]
     },
     "execution_count": 4,
     "metadata": {},
     "output_type": "execute_result"
    }
   ],
   "source": [
    "lines=spark.sparkContext.textFile(\"hdfs://localhost:9000/lab03/creditcard.csv\")\n",
    "lines.count()"
   ]
  },
  {
   "cell_type": "code",
   "execution_count": 5,
   "id": "588fa565",
   "metadata": {},
   "outputs": [],
   "source": [
    "header=lines.first()\n",
    "raw_data=lines.filter(lambda line: line !=header)\n",
    "data=raw_data.map(lambda lines: lines.split(\",\"))\\\n",
    "            .map(lambda line: tuple([float(x) for x in line[0:-1]]+[float(line[-1].strip('\"'))]))"
   ]
  },
  {
   "cell_type": "code",
   "execution_count": 6,
   "id": "44c6fd1a",
   "metadata": {},
   "outputs": [
    {
     "name": "stdout",
     "output_type": "stream",
     "text": [
      "(0.0, -1.3598071336738, -0.0727811733098497, 2.53634673796914, 1.37815522427443, -0.338320769942518, 0.462387777762292, 0.239598554061257, 0.0986979012610507, 0.363786969611213, 0.0907941719789316, -0.551599533260813, -0.617800855762348, -0.991389847235408, -0.311169353699879, 1.46817697209427, -0.470400525259478, 0.207971241929242, 0.0257905801985591, 0.403992960255733, 0.251412098239705, -0.018306777944153, 0.277837575558899, -0.110473910188767, 0.0669280749146731, 0.128539358273528, -0.189114843888824, 0.133558376740387, -0.0210530534538215, 149.62, 0.0)\n",
      "(0.0, 1.19185711131486, 0.26615071205963, 0.16648011335321, 0.448154078460911, 0.0600176492822243, -0.0823608088155687, -0.0788029833323113, 0.0851016549148104, -0.255425128109186, -0.166974414004614, 1.61272666105479, 1.06523531137287, 0.48909501589608, -0.143772296441519, 0.635558093258208, 0.463917041022171, -0.114804663102346, -0.183361270123994, -0.145783041325259, -0.0690831352230203, -0.225775248033138, -0.638671952771851, 0.101288021253234, -0.339846475529127, 0.167170404418143, 0.125894532368176, -0.00898309914322813, 0.0147241691924927, 2.69, 0.0)\n",
      "(1.0, -1.35835406159823, -1.34016307473609, 1.77320934263119, 0.379779593034328, -0.503198133318193, 1.80049938079263, 0.791460956450422, 0.247675786588991, -1.51465432260583, 0.207642865216696, 0.624501459424895, 0.066083685268831, 0.717292731410831, -0.165945922763554, 2.34586494901581, -2.89008319444231, 1.10996937869599, -0.121359313195888, -2.26185709530414, 0.524979725224404, 0.247998153469754, 0.771679401917229, 0.909412262347719, -0.689280956490685, -0.327641833735251, -0.139096571514147, -0.0553527940384261, -0.0597518405929204, 378.66, 0.0)\n",
      "(1.0, -0.966271711572087, -0.185226008082898, 1.79299333957872, -0.863291275036453, -0.0103088796030823, 1.24720316752486, 0.23760893977178, 0.377435874652262, -1.38702406270197, -0.0549519224713749, -0.226487263835401, 0.178228225877303, 0.507756869957169, -0.28792374549456, -0.631418117709045, -1.0596472454325, -0.684092786345479, 1.96577500349538, -1.2326219700892, -0.208037781160366, -0.108300452035545, 0.00527359678253453, -0.190320518742841, -1.17557533186321, 0.647376034602038, -0.221928844458407, 0.0627228487293033, 0.0614576285006353, 123.5, 0.0)\n",
      "(2.0, -1.15823309349523, 0.877736754848451, 1.548717846511, 0.403033933955121, -0.407193377311653, 0.0959214624684256, 0.592940745385545, -0.270532677192282, 0.817739308235294, 0.753074431976354, -0.822842877946363, 0.53819555014995, 1.3458515932154, -1.11966983471731, 0.175121130008994, -0.451449182813529, -0.237033239362776, -0.0381947870352842, 0.803486924960175, 0.408542360392758, -0.00943069713232919, 0.79827849458971, -0.137458079619063, 0.141266983824769, -0.206009587619756, 0.502292224181569, 0.219422229513348, 0.215153147499206, 69.99, 0.0)\n"
     ]
    }
   ],
   "source": [
    "for row in data.take(5):\n",
    "    print(row)"
   ]
  },
  {
   "cell_type": "markdown",
   "id": "2dcaeeee",
   "metadata": {},
   "source": [
    "## Tiền xử lý dữ liệu"
   ]
  },
  {
   "cell_type": "markdown",
   "id": "e9ff1d6e",
   "metadata": {},
   "source": [
    "### Bỏ dữ liệu lặp"
   ]
  },
  {
   "cell_type": "code",
   "execution_count": 7,
   "id": "598e92e5",
   "metadata": {},
   "outputs": [
    {
     "data": {
      "text/plain": [
       "283726"
      ]
     },
     "execution_count": 7,
     "metadata": {},
     "output_type": "execute_result"
    }
   ],
   "source": [
    "data=data.distinct()\n",
    "data.count()"
   ]
  },
  {
   "cell_type": "markdown",
   "id": "43eaa433",
   "metadata": {},
   "source": [
    "### Bỏ dữ liệu trống"
   ]
  },
  {
   "cell_type": "code",
   "execution_count": 8,
   "id": "d9979a83",
   "metadata": {},
   "outputs": [
    {
     "data": {
      "text/plain": [
       "283726"
      ]
     },
     "execution_count": 8,
     "metadata": {},
     "output_type": "execute_result"
    }
   ],
   "source": [
    "data = data.filter(lambda line: all(x is not None and x != '' for x in line))\n",
    "data.count()"
   ]
  },
  {
   "cell_type": "markdown",
   "id": "fb52613a",
   "metadata": {},
   "source": [
    "## Chuẩn hóa dữ liệu Min-Max"
   ]
  },
  {
   "cell_type": "code",
   "execution_count": 9,
   "id": "b87095f3",
   "metadata": {},
   "outputs": [
    {
     "name": "stdout",
     "output_type": "stream",
     "text": [
      "(0.0, 0.978541954971695, 0.7700666508227654, 0.8402984903939014, 0.2717964907547009, 0.7661203363388934, 0.2621916978704357, 0.26487543874149616, 0.7862983529047245, 0.4539809683822362, 0.5052673462220311, 0.38118772246581145, 0.7443415693042709, 0.48619017593610825, 0.6412190072734594, 0.3838396643725496, 0.46410517798669204, 0.7277939830919614, 0.6406810941347436, 0.5519304220394026, 0.5795297525747019, 0.5578399149746115, 0.4802369598542956, 0.6669378230986288, 0.33643999609599445, 0.5872902523783181, 0.446012969158175, 0.4163451447884128, 0.31342266347556097, 0.00010470527605604418, 0.0)\n",
      "(5.787304967822585e-06, 0.9352170233299468, 0.7531176669488862, 0.8681408192619086, 0.26876550734448534, 0.7623287857209992, 0.28112212055047436, 0.27017718255653134, 0.788042262834494, 0.41060274137949276, 0.5130180380913919, 0.32242211351494776, 0.7066833600612961, 0.5038542274352835, 0.6404734520442342, 0.5116969543365681, 0.3574426288295902, 0.7633809907036572, 0.644945381986696, 0.3866831265201538, 0.5858550460090379, 0.5654773291142932, 0.5460298304053196, 0.6789391667806758, 0.28935386333974467, 0.5595151957493345, 0.4027271804474953, 0.4154892660220704, 0.3119113161516553, 0.014738921870402115, 0.0)\n",
      "(5.787304967822585e-06, 0.9418780172089026, 0.7653039594895851, 0.8684836477480651, 0.21366122165460716, 0.7656469003978437, 0.27555923742073796, 0.26680305504229257, 0.789434181116517, 0.41499937895009953, 0.507585049815728, 0.2718173824777015, 0.7109101085000273, 0.48763473006085745, 0.6363721290461002, 0.2891244124060262, 0.4156534072087239, 0.7112527599081695, 0.7884915207380864, 0.4670575919484235, 0.5780502308470583, 0.5597336550308539, 0.5102770105429978, 0.6626071841558184, 0.22382592386909095, 0.6142454033294951, 0.3891966874892003, 0.4176686729751576, 0.3143710291152579, 0.004807100963911322, 0.0)\n",
      "(1.157460993564517e-05, 0.9386168309047992, 0.7765197872285701, 0.8642507014068559, 0.26979635271182784, 0.762975086664976, 0.2639841616818171, 0.26896777555589724, 0.7824835132574709, 0.490949592310647, 0.524302813899289, 0.23635461472324998, 0.7244773434060552, 0.5525089481021132, 0.6084059029899085, 0.3494188105227709, 0.4349950742323001, 0.7242425122693436, 0.6506651607838598, 0.6260602920935069, 0.5846152773779434, 0.5613274744848151, 0.5472706776985539, 0.6633922370815128, 0.40126980955807323, 0.5663427199358343, 0.5074968103902842, 0.4205609860045009, 0.3174899839572811, 0.00272428337217938, 0.0)\n",
      "(1.157460993564517e-05, 0.951057144520383, 0.7773933049100515, 0.857187426639569, 0.24447172439094772, 0.7685503696493547, 0.26272087672843375, 0.2682565838511204, 0.7881778347516718, 0.44319018708866387, 0.5010377081471302, 0.36504485618049964, 0.7177571189222789, 0.4206122570535468, 0.6414422202047845, 0.375022735853622, 0.46212740051467616, 0.7294406388205362, 0.6580138055702963, 0.560722680333313, 0.5811700109123118, 0.5581223722291054, 0.48391517857964894, 0.6650415802168584, 0.33218459137191675, 0.5648392537255553, 0.4427493147717611, 0.42119633749593616, 0.3147692326044016, 0.00014285069261177775, 0.0)\n"
     ]
    }
   ],
   "source": [
    "features = data.map(lambda line: line[0:-1])\n",
    "\n",
    "min_features=features.reduce(lambda x, y: [min(x[i], y[i]) for i in range(len(x))])\n",
    "max_features=features.reduce(lambda x, y: [max(x[i], y[i]) for i in range(len(x))])\n",
    "\n",
    "normalized_data = data.map(lambda line: tuple([(line[i] - min_features[i]) / (max_features[i] - min_features[i]) for i in range(len(line)-1)]+[line[-1]]))\n",
    "\n",
    "for row in normalized_data.take(5):\n",
    "    print(row)"
   ]
  },
  {
   "cell_type": "markdown",
   "id": "186313e1",
   "metadata": {},
   "source": [
    "## Chuyển thành đầu vào hợp lý ([features],label) và thêm bias"
   ]
  },
  {
   "cell_type": "code",
   "execution_count": 10,
   "id": "9cb7a452",
   "metadata": {},
   "outputs": [
    {
     "name": "stdout",
     "output_type": "stream",
     "text": [
      "([1.0, 0.0, 0.978541954971695, 0.7700666508227654, 0.8402984903939014, 0.2717964907547009, 0.7661203363388934, 0.2621916978704357, 0.26487543874149616, 0.7862983529047245, 0.4539809683822362, 0.5052673462220311, 0.38118772246581145, 0.7443415693042709, 0.48619017593610825, 0.6412190072734594, 0.3838396643725496, 0.46410517798669204, 0.7277939830919614, 0.6406810941347436, 0.5519304220394026, 0.5795297525747019, 0.5578399149746115, 0.4802369598542956, 0.6669378230986288, 0.33643999609599445, 0.5872902523783181, 0.446012969158175, 0.4163451447884128, 0.31342266347556097, 0.00010470527605604418], 0.0)\n",
      "([1.0, 5.787304967822585e-06, 0.9352170233299468, 0.7531176669488862, 0.8681408192619086, 0.26876550734448534, 0.7623287857209992, 0.28112212055047436, 0.27017718255653134, 0.788042262834494, 0.41060274137949276, 0.5130180380913919, 0.32242211351494776, 0.7066833600612961, 0.5038542274352835, 0.6404734520442342, 0.5116969543365681, 0.3574426288295902, 0.7633809907036572, 0.644945381986696, 0.3866831265201538, 0.5858550460090379, 0.5654773291142932, 0.5460298304053196, 0.6789391667806758, 0.28935386333974467, 0.5595151957493345, 0.4027271804474953, 0.4154892660220704, 0.3119113161516553, 0.014738921870402115], 0.0)\n",
      "([1.0, 5.787304967822585e-06, 0.9418780172089026, 0.7653039594895851, 0.8684836477480651, 0.21366122165460716, 0.7656469003978437, 0.27555923742073796, 0.26680305504229257, 0.789434181116517, 0.41499937895009953, 0.507585049815728, 0.2718173824777015, 0.7109101085000273, 0.48763473006085745, 0.6363721290461002, 0.2891244124060262, 0.4156534072087239, 0.7112527599081695, 0.7884915207380864, 0.4670575919484235, 0.5780502308470583, 0.5597336550308539, 0.5102770105429978, 0.6626071841558184, 0.22382592386909095, 0.6142454033294951, 0.3891966874892003, 0.4176686729751576, 0.3143710291152579, 0.004807100963911322], 0.0)\n",
      "([1.0, 1.157460993564517e-05, 0.9386168309047992, 0.7765197872285701, 0.8642507014068559, 0.26979635271182784, 0.762975086664976, 0.2639841616818171, 0.26896777555589724, 0.7824835132574709, 0.490949592310647, 0.524302813899289, 0.23635461472324998, 0.7244773434060552, 0.5525089481021132, 0.6084059029899085, 0.3494188105227709, 0.4349950742323001, 0.7242425122693436, 0.6506651607838598, 0.6260602920935069, 0.5846152773779434, 0.5613274744848151, 0.5472706776985539, 0.6633922370815128, 0.40126980955807323, 0.5663427199358343, 0.5074968103902842, 0.4205609860045009, 0.3174899839572811, 0.00272428337217938], 0.0)\n",
      "([1.0, 1.157460993564517e-05, 0.951057144520383, 0.7773933049100515, 0.857187426639569, 0.24447172439094772, 0.7685503696493547, 0.26272087672843375, 0.2682565838511204, 0.7881778347516718, 0.44319018708866387, 0.5010377081471302, 0.36504485618049964, 0.7177571189222789, 0.4206122570535468, 0.6414422202047845, 0.375022735853622, 0.46212740051467616, 0.7294406388205362, 0.6580138055702963, 0.560722680333313, 0.5811700109123118, 0.5581223722291054, 0.48391517857964894, 0.6650415802168584, 0.33218459137191675, 0.5648392537255553, 0.4427493147717611, 0.42119633749593616, 0.3147692326044016, 0.00014285069261177775], 0.0)\n"
     ]
    }
   ],
   "source": [
    "rdd_data= normalized_data.map(lambda line: ([1.0]+[x for x in line[:-1]], line[-1]))\n",
    "\n",
    "for row in rdd_data.take(5):\n",
    "    print(row)"
   ]
  },
  {
   "cell_type": "markdown",
   "id": "bf2e20d1",
   "metadata": {},
   "source": [
    "## Tách dữ liệu"
   ]
  },
  {
   "cell_type": "code",
   "execution_count": 11,
   "id": "9cf5b557",
   "metadata": {},
   "outputs": [],
   "source": [
    "train_0,test_0= rdd_data.filter(lambda line: line[-1] == 0.0).randomSplit([0.8, 0.2], seed=42)\n",
    "train_1,test_1= rdd_data.filter(lambda line: line[-1] == 1.0).randomSplit([0.8, 0.2], seed=42)\n",
    "\n",
    "train_data=train_0.union(train_1)\n",
    "test_data=test_0.union(test_1)"
   ]
  },
  {
   "cell_type": "markdown",
   "id": "ee7798cf",
   "metadata": {},
   "source": [
    "## Xây dựng các hàm cần thiết cho mô hình"
   ]
  },
  {
   "cell_type": "markdown",
   "id": "9b842443",
   "metadata": {},
   "source": [
    "### Hàm sigmoid"
   ]
  },
  {
   "cell_type": "code",
   "execution_count": 12,
   "id": "286b257a",
   "metadata": {},
   "outputs": [],
   "source": [
    "def sigmoid(x):\n",
    "    return 1 / (1 + math.exp(-x))"
   ]
  },
  {
   "cell_type": "markdown",
   "id": "2c702a07",
   "metadata": {},
   "source": [
    "### Hàm nhân trọng số với một dòng dữ liệu"
   ]
  },
  {
   "cell_type": "code",
   "execution_count": 13,
   "id": "a45f5a5c",
   "metadata": {},
   "outputs": [],
   "source": [
    "def dot(weights, features):\n",
    "    return sum(w*x for w, x in zip(weights, features))"
   ]
  },
  {
   "cell_type": "markdown",
   "id": "81154cbf",
   "metadata": {},
   "source": [
    "### Hàm tính gradient với một dòng dữ liệu"
   ]
  },
  {
   "cell_type": "code",
   "execution_count": 14,
   "id": "d9fbfa83",
   "metadata": {},
   "outputs": [],
   "source": [
    "def gradient(weights,features,label):\n",
    "    prediction = sigmoid(dot(weights, features))\n",
    "    error = prediction - label\n",
    "    return [error * x for x in features]"
   ]
  },
  {
   "cell_type": "markdown",
   "id": "ef351f09",
   "metadata": {},
   "source": [
    "### Hàm train mô hình"
   ]
  },
  {
   "cell_type": "code",
   "execution_count": 15,
   "id": "6254e00c",
   "metadata": {},
   "outputs": [],
   "source": [
    "def train_logistic_regression(data, num_iterations, learning_rate):\n",
    "    weights = [0.0] * (len(data.first()[0])+1)\n",
    "    count= data.count()\n",
    "    for _ in range(num_iterations):\n",
    "        print(\"Iteration: \", _ +1)\n",
    "        gradients = data.map(lambda x: gradient(weights, x[0], x[1])).reduce(lambda x, y: [a+b for a, b in zip(x, y)])\n",
    "\n",
    "        gradients = [g / count for g in gradients]\n",
    "\n",
    "        weights = [w - learning_rate * g for w, g in zip(weights, gradients)]\n",
    "\n",
    "\n",
    "    return weights"
   ]
  },
  {
   "cell_type": "markdown",
   "id": "72cc76ec",
   "metadata": {},
   "source": [
    "### Hàm dự đoán "
   ]
  },
  {
   "cell_type": "code",
   "execution_count": 16,
   "id": "152638c8",
   "metadata": {},
   "outputs": [],
   "source": [
    "def predict(weights,features):\n",
    "    return 1 if sigmoid(dot(weights, features)) >= 0.5 else 0"
   ]
  },
  {
   "cell_type": "markdown",
   "id": "4c4a619d",
   "metadata": {},
   "source": [
    "### Hàm đánh giá mô hình"
   ]
  },
  {
   "cell_type": "code",
   "execution_count": 17,
   "id": "df65e51e",
   "metadata": {},
   "outputs": [],
   "source": [
    "\n",
    "def evaluate_metric(data,weights,label):\n",
    "    predictions = data.map(lambda x: (predict(weights, x[0]), x[1]))\n",
    "    tp = predictions.filter(lambda x: x[0] == label and x[1] == label).count()\n",
    "    tn = predictions.filter(lambda x: x[0] != label and x[1] != label).count()\n",
    "    fp = predictions.filter(lambda x: x[0] == label and x[1] != label).count()\n",
    "    fn = predictions.filter(lambda x: x[0] != label and x[1] == label).count()\n",
    "\n",
    "    accuracy = (tp + tn) / (tp + tn + fp + fn) if (tp + tn + fp + fn) > 0 else 0\n",
    "    precision = tp / (tp + fp) if (tp + fp) > 0 else 0\n",
    "    recall= tp / (tp + fn) if (tp + fn) > 0 else 0\n",
    "\n",
    "    f1_score = (2 * precision * recall) / (precision + recall) if (precision + recall) > 0 else 0\n",
    "\n",
    "    return accuracy, precision, recall, f1_score\n",
    "\n",
    "def evaluate_model(data,weights):\n",
    "    \n",
    "    accuracy_0, precision_0, recall_0, f1_score_0 = evaluate_metric(data,weights,0.0)\n",
    "    accuracy_1, precision_1, recall_1, f1_score_1 = evaluate_metric(data,weights,1.0)\n",
    "\n",
    "    return (accuracy_0, precision_0, recall_0, f1_score_0), (accuracy_1, precision_1, recall_1, f1_score_1)\n"
   ]
  },
  {
   "cell_type": "markdown",
   "id": "83e6c40c",
   "metadata": {},
   "source": [
    "## Thực hiện huấn luyện mô hình"
   ]
  },
  {
   "cell_type": "code",
   "execution_count": 18,
   "id": "1943c112",
   "metadata": {},
   "outputs": [
    {
     "name": "stdout",
     "output_type": "stream",
     "text": [
      "Iteration:  1\n",
      "Iteration:  2\n",
      "Iteration:  3\n",
      "Iteration:  4\n",
      "Iteration:  5\n",
      "Iteration:  6\n",
      "Iteration:  7\n",
      "Iteration:  8\n",
      "Iteration:  9\n",
      "Iteration:  10\n",
      "Iteration:  11\n",
      "Iteration:  12\n",
      "Iteration:  13\n",
      "Iteration:  14\n",
      "Iteration:  15\n",
      "Iteration:  16\n",
      "Iteration:  17\n",
      "Iteration:  18\n",
      "Iteration:  19\n",
      "Iteration:  20\n",
      "Iteration:  21\n",
      "Iteration:  22\n",
      "Iteration:  23\n",
      "Iteration:  24\n",
      "Iteration:  25\n",
      "Iteration:  26\n",
      "Iteration:  27\n",
      "Iteration:  28\n",
      "Iteration:  29\n",
      "Iteration:  30\n",
      "Iteration:  31\n",
      "Iteration:  32\n",
      "Iteration:  33\n",
      "Iteration:  34\n",
      "Iteration:  35\n",
      "Iteration:  36\n",
      "Iteration:  37\n",
      "Iteration:  38\n",
      "Iteration:  39\n",
      "Iteration:  40\n",
      "Iteration:  41\n",
      "Iteration:  42\n",
      "Iteration:  43\n",
      "Iteration:  44\n",
      "Iteration:  45\n",
      "Iteration:  46\n",
      "Iteration:  47\n",
      "Iteration:  48\n",
      "Iteration:  49\n",
      "Iteration:  50\n",
      "Iteration:  51\n",
      "Iteration:  52\n",
      "Iteration:  53\n",
      "Iteration:  54\n",
      "Iteration:  55\n",
      "Iteration:  56\n",
      "Iteration:  57\n",
      "Iteration:  58\n",
      "Iteration:  59\n",
      "Iteration:  60\n",
      "Iteration:  61\n",
      "Iteration:  62\n",
      "Iteration:  63\n",
      "Iteration:  64\n",
      "Iteration:  65\n",
      "Iteration:  66\n",
      "Iteration:  67\n",
      "Iteration:  68\n",
      "Iteration:  69\n",
      "Iteration:  70\n",
      "Iteration:  71\n",
      "Iteration:  72\n",
      "Iteration:  73\n",
      "Iteration:  74\n",
      "Iteration:  75\n",
      "Iteration:  76\n",
      "Iteration:  77\n",
      "Iteration:  78\n",
      "Iteration:  79\n",
      "Iteration:  80\n",
      "Iteration:  81\n",
      "Iteration:  82\n",
      "Iteration:  83\n",
      "Iteration:  84\n",
      "Iteration:  85\n",
      "Iteration:  86\n",
      "Iteration:  87\n",
      "Iteration:  88\n",
      "Iteration:  89\n",
      "Iteration:  90\n",
      "Iteration:  91\n",
      "Iteration:  92\n",
      "Iteration:  93\n",
      "Iteration:  94\n",
      "Iteration:  95\n",
      "Iteration:  96\n",
      "Iteration:  97\n",
      "Iteration:  98\n",
      "Iteration:  99\n",
      "Iteration:  100\n"
     ]
    }
   ],
   "source": [
    "weights= train_logistic_regression(train_data, num_iterations=100, learning_rate=0.5)"
   ]
  },
  {
   "cell_type": "code",
   "execution_count": 19,
   "id": "65964aac",
   "metadata": {},
   "outputs": [
    {
     "name": "stdout",
     "output_type": "stream",
     "text": [
      "Weights:  [-0.5577639978785078, -0.30694549440031543, -0.5408651258524305, -0.4247669153042289, -0.4772513021873141, -0.12363960575701975, -0.4287851226174678, -0.14793041617408192, -0.15070090842031222, -0.4371641346338713, -0.26538898004604256, -0.2932234701854491, -0.14085722264095182, -0.41188768281612037, -0.25020860759978314, -0.37949833572669023, -0.18832219766500932, -0.2614502372595968, -0.42373956746939784, -0.37659174032415665, -0.30918282769040883, -0.3232941678156191, -0.3124674197063147, -0.28394373127893724, -0.37120163015368707, -0.21386204572836137, -0.3222649417113173, -0.23632189520566432, -0.23205062558936432, -0.17452512075003157, -0.0018464217114562117]\n"
     ]
    }
   ],
   "source": [
    "print(\"Weights: \", weights)"
   ]
  },
  {
   "cell_type": "markdown",
   "id": "b878cb74",
   "metadata": {},
   "source": [
    "## Đánh giá mô hình sau khi huấn luyện"
   ]
  },
  {
   "cell_type": "code",
   "execution_count": 20,
   "id": "00cf4165",
   "metadata": {},
   "outputs": [],
   "source": [
    "evaluation_0,evaluation_1= evaluate_model(train_data,weights)"
   ]
  },
  {
   "cell_type": "code",
   "execution_count": 21,
   "id": "a53619fd",
   "metadata": {},
   "outputs": [
    {
     "name": "stdout",
     "output_type": "stream",
     "text": [
      "Accuracy:  0.9983082209886334\n",
      "Precision [0,1]:  [0.9983082209886334, 0]\n",
      "Recall [0,1]:  [1.0, 0.0]\n",
      "F1 Score [0,1]:  [0.9991533943594899, 0]\n"
     ]
    }
   ],
   "source": [
    "print(\"Accuracy: \", evaluation_0[0])\n",
    "\n",
    "print(\"Precision [0,1]: \",[evaluation_0[1],evaluation_1[1]])\n",
    "print(\"Recall [0,1]: \",[evaluation_0[2],evaluation_1[2]])\n",
    "print(\"F1 Score [0,1]: \",[evaluation_0[3],evaluation_1[3]])"
   ]
  },
  {
   "cell_type": "markdown",
   "id": "84b79ffb",
   "metadata": {},
   "source": [
    "## Thực hiện dự đoán trên tập test"
   ]
  },
  {
   "cell_type": "code",
   "execution_count": 22,
   "id": "3e86e17a",
   "metadata": {},
   "outputs": [],
   "source": [
    "predictions = test_data.map(lambda x: (predict(weights, x[0]), x[1]))\n"
   ]
  },
  {
   "cell_type": "markdown",
   "id": "7acdcb54",
   "metadata": {},
   "source": [
    "## Đánh giá trên tập test"
   ]
  },
  {
   "cell_type": "code",
   "execution_count": 23,
   "id": "a31e1dd5",
   "metadata": {},
   "outputs": [
    {
     "name": "stdout",
     "output_type": "stream",
     "text": [
      "Accuracy:  0.998431607514186\n",
      "Precision [0,1]:  [0.998431607514186, 0]\n",
      "Recall [0,1]:  [1.0, 0.0]\n",
      "F1 Score [0,1]:  [0.9992151883107149, 0]\n"
     ]
    }
   ],
   "source": [
    "accuracy_0, precision_0, recall_0, f1_score_0 = evaluate_metric(test_data,weights,0.0)\n",
    "accuracy_1, precision_1, recall_1, f1_score_1 = evaluate_metric(test_data,weights,1.0)\n",
    "\n",
    "print(\"Accuracy: \", accuracy_0)\n",
    "print(\"Precision [0,1]: \", [precision_0,precision_1])\n",
    "print(\"Recall [0,1]: \", [recall_0,recall_1])\n",
    "print(\"F1 Score [0,1]: \", [f1_score_0,f1_score_1])"
   ]
  },
  {
   "cell_type": "markdown",
   "id": "9c8cf6c1",
   "metadata": {},
   "source": [
    "## Lưu kết quả"
   ]
  },
  {
   "cell_type": "code",
   "execution_count": 24,
   "id": "ee655646",
   "metadata": {},
   "outputs": [
    {
     "name": "stdout",
     "output_type": "stream",
     "text": [
      "+--------------------+-----+----------+\n",
      "|            features|label|prediction|\n",
      "+--------------------+-----+----------+\n",
      "|[1.0, 6.944765961...|  0.0|         0|\n",
      "|[1.0, 6.944765961...|  0.0|         0|\n",
      "|[1.0, 1.273207092...|  0.0|         0|\n",
      "|[1.0, 1.331080142...|  0.0|         0|\n",
      "|[1.0, 1.504699291...|  0.0|         0|\n",
      "+--------------------+-----+----------+\n",
      "only showing top 5 rows\n",
      "\n"
     ]
    }
   ],
   "source": [
    "result= test_data.map(lambda x: (x[0],x[1],predict(weights, x[0]))).toDF([\"features\",\"label\",\"prediction\"])\n",
    "result.show(5)"
   ]
  },
  {
   "cell_type": "code",
   "execution_count": 25,
   "id": "14df27d1",
   "metadata": {},
   "outputs": [],
   "source": [
    "result.coalesce(1).write.mode(\"overwrite\").parquet(\"results\")"
   ]
  }
 ],
 "metadata": {
  "kernelspec": {
   "display_name": "min_ds-env2",
   "language": "python",
   "name": "python3"
  },
  "language_info": {
   "codemirror_mode": {
    "name": "ipython",
    "version": 3
   },
   "file_extension": ".py",
   "mimetype": "text/x-python",
   "name": "python",
   "nbconvert_exporter": "python",
   "pygments_lexer": "ipython3",
   "version": "3.10.15"
  }
 },
 "nbformat": 4,
 "nbformat_minor": 5
}
