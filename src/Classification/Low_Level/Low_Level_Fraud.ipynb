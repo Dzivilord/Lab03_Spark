{
 "cells": [
  {
   "cell_type": "markdown",
   "id": "dded2edd",
   "metadata": {},
   "source": [
    "# Low_Level"
   ]
  },
  {
   "cell_type": "code",
   "execution_count": 1,
   "id": "5ed2af99",
   "metadata": {},
   "outputs": [],
   "source": [
    "import findspark\n",
    "findspark.init()"
   ]
  },
  {
   "cell_type": "markdown",
   "id": "31b9dbb1",
   "metadata": {},
   "source": [
    "## Thêm các thư viện cần thiết"
   ]
  },
  {
   "cell_type": "code",
   "execution_count": 2,
   "id": "7bde70a3",
   "metadata": {},
   "outputs": [],
   "source": [
    "import pyspark\n",
    "from pyspark.sql import SparkSession\n",
    "\n",
    "import math\n",
    "import os\n",
    "import sys\n",
    "\n",
    "os.environ[\"PYSPARK_PYTHON\"] = sys.executable\n",
    "os.environ[\"PYSPARK_DRIVER_PYTHON\"] = sys.executable"
   ]
  },
  {
   "cell_type": "markdown",
   "id": "91bd44a0",
   "metadata": {},
   "source": [
    "## Tạo Session"
   ]
  },
  {
   "cell_type": "code",
   "execution_count": 3,
   "id": "9cf1d071",
   "metadata": {},
   "outputs": [],
   "source": [
    "spark=SparkSession.builder.master(\"local\")\\\n",
    "    .appName(\"low_level\")\\\n",
    "    .config(\"spark.some.config.option\", \"some-value\")\\\n",
    "    .getOrCreate()"
   ]
  },
  {
   "cell_type": "markdown",
   "id": "d0403300",
   "metadata": {},
   "source": [
    "## Đọc dữ liệu"
   ]
  },
  {
   "cell_type": "code",
   "execution_count": 4,
   "id": "5e30e043",
   "metadata": {},
   "outputs": [
    {
     "data": {
      "text/plain": [
       "284808"
      ]
     },
     "execution_count": 4,
     "metadata": {},
     "output_type": "execute_result"
    }
   ],
   "source": [
    "lines=spark.sparkContext.textFile(\"creditcard.csv\")\n",
    "lines.count()"
   ]
  },
  {
   "cell_type": "code",
   "execution_count": 5,
   "id": "588fa565",
   "metadata": {},
   "outputs": [],
   "source": [
    "header=lines.first()\n",
    "raw_data=lines.filter(lambda line: line !=header)\n",
    "data=raw_data.map(lambda lines: lines.split(\",\"))\\\n",
    "            .map(lambda line: tuple([float(x) for x in line[0:-1]]+[float(line[-1].strip('\"'))]))"
   ]
  },
  {
   "cell_type": "code",
   "execution_count": 6,
   "id": "44c6fd1a",
   "metadata": {},
   "outputs": [
    {
     "name": "stdout",
     "output_type": "stream",
     "text": [
      "(0.0, -1.3598071336738, -0.0727811733098497, 2.53634673796914, 1.37815522427443, -0.338320769942518, 0.462387777762292, 0.239598554061257, 0.0986979012610507, 0.363786969611213, 0.0907941719789316, -0.551599533260813, -0.617800855762348, -0.991389847235408, -0.311169353699879, 1.46817697209427, -0.470400525259478, 0.207971241929242, 0.0257905801985591, 0.403992960255733, 0.251412098239705, -0.018306777944153, 0.277837575558899, -0.110473910188767, 0.0669280749146731, 0.128539358273528, -0.189114843888824, 0.133558376740387, -0.0210530534538215, 149.62, 0.0)\n",
      "(0.0, 1.19185711131486, 0.26615071205963, 0.16648011335321, 0.448154078460911, 0.0600176492822243, -0.0823608088155687, -0.0788029833323113, 0.0851016549148104, -0.255425128109186, -0.166974414004614, 1.61272666105479, 1.06523531137287, 0.48909501589608, -0.143772296441519, 0.635558093258208, 0.463917041022171, -0.114804663102346, -0.183361270123994, -0.145783041325259, -0.0690831352230203, -0.225775248033138, -0.638671952771851, 0.101288021253234, -0.339846475529127, 0.167170404418143, 0.125894532368176, -0.00898309914322813, 0.0147241691924927, 2.69, 0.0)\n",
      "(1.0, -1.35835406159823, -1.34016307473609, 1.77320934263119, 0.379779593034328, -0.503198133318193, 1.80049938079263, 0.791460956450422, 0.247675786588991, -1.51465432260583, 0.207642865216696, 0.624501459424895, 0.066083685268831, 0.717292731410831, -0.165945922763554, 2.34586494901581, -2.89008319444231, 1.10996937869599, -0.121359313195888, -2.26185709530414, 0.524979725224404, 0.247998153469754, 0.771679401917229, 0.909412262347719, -0.689280956490685, -0.327641833735251, -0.139096571514147, -0.0553527940384261, -0.0597518405929204, 378.66, 0.0)\n",
      "(1.0, -0.966271711572087, -0.185226008082898, 1.79299333957872, -0.863291275036453, -0.0103088796030823, 1.24720316752486, 0.23760893977178, 0.377435874652262, -1.38702406270197, -0.0549519224713749, -0.226487263835401, 0.178228225877303, 0.507756869957169, -0.28792374549456, -0.631418117709045, -1.0596472454325, -0.684092786345479, 1.96577500349538, -1.2326219700892, -0.208037781160366, -0.108300452035545, 0.00527359678253453, -0.190320518742841, -1.17557533186321, 0.647376034602038, -0.221928844458407, 0.0627228487293033, 0.0614576285006353, 123.5, 0.0)\n",
      "(2.0, -1.15823309349523, 0.877736754848451, 1.548717846511, 0.403033933955121, -0.407193377311653, 0.0959214624684256, 0.592940745385545, -0.270532677192282, 0.817739308235294, 0.753074431976354, -0.822842877946363, 0.53819555014995, 1.3458515932154, -1.11966983471731, 0.175121130008994, -0.451449182813529, -0.237033239362776, -0.0381947870352842, 0.803486924960175, 0.408542360392758, -0.00943069713232919, 0.79827849458971, -0.137458079619063, 0.141266983824769, -0.206009587619756, 0.502292224181569, 0.219422229513348, 0.215153147499206, 69.99, 0.0)\n"
     ]
    }
   ],
   "source": [
    "for row in data.take(5):\n",
    "    print(row)"
   ]
  },
  {
   "cell_type": "markdown",
   "id": "2dcaeeee",
   "metadata": {},
   "source": [
    "## Tiền xử lý dữ liệu"
   ]
  },
  {
   "cell_type": "markdown",
   "id": "e9ff1d6e",
   "metadata": {},
   "source": [
    "### Bỏ dữ liệu lặp"
   ]
  },
  {
   "cell_type": "code",
   "execution_count": 7,
   "id": "598e92e5",
   "metadata": {},
   "outputs": [
    {
     "data": {
      "text/plain": [
       "283726"
      ]
     },
     "execution_count": 7,
     "metadata": {},
     "output_type": "execute_result"
    }
   ],
   "source": [
    "data=data.distinct()\n",
    "data.count()"
   ]
  },
  {
   "cell_type": "markdown",
   "id": "43eaa433",
   "metadata": {},
   "source": [
    "### Bỏ dữ liệu trống"
   ]
  },
  {
   "cell_type": "code",
   "execution_count": 8,
   "id": "d9979a83",
   "metadata": {},
   "outputs": [
    {
     "data": {
      "text/plain": [
       "283726"
      ]
     },
     "execution_count": 8,
     "metadata": {},
     "output_type": "execute_result"
    }
   ],
   "source": [
    "data = data.filter(lambda line: all(x is not None and x != '' for x in line))\n",
    "data.count()"
   ]
  },
  {
   "cell_type": "markdown",
   "id": "fb52613a",
   "metadata": {},
   "source": [
    "## Chuẩn hóa dữ liệu Min-Max"
   ]
  },
  {
   "cell_type": "code",
   "execution_count": 9,
   "id": "b87095f3",
   "metadata": {},
   "outputs": [
    {
     "name": "stdout",
     "output_type": "stream",
     "text": [
      "(5.787304967822585e-06, 0.9352170233299468, 0.7531176669488862, 0.8681408192619086, 0.26876550734448534, 0.7623287857209992, 0.28112212055047436, 0.27017718255653134, 0.788042262834494, 0.41060274137949276, 0.5130180380913919, 0.32242211351494776, 0.7066833600612961, 0.5038542274352835, 0.6404734520442342, 0.5116969543365681, 0.3574426288295902, 0.7633809907036572, 0.644945381986696, 0.3866831265201538, 0.5858550460090379, 0.5654773291142932, 0.5460298304053196, 0.6789391667806758, 0.28935386333974467, 0.5595151957493345, 0.4027271804474953, 0.4154892660220704, 0.3119113161516553, 0.014738921870402115, 0.0)\n",
      "(2.314921987129034e-05, 0.9791841390781553, 0.7687461628975437, 0.8381998380477365, 0.3052410082915901, 0.7670080361177429, 0.26576158850544196, 0.26532408598518387, 0.7862566392034854, 0.47879696655542514, 0.5066684497011205, 0.20102809793377815, 0.6983949299741375, 0.39019355306820425, 0.6516807705387179, 0.3400758736235378, 0.43524511059386023, 0.7312116976055362, 0.6112016223066783, 0.5597558100056564, 0.5779267753380126, 0.5587758486726954, 0.49740239246925116, 0.6631450339379092, 0.27712204754210323, 0.6200136314170894, 0.3834291931524177, 0.4171478807196189, 0.31322873471863105, 0.0001942302332786842, 0.0)\n",
      "(4.051113477475809e-05, 0.9473484372473652, 0.7822199780865544, 0.8560311087101947, 0.23011142915846172, 0.7721044933924512, 0.26732409614145036, 0.27218252491620354, 0.7445390532653612, 0.4839784891775279, 0.5345711120323253, 0.24844847805433468, 0.7151783759411889, 0.5844092611261914, 0.6015401366578533, 0.3876204520877068, 0.4469309174116545, 0.6956196396000061, 0.6286547857900514, 0.5886558770864606, 0.5785964050357516, 0.5928089290332571, 0.4626600496208475, 0.6662875855456077, 0.29468616520594587, 0.5545965989168117, 0.417013975296459, 0.3942339429714856, 0.2910989941987123, 0.0015880948933407444, 0.0)\n",
      "(7.523496458169359e-05, 0.9508713012726631, 0.7769548189300637, 0.8534354682730945, 0.21969318874293933, 0.7718806192614154, 0.2617341715477467, 0.26966654584570826, 0.786329039238695, 0.4398624880401305, 0.4934534571385271, 0.30455836833118666, 0.714640075457538, 0.4678857346933834, 0.6362385524128993, 0.32253313106854986, 0.48570662177203877, 0.7041451889524298, 0.7000925004307539, 0.5653012016488889, 0.5797646564925023, 0.5583393155149701, 0.4786524443753877, 0.6631041387009581, 0.262524508671256, 0.5586860407196561, 0.41743991657711127, 0.4179818921567089, 0.31578274050381966, 3.464226605571722e-05, 0.0)\n",
      "(9.259687948516135e-05, 0.9700990100496973, 0.7528891638518003, 0.8552485617299047, 0.2889077774147477, 0.7576971199759014, 0.2761816416491853, 0.2600030730157834, 0.7901620441823689, 0.4474092537842765, 0.520484466702613, 0.3458902438344971, 0.753126902174603, 0.4808789286883544, 0.6335233011331993, 0.2759252245446211, 0.38433169306353665, 0.7461128512683846, 0.6963357611742891, 0.4617640692617131, 0.578792403562345, 0.5567145875765889, 0.48334930443032514, 0.6646779860159184, 0.3412413879834147, 0.5819481544616879, 0.3564771541078536, 0.41810853054236924, 0.31441244770627047, 0.009019055581764312, 0.0)\n"
     ]
    }
   ],
   "source": [
    "features = data.map(lambda line: line[0:-1])\n",
    "\n",
    "min_features=features.reduce(lambda x, y: [min(x[i], y[i]) for i in range(len(x))])\n",
    "max_features=features.reduce(lambda x, y: [max(x[i], y[i]) for i in range(len(x))])\n",
    "\n",
    "normalized_data = data.map(lambda line: tuple([(line[i] - min_features[i]) / (max_features[i] - min_features[i]) for i in range(len(line)-1)]+[line[-1]]))\n",
    "\n",
    "for row in normalized_data.take(5):\n",
    "    print(row)"
   ]
  },
  {
   "cell_type": "markdown",
   "id": "186313e1",
   "metadata": {},
   "source": [
    "## Chuyển thành đầu vào hợp lý ([features],label) và thêm bias"
   ]
  },
  {
   "cell_type": "code",
   "execution_count": 10,
   "id": "9cb7a452",
   "metadata": {},
   "outputs": [
    {
     "name": "stdout",
     "output_type": "stream",
     "text": [
      "([1.0, 5.787304967822585e-06, 0.9352170233299468, 0.7531176669488862, 0.8681408192619086, 0.26876550734448534, 0.7623287857209992, 0.28112212055047436, 0.27017718255653134, 0.788042262834494, 0.41060274137949276, 0.5130180380913919, 0.32242211351494776, 0.7066833600612961, 0.5038542274352835, 0.6404734520442342, 0.5116969543365681, 0.3574426288295902, 0.7633809907036572, 0.644945381986696, 0.3866831265201538, 0.5858550460090379, 0.5654773291142932, 0.5460298304053196, 0.6789391667806758, 0.28935386333974467, 0.5595151957493345, 0.4027271804474953, 0.4154892660220704, 0.3119113161516553, 0.014738921870402115], 0.0)\n",
      "([1.0, 2.314921987129034e-05, 0.9791841390781553, 0.7687461628975437, 0.8381998380477365, 0.3052410082915901, 0.7670080361177429, 0.26576158850544196, 0.26532408598518387, 0.7862566392034854, 0.47879696655542514, 0.5066684497011205, 0.20102809793377815, 0.6983949299741375, 0.39019355306820425, 0.6516807705387179, 0.3400758736235378, 0.43524511059386023, 0.7312116976055362, 0.6112016223066783, 0.5597558100056564, 0.5779267753380126, 0.5587758486726954, 0.49740239246925116, 0.6631450339379092, 0.27712204754210323, 0.6200136314170894, 0.3834291931524177, 0.4171478807196189, 0.31322873471863105, 0.0001942302332786842], 0.0)\n",
      "([1.0, 4.051113477475809e-05, 0.9473484372473652, 0.7822199780865544, 0.8560311087101947, 0.23011142915846172, 0.7721044933924512, 0.26732409614145036, 0.27218252491620354, 0.7445390532653612, 0.4839784891775279, 0.5345711120323253, 0.24844847805433468, 0.7151783759411889, 0.5844092611261914, 0.6015401366578533, 0.3876204520877068, 0.4469309174116545, 0.6956196396000061, 0.6286547857900514, 0.5886558770864606, 0.5785964050357516, 0.5928089290332571, 0.4626600496208475, 0.6662875855456077, 0.29468616520594587, 0.5545965989168117, 0.417013975296459, 0.3942339429714856, 0.2910989941987123, 0.0015880948933407444], 0.0)\n",
      "([1.0, 7.523496458169359e-05, 0.9508713012726631, 0.7769548189300637, 0.8534354682730945, 0.21969318874293933, 0.7718806192614154, 0.2617341715477467, 0.26966654584570826, 0.786329039238695, 0.4398624880401305, 0.4934534571385271, 0.30455836833118666, 0.714640075457538, 0.4678857346933834, 0.6362385524128993, 0.32253313106854986, 0.48570662177203877, 0.7041451889524298, 0.7000925004307539, 0.5653012016488889, 0.5797646564925023, 0.5583393155149701, 0.4786524443753877, 0.6631041387009581, 0.262524508671256, 0.5586860407196561, 0.41743991657711127, 0.4179818921567089, 0.31578274050381966, 3.464226605571722e-05], 0.0)\n",
      "([1.0, 9.259687948516135e-05, 0.9700990100496973, 0.7528891638518003, 0.8552485617299047, 0.2889077774147477, 0.7576971199759014, 0.2761816416491853, 0.2600030730157834, 0.7901620441823689, 0.4474092537842765, 0.520484466702613, 0.3458902438344971, 0.753126902174603, 0.4808789286883544, 0.6335233011331993, 0.2759252245446211, 0.38433169306353665, 0.7461128512683846, 0.6963357611742891, 0.4617640692617131, 0.578792403562345, 0.5567145875765889, 0.48334930443032514, 0.6646779860159184, 0.3412413879834147, 0.5819481544616879, 0.3564771541078536, 0.41810853054236924, 0.31441244770627047, 0.009019055581764312], 0.0)\n"
     ]
    }
   ],
   "source": [
    "rdd_data= normalized_data.map(lambda line: ([1.0]+[x for x in line[:-1]], line[-1]))\n",
    "\n",
    "for row in rdd_data.take(5):\n",
    "    print(row)"
   ]
  },
  {
   "cell_type": "markdown",
   "id": "bf2e20d1",
   "metadata": {},
   "source": [
    "## Tách dữ liệu"
   ]
  },
  {
   "cell_type": "code",
   "execution_count": 11,
   "id": "9cf5b557",
   "metadata": {},
   "outputs": [],
   "source": [
    "train_0,test_0= rdd_data.filter(lambda line: line[-1] == 0.0).randomSplit([0.8, 0.2], seed=42)\n",
    "train_1,test_1= rdd_data.filter(lambda line: line[-1] == 1.0).randomSplit([0.8, 0.2], seed=42)\n",
    "\n",
    "train_data=train_0.union(train_1)\n",
    "test_data=test_0.union(test_1)"
   ]
  },
  {
   "cell_type": "markdown",
   "id": "ee7798cf",
   "metadata": {},
   "source": [
    "## Xây dựng các hàm cần thiết cho mô hình"
   ]
  },
  {
   "cell_type": "markdown",
   "id": "9b842443",
   "metadata": {},
   "source": [
    "### Hàm sigmoid"
   ]
  },
  {
   "cell_type": "code",
   "execution_count": 12,
   "id": "286b257a",
   "metadata": {},
   "outputs": [],
   "source": [
    "def sigmoid(x):\n",
    "    return 1 / (1 + math.exp(-x))"
   ]
  },
  {
   "cell_type": "markdown",
   "id": "2c702a07",
   "metadata": {},
   "source": [
    "### Hàm nhân trọng số với một dòng dữ liệu"
   ]
  },
  {
   "cell_type": "code",
   "execution_count": 13,
   "id": "a45f5a5c",
   "metadata": {},
   "outputs": [],
   "source": [
    "def dot(weights, features):\n",
    "    return sum(w*x for w, x in zip(weights, features))"
   ]
  },
  {
   "cell_type": "markdown",
   "id": "81154cbf",
   "metadata": {},
   "source": [
    "### Hàm tính gradient với một dòng dữ liệu"
   ]
  },
  {
   "cell_type": "code",
   "execution_count": 14,
   "id": "d9fbfa83",
   "metadata": {},
   "outputs": [],
   "source": [
    "def gradient(weights,features,label):\n",
    "    prediction = sigmoid(dot(weights, features))\n",
    "    error = prediction - label\n",
    "    return [error * x for x in features]"
   ]
  },
  {
   "cell_type": "markdown",
   "id": "ef351f09",
   "metadata": {},
   "source": [
    "### Hàm train mô hình"
   ]
  },
  {
   "cell_type": "code",
   "execution_count": 15,
   "id": "6254e00c",
   "metadata": {},
   "outputs": [],
   "source": [
    "def train_logistic_regression(data, num_iterations, learning_rate):\n",
    "    weights = [0.0] * (len(data.first()[0])+1)\n",
    "    count= data.count()\n",
    "    for _ in range(num_iterations):\n",
    "        print(\"Iteration: \", _ +1)\n",
    "        gradients = data.map(lambda x: gradient(weights, x[0], x[1])).reduce(lambda x, y: [a+b for a, b in zip(x, y)])\n",
    "\n",
    "        gradients = [g / count for g in gradients]\n",
    "\n",
    "        weights = [w - learning_rate * g for w, g in zip(weights, gradients)]\n",
    "\n",
    "\n",
    "    return weights"
   ]
  },
  {
   "cell_type": "markdown",
   "id": "72cc76ec",
   "metadata": {},
   "source": [
    "### Hàm dự đoán "
   ]
  },
  {
   "cell_type": "code",
   "execution_count": 16,
   "id": "152638c8",
   "metadata": {},
   "outputs": [],
   "source": [
    "def predict(weights,features):\n",
    "    return 1 if sigmoid(dot(weights, features)) >= 0.5 else 0"
   ]
  },
  {
   "cell_type": "markdown",
   "id": "4c4a619d",
   "metadata": {},
   "source": [
    "### Hàm đánh giá mô hình"
   ]
  },
  {
   "cell_type": "code",
   "execution_count": 17,
   "id": "df65e51e",
   "metadata": {},
   "outputs": [],
   "source": [
    "\n",
    "def evaluate_metric(data,weights,label):\n",
    "    predictions = data.map(lambda x: (predict(weights, x[0]), x[1]))\n",
    "    tp = predictions.filter(lambda x: x[0] == label and x[1] == label).count()\n",
    "    tn = predictions.filter(lambda x: x[0] != label and x[1] != label).count()\n",
    "    fp = predictions.filter(lambda x: x[0] == label and x[1] != label).count()\n",
    "    fn = predictions.filter(lambda x: x[0] != label and x[1] == label).count()\n",
    "\n",
    "    accuracy = (tp + tn) / (tp + tn + fp + fn) if (tp + tn + fp + fn) > 0 else 0\n",
    "    precision = tp / (tp + fp) if (tp + fp) > 0 else 0\n",
    "    recall= tp / (tp + fn) if (tp + fn) > 0 else 0\n",
    "\n",
    "    f1_score = (2 * precision * recall) / (precision + recall) if (precision + recall) > 0 else 0\n",
    "\n",
    "    return accuracy, precision, recall, f1_score\n",
    "\n",
    "def evaluate_model(data,weights):\n",
    "    \n",
    "    accuracy_0, precision_0, recall_0, f1_score_0 = evaluate_metric(data,weights,0.0)\n",
    "    accuracy_1, precision_1, recall_1, f1_score_1 = evaluate_metric(data,weights,1.0)\n",
    "\n",
    "    return (accuracy_0, precision_0, recall_0, f1_score_0), (accuracy_1, precision_1, recall_1, f1_score_1)\n"
   ]
  },
  {
   "cell_type": "markdown",
   "id": "83e6c40c",
   "metadata": {},
   "source": [
    "## Thực hiện huấn luyện mô hình"
   ]
  },
  {
   "cell_type": "code",
   "execution_count": 18,
   "id": "1943c112",
   "metadata": {},
   "outputs": [
    {
     "name": "stdout",
     "output_type": "stream",
     "text": [
      "Iteration:  1\n",
      "Iteration:  2\n",
      "Iteration:  3\n",
      "Iteration:  4\n",
      "Iteration:  5\n",
      "Iteration:  6\n",
      "Iteration:  7\n",
      "Iteration:  8\n",
      "Iteration:  9\n",
      "Iteration:  10\n",
      "Iteration:  11\n",
      "Iteration:  12\n",
      "Iteration:  13\n",
      "Iteration:  14\n",
      "Iteration:  15\n",
      "Iteration:  16\n",
      "Iteration:  17\n",
      "Iteration:  18\n",
      "Iteration:  19\n",
      "Iteration:  20\n",
      "Iteration:  21\n",
      "Iteration:  22\n",
      "Iteration:  23\n",
      "Iteration:  24\n",
      "Iteration:  25\n",
      "Iteration:  26\n",
      "Iteration:  27\n",
      "Iteration:  28\n",
      "Iteration:  29\n",
      "Iteration:  30\n",
      "Iteration:  31\n",
      "Iteration:  32\n",
      "Iteration:  33\n",
      "Iteration:  34\n",
      "Iteration:  35\n",
      "Iteration:  36\n",
      "Iteration:  37\n",
      "Iteration:  38\n",
      "Iteration:  39\n",
      "Iteration:  40\n",
      "Iteration:  41\n",
      "Iteration:  42\n",
      "Iteration:  43\n",
      "Iteration:  44\n",
      "Iteration:  45\n",
      "Iteration:  46\n",
      "Iteration:  47\n",
      "Iteration:  48\n",
      "Iteration:  49\n",
      "Iteration:  50\n",
      "Iteration:  51\n",
      "Iteration:  52\n",
      "Iteration:  53\n",
      "Iteration:  54\n",
      "Iteration:  55\n",
      "Iteration:  56\n",
      "Iteration:  57\n",
      "Iteration:  58\n",
      "Iteration:  59\n",
      "Iteration:  60\n",
      "Iteration:  61\n",
      "Iteration:  62\n",
      "Iteration:  63\n",
      "Iteration:  64\n",
      "Iteration:  65\n",
      "Iteration:  66\n",
      "Iteration:  67\n",
      "Iteration:  68\n",
      "Iteration:  69\n",
      "Iteration:  70\n",
      "Iteration:  71\n",
      "Iteration:  72\n",
      "Iteration:  73\n",
      "Iteration:  74\n",
      "Iteration:  75\n",
      "Iteration:  76\n",
      "Iteration:  77\n",
      "Iteration:  78\n",
      "Iteration:  79\n",
      "Iteration:  80\n",
      "Iteration:  81\n",
      "Iteration:  82\n",
      "Iteration:  83\n",
      "Iteration:  84\n",
      "Iteration:  85\n",
      "Iteration:  86\n",
      "Iteration:  87\n",
      "Iteration:  88\n",
      "Iteration:  89\n",
      "Iteration:  90\n",
      "Iteration:  91\n",
      "Iteration:  92\n",
      "Iteration:  93\n",
      "Iteration:  94\n",
      "Iteration:  95\n",
      "Iteration:  96\n",
      "Iteration:  97\n",
      "Iteration:  98\n",
      "Iteration:  99\n",
      "Iteration:  100\n"
     ]
    }
   ],
   "source": [
    "weights= train_logistic_regression(train_data, num_iterations=100, learning_rate=0.5)"
   ]
  },
  {
   "cell_type": "code",
   "execution_count": 19,
   "id": "65964aac",
   "metadata": {},
   "outputs": [
    {
     "name": "stdout",
     "output_type": "stream",
     "text": [
      "Weights:  [-0.5574227863752658, -0.30687302074695355, -0.5406745746961653, -0.42459439833496254, -0.4768759249037977, -0.12374470380391644, -0.42848907881352144, -0.14783809275464305, -0.15062035385475175, -0.43692617403248785, -0.26521332703359035, -0.29301529004336624, -0.14081151595520722, -0.41132529977387394, -0.2505596436351109, -0.379231055470105, -0.18800158047787802, -0.26121261426706754, -0.4235388149353369, -0.37638343325962237, -0.3090522952313246, -0.32305310259507447, -0.31231569634009154, -0.28371611311402317, -0.37107938129041196, -0.21373866985605658, -0.32203572751839615, -0.2364251062848109, -0.23179754844828676, -0.17441779969458715, -0.0018250432801558683]\n"
     ]
    }
   ],
   "source": [
    "print(\"Weights: \", weights)"
   ]
  },
  {
   "cell_type": "markdown",
   "id": "b878cb74",
   "metadata": {},
   "source": [
    "## Đánh giá mô hình sau khi huấn luyện"
   ]
  },
  {
   "cell_type": "code",
   "execution_count": 20,
   "id": "00cf4165",
   "metadata": {},
   "outputs": [],
   "source": [
    "evaluation_0,evaluation_1= evaluate_model(train_data,weights)"
   ]
  },
  {
   "cell_type": "code",
   "execution_count": 21,
   "id": "a53619fd",
   "metadata": {},
   "outputs": [
    {
     "name": "stdout",
     "output_type": "stream",
     "text": [
      "Accuracy:  0.9982935829041636\n",
      "Precision [0,1]:  [0.9982935829041636, 0]\n",
      "Recall [0,1]:  [1.0, 0.0]\n",
      "F1 Score [0,1]:  [0.9991460628656195, 0]\n"
     ]
    }
   ],
   "source": [
    "print(\"Accuracy: \", evaluation_0[0])\n",
    "\n",
    "print(\"Precision [0,1]: \",[evaluation_0[1],evaluation_1[1]])\n",
    "print(\"Recall [0,1]: \",[evaluation_0[2],evaluation_1[2]])\n",
    "print(\"F1 Score [0,1]: \",[evaluation_0[3],evaluation_1[3]])"
   ]
  },
  {
   "cell_type": "markdown",
   "id": "84b79ffb",
   "metadata": {},
   "source": [
    "## Thực hiện dự đoán trên tập test"
   ]
  },
  {
   "cell_type": "code",
   "execution_count": 22,
   "id": "3e86e17a",
   "metadata": {},
   "outputs": [],
   "source": [
    "predictions = test_data.map(lambda x: (predict(weights, x[0]), x[1]))\n"
   ]
  },
  {
   "cell_type": "markdown",
   "id": "7acdcb54",
   "metadata": {},
   "source": [
    "## Đánh giá trên tập test"
   ]
  },
  {
   "cell_type": "code",
   "execution_count": 23,
   "id": "a31e1dd5",
   "metadata": {},
   "outputs": [
    {
     "name": "stdout",
     "output_type": "stream",
     "text": [
      "Accuracy:  0.9984915437718505\n",
      "Precision [0,1]:  [0.9984915437718505, 0]\n",
      "Recall [0,1]:  [1.0, 0.0]\n",
      "F1 Score [0,1]:  [0.9992452025965031, 0]\n"
     ]
    }
   ],
   "source": [
    "accuracy_0, precision_0, recall_0, f1_score_0 = evaluate_metric(test_data,weights,0.0)\n",
    "accuracy_1, precision_1, recall_1, f1_score_1 = evaluate_metric(test_data,weights,1.0)\n",
    "\n",
    "print(\"Accuracy: \", accuracy_0)\n",
    "print(\"Precision [0,1]: \", [precision_0,precision_1])\n",
    "print(\"Recall [0,1]: \", [recall_0,recall_1])\n",
    "print(\"F1 Score [0,1]: \", [f1_score_0,f1_score_1])"
   ]
  },
  {
   "cell_type": "markdown",
   "id": "9c8cf6c1",
   "metadata": {},
   "source": [
    "## Lưu kết quả"
   ]
  },
  {
   "cell_type": "code",
   "execution_count": 24,
   "id": "ee655646",
   "metadata": {},
   "outputs": [
    {
     "name": "stdout",
     "output_type": "stream",
     "text": [
      "+--------------------+-----+----------+\n",
      "|            features|label|prediction|\n",
      "+--------------------+-----+----------+\n",
      "|[1.0, 2.430668086...|  0.0|         0|\n",
      "|[1.0, 3.240890781...|  0.0|         0|\n",
      "|[1.0, 4.224732626...|  0.0|         0|\n",
      "|[1.0, 4.514097874...|  0.0|         0|\n",
      "|[1.0, 4.687717023...|  0.0|         0|\n",
      "+--------------------+-----+----------+\n",
      "only showing top 5 rows\n",
      "\n"
     ]
    }
   ],
   "source": [
    "result= test_data.map(lambda x: (x[0],x[1],predict(weights, x[0]))).toDF([\"features\",\"label\",\"prediction\"])\n",
    "result.show(5)"
   ]
  },
  {
   "cell_type": "code",
   "execution_count": 25,
   "id": "14df27d1",
   "metadata": {},
   "outputs": [],
   "source": [
    "result.coalesce(1).write.mode(\"overwrite\").parquet(\"results\")"
   ]
  }
 ],
 "metadata": {
  "kernelspec": {
   "display_name": "min_ds-env2",
   "language": "python",
   "name": "python3"
  },
  "language_info": {
   "codemirror_mode": {
    "name": "ipython",
    "version": 3
   },
   "file_extension": ".py",
   "mimetype": "text/x-python",
   "name": "python",
   "nbconvert_exporter": "python",
   "pygments_lexer": "ipython3",
   "version": "3.10.15"
  }
 },
 "nbformat": 4,
 "nbformat_minor": 5
}
